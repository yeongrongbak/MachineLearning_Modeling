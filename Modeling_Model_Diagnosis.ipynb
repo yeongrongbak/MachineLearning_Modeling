{
 "cells": [
  {
   "cell_type": "markdown",
   "metadata": {},
   "source": [
    "# 모형 진단"
   ]
  },
  {
   "cell_type": "markdown",
   "metadata": {},
   "source": [
    "- 모형의 질에 대한 평가 방법\n",
    "- 잔차분석, ANOVA, 왈드 검정, 드롭인 이탈도 분석, AIC, BIC, 교차 타당성 오류, 붓스트랩 방법"
   ]
  },
  {
   "cell_type": "markdown",
   "metadata": {},
   "source": [
    "## 1. 잔차(Residual)"
   ]
  },
  {
   "cell_type": "code",
   "execution_count": 2,
   "metadata": {},
   "outputs": [],
   "source": [
    "housing <- read.table(\"https://www.jaredlander.com/data/housing.csv\",\n",
    "                     sep = \",\" , header = TRUE,\n",
    "                     stringsAsFactors = FALSE)"
   ]
  },
  {
   "cell_type": "code",
   "execution_count": 3,
   "metadata": {},
   "outputs": [],
   "source": [
    "names(housing) <- c(\"Neighborhood\", \"Class\", \"Units\", \"YearBuilt\",\n",
    "                   \"SqFt\", \"Income\", \"IncomePerSqFt\", \"Expense\",\n",
    "                   \"ExpensePerSqFt\", \"NetIncome\", \"Value\",\n",
    "                   \"ValuePerSqFt\", \"Boro\")"
   ]
  },
  {
   "cell_type": "markdown",
   "metadata": {},
   "source": [
    "- 이상점(Outlier) 제거"
   ]
  },
  {
   "cell_type": "code",
   "execution_count": 4,
   "metadata": {},
   "outputs": [
    {
     "data": {
      "text/html": [
       "<table>\n",
       "<thead><tr><th scope=col>Neighborhood</th><th scope=col>Class</th><th scope=col>Units</th><th scope=col>YearBuilt</th><th scope=col>SqFt</th><th scope=col>Income</th><th scope=col>IncomePerSqFt</th><th scope=col>Expense</th><th scope=col>ExpensePerSqFt</th><th scope=col>NetIncome</th><th scope=col>Value</th><th scope=col>ValuePerSqFt</th><th scope=col>Boro</th></tr></thead>\n",
       "<tbody>\n",
       "\t<tr><td>FINANCIAL     </td><td>R9-CONDOMINIUM</td><td> 42           </td><td>1920          </td><td> 36500        </td><td> 1332615      </td><td>36.51         </td><td> 342005       </td><td> 9.37         </td><td>  990610      </td><td> 7300000      </td><td>200.00        </td><td>Manhattan     </td></tr>\n",
       "\t<tr><td>FINANCIAL     </td><td>R4-CONDOMINIUM</td><td> 78           </td><td>1985          </td><td>126420        </td><td> 6633257      </td><td>52.47         </td><td>1762295       </td><td>13.94         </td><td> 4870962      </td><td>30690000      </td><td>242.76        </td><td>Manhattan     </td></tr>\n",
       "\t<tr><td>FINANCIAL     </td><td>RR-CONDOMINIUM</td><td>500           </td><td>  NA          </td><td>554174        </td><td>17310000      </td><td>31.24         </td><td>3543000       </td><td> 6.39         </td><td>13767000      </td><td>90970000      </td><td>164.15        </td><td>Manhattan     </td></tr>\n",
       "\t<tr><td>FINANCIAL     </td><td>R4-CONDOMINIUM</td><td>282           </td><td>1930          </td><td>249076        </td><td>11776313      </td><td>47.28         </td><td>2784670       </td><td>11.18         </td><td> 8991643      </td><td>67556006      </td><td>271.23        </td><td>Manhattan     </td></tr>\n",
       "\t<tr><td>TRIBECA       </td><td>R4-CONDOMINIUM</td><td>239           </td><td>1985          </td><td>219495        </td><td>10004582      </td><td>45.58         </td><td>2783197       </td><td>12.68         </td><td> 7221385      </td><td>54320996      </td><td>247.48        </td><td>Manhattan     </td></tr>\n",
       "\t<tr><td>TRIBECA       </td><td>R4-CONDOMINIUM</td><td>133           </td><td>1986          </td><td>139719        </td><td> 5127687      </td><td>36.70         </td><td>1497788       </td><td>10.72         </td><td> 3629899      </td><td>26737996      </td><td>191.37        </td><td>Manhattan     </td></tr>\n",
       "</tbody>\n",
       "</table>\n"
      ],
      "text/latex": [
       "\\begin{tabular}{r|lllllllllllll}\n",
       " Neighborhood & Class & Units & YearBuilt & SqFt & Income & IncomePerSqFt & Expense & ExpensePerSqFt & NetIncome & Value & ValuePerSqFt & Boro\\\\\n",
       "\\hline\n",
       "\t FINANCIAL      & R9-CONDOMINIUM &  42            & 1920           &  36500         &  1332615       & 36.51          &  342005        &  9.37          &   990610       &  7300000       & 200.00         & Manhattan     \\\\\n",
       "\t FINANCIAL      & R4-CONDOMINIUM &  78            & 1985           & 126420         &  6633257       & 52.47          & 1762295        & 13.94          &  4870962       & 30690000       & 242.76         & Manhattan     \\\\\n",
       "\t FINANCIAL      & RR-CONDOMINIUM & 500            &   NA           & 554174         & 17310000       & 31.24          & 3543000        &  6.39          & 13767000       & 90970000       & 164.15         & Manhattan     \\\\\n",
       "\t FINANCIAL      & R4-CONDOMINIUM & 282            & 1930           & 249076         & 11776313       & 47.28          & 2784670        & 11.18          &  8991643       & 67556006       & 271.23         & Manhattan     \\\\\n",
       "\t TRIBECA        & R4-CONDOMINIUM & 239            & 1985           & 219495         & 10004582       & 45.58          & 2783197        & 12.68          &  7221385       & 54320996       & 247.48         & Manhattan     \\\\\n",
       "\t TRIBECA        & R4-CONDOMINIUM & 133            & 1986           & 139719         &  5127687       & 36.70          & 1497788        & 10.72          &  3629899       & 26737996       & 191.37         & Manhattan     \\\\\n",
       "\\end{tabular}\n"
      ],
      "text/markdown": [
       "\n",
       "Neighborhood | Class | Units | YearBuilt | SqFt | Income | IncomePerSqFt | Expense | ExpensePerSqFt | NetIncome | Value | ValuePerSqFt | Boro | \n",
       "|---|---|---|---|---|---|\n",
       "| FINANCIAL      | R9-CONDOMINIUM |  42            | 1920           |  36500         |  1332615       | 36.51          |  342005        |  9.37          |   990610       |  7300000       | 200.00         | Manhattan      | \n",
       "| FINANCIAL      | R4-CONDOMINIUM |  78            | 1985           | 126420         |  6633257       | 52.47          | 1762295        | 13.94          |  4870962       | 30690000       | 242.76         | Manhattan      | \n",
       "| FINANCIAL      | RR-CONDOMINIUM | 500            |   NA           | 554174         | 17310000       | 31.24          | 3543000        |  6.39          | 13767000       | 90970000       | 164.15         | Manhattan      | \n",
       "| FINANCIAL      | R4-CONDOMINIUM | 282            | 1930           | 249076         | 11776313       | 47.28          | 2784670        | 11.18          |  8991643       | 67556006       | 271.23         | Manhattan      | \n",
       "| TRIBECA        | R4-CONDOMINIUM | 239            | 1985           | 219495         | 10004582       | 45.58          | 2783197        | 12.68          |  7221385       | 54320996       | 247.48         | Manhattan      | \n",
       "| TRIBECA        | R4-CONDOMINIUM | 133            | 1986           | 139719         |  5127687       | 36.70          | 1497788        | 10.72          |  3629899       | 26737996       | 191.37         | Manhattan      | \n",
       "\n",
       "\n"
      ],
      "text/plain": [
       "  Neighborhood Class          Units YearBuilt SqFt   Income   IncomePerSqFt\n",
       "1 FINANCIAL    R9-CONDOMINIUM  42   1920       36500  1332615 36.51        \n",
       "2 FINANCIAL    R4-CONDOMINIUM  78   1985      126420  6633257 52.47        \n",
       "3 FINANCIAL    RR-CONDOMINIUM 500     NA      554174 17310000 31.24        \n",
       "4 FINANCIAL    R4-CONDOMINIUM 282   1930      249076 11776313 47.28        \n",
       "5 TRIBECA      R4-CONDOMINIUM 239   1985      219495 10004582 45.58        \n",
       "6 TRIBECA      R4-CONDOMINIUM 133   1986      139719  5127687 36.70        \n",
       "  Expense ExpensePerSqFt NetIncome Value    ValuePerSqFt Boro     \n",
       "1  342005  9.37            990610   7300000 200.00       Manhattan\n",
       "2 1762295 13.94           4870962  30690000 242.76       Manhattan\n",
       "3 3543000  6.39          13767000  90970000 164.15       Manhattan\n",
       "4 2784670 11.18           8991643  67556006 271.23       Manhattan\n",
       "5 2783197 12.68           7221385  54320996 247.48       Manhattan\n",
       "6 1497788 10.72           3629899  26737996 191.37       Manhattan"
      ]
     },
     "metadata": {},
     "output_type": "display_data"
    }
   ],
   "source": [
    "housing <- housing[housing$Unit < 1000,]\n",
    "head(housing)"
   ]
  },
  {
   "cell_type": "markdown",
   "metadata": {},
   "source": [
    "- 모형 적합"
   ]
  },
  {
   "cell_type": "code",
   "execution_count": 5,
   "metadata": {},
   "outputs": [
    {
     "data": {
      "text/plain": [
       "\n",
       "Call:\n",
       "lm(formula = ValuePerSqFt ~ Units + SqFt + Boro, data = housing)\n",
       "\n",
       "Residuals:\n",
       "     Min       1Q   Median       3Q      Max \n",
       "-168.458  -22.680    1.493   26.290  261.761 \n",
       "\n",
       "Coefficients:\n",
       "                    Estimate Std. Error t value Pr(>|t|)    \n",
       "(Intercept)        4.430e+01  5.342e+00   8.293  < 2e-16 ***\n",
       "Units             -1.532e-01  2.421e-02  -6.330 2.88e-10 ***\n",
       "SqFt               2.070e-04  2.129e-05   9.723  < 2e-16 ***\n",
       "BoroBrooklyn       3.258e+01  5.561e+00   5.858 5.28e-09 ***\n",
       "BoroManhattan      1.274e+02  5.459e+00  23.343  < 2e-16 ***\n",
       "BoroQueens         3.011e+01  5.711e+00   5.272 1.46e-07 ***\n",
       "BoroStaten Island -7.114e+00  1.001e+01  -0.711    0.477    \n",
       "---\n",
       "Signif. codes:  0 '***' 0.001 '**' 0.01 '*' 0.05 '.' 0.1 ' ' 1\n",
       "\n",
       "Residual standard error: 43.2 on 2613 degrees of freedom\n",
       "Multiple R-squared:  0.6034,\tAdjusted R-squared:  0.6025 \n",
       "F-statistic: 662.6 on 6 and 2613 DF,  p-value: < 2.2e-16\n"
      ]
     },
     "metadata": {},
     "output_type": "display_data"
    }
   ],
   "source": [
    "house1 <- lm(ValuePerSqFt ~ Units + SqFt + Boro, data=housing)\n",
    "summary(house1)"
   ]
  },
  {
   "cell_type": "code",
   "execution_count": 6,
   "metadata": {},
   "outputs": [
    {
     "name": "stderr",
     "output_type": "stream",
     "text": [
      "Loading required package: ggplot2\n",
      "Warning message:\n",
      "\"Ignoring unknown aesthetics: xmin, xmax\""
     ]
    },
    {
     "data": {},
     "metadata": {},
     "output_type": "display_data"
    },
    {
     "data": {
      "image/png": "[encoded data removed]",
      "text/plain": [
       "plot without title"
      ]
     },
     "metadata": {},
     "output_type": "display_data"
    }
   ],
   "source": [
    "library(coefplot)\n",
    "coefplot(house1)"
   ]
  },
  {
   "cell_type": "markdown",
   "metadata": {},
   "source": [
    "- 선형 회귀에서 잔차에 기초한 진단 그래프로 3개 정도가 중요하다\n",
    "    - 적합값과 잔차를 대응한 그래프\n",
    "    - Q-Q(분위수-분위수) 그림\n",
    "    - 잔차에 대한 히스토 그램"
   ]
  },
  {
   "cell_type": "code",
   "execution_count": 7,
   "metadata": {},
   "outputs": [],
   "source": [
    "library(ggplot2)"
   ]
  },
  {
   "cell_type": "code",
   "execution_count": 8,
   "metadata": {},
   "outputs": [
    {
     "data": {
      "text/html": [
       "<table>\n",
       "<thead><tr><th scope=col>ValuePerSqFt</th><th scope=col>Units</th><th scope=col>SqFt</th><th scope=col>Boro</th><th scope=col>.hat</th><th scope=col>.sigma</th><th scope=col>.cooksd</th><th scope=col>.fitted</th><th scope=col>.resid</th><th scope=col>.stdresid</th></tr></thead>\n",
       "<tbody>\n",
       "\t<tr><td>200.00      </td><td> 42         </td><td> 36500      </td><td>Manhattan   </td><td>0.0009594821</td><td>43.20952    </td><td>5.424169e-05</td><td>172.8475    </td><td> 27.15248   </td><td> 0.6287655  </td></tr>\n",
       "\t<tr><td>242.76      </td><td> 78         </td><td>126420      </td><td>Manhattan   </td><td>0.0009232393</td><td>43.19848    </td><td>2.285253e-04</td><td>185.9418    </td><td> 56.81815   </td><td> 1.3157048  </td></tr>\n",
       "\t<tr><td>164.15      </td><td>500         </td><td>554174      </td><td>Manhattan   </td><td>0.0089836758</td><td>43.20347    </td><td>1.459368e-03</td><td>209.8077    </td><td>-45.65775   </td><td>-1.0615607  </td></tr>\n",
       "\t<tr><td>271.23      </td><td>282         </td><td>249076      </td><td>Manhattan   </td><td>0.0035168641</td><td>43.17583    </td><td>2.252653e-03</td><td>180.0672    </td><td> 91.16278   </td><td> 2.1137487  </td></tr>\n",
       "\t<tr><td>247.48      </td><td>239         </td><td>219495      </td><td>Manhattan   </td><td>0.0023865978</td><td>43.19289    </td><td>8.225193e-04</td><td>180.5341    </td><td> 66.94589   </td><td> 1.5513636  </td></tr>\n",
       "\t<tr><td>191.37      </td><td>133         </td><td>139719      </td><td>Manhattan   </td><td>0.0008934957</td><td>43.21225    </td><td>8.446170e-06</td><td>180.2661    </td><td> 11.10385   </td><td> 0.2571216  </td></tr>\n",
       "</tbody>\n",
       "</table>\n"
      ],
      "text/latex": [
       "\\begin{tabular}{r|llllllllll}\n",
       " ValuePerSqFt & Units & SqFt & Boro & .hat & .sigma & .cooksd & .fitted & .resid & .stdresid\\\\\n",
       "\\hline\n",
       "\t 200.00       &  42          &  36500       & Manhattan    & 0.0009594821 & 43.20952     & 5.424169e-05 & 172.8475     &  27.15248    &  0.6287655  \\\\\n",
       "\t 242.76       &  78          & 126420       & Manhattan    & 0.0009232393 & 43.19848     & 2.285253e-04 & 185.9418     &  56.81815    &  1.3157048  \\\\\n",
       "\t 164.15       & 500          & 554174       & Manhattan    & 0.0089836758 & 43.20347     & 1.459368e-03 & 209.8077     & -45.65775    & -1.0615607  \\\\\n",
       "\t 271.23       & 282          & 249076       & Manhattan    & 0.0035168641 & 43.17583     & 2.252653e-03 & 180.0672     &  91.16278    &  2.1137487  \\\\\n",
       "\t 247.48       & 239          & 219495       & Manhattan    & 0.0023865978 & 43.19289     & 8.225193e-04 & 180.5341     &  66.94589    &  1.5513636  \\\\\n",
       "\t 191.37       & 133          & 139719       & Manhattan    & 0.0008934957 & 43.21225     & 8.446170e-06 & 180.2661     &  11.10385    &  0.2571216  \\\\\n",
       "\\end{tabular}\n"
      ],
      "text/markdown": [
       "\n",
       "ValuePerSqFt | Units | SqFt | Boro | .hat | .sigma | .cooksd | .fitted | .resid | .stdresid | \n",
       "|---|---|---|---|---|---|\n",
       "| 200.00       |  42          |  36500       | Manhattan    | 0.0009594821 | 43.20952     | 5.424169e-05 | 172.8475     |  27.15248    |  0.6287655   | \n",
       "| 242.76       |  78          | 126420       | Manhattan    | 0.0009232393 | 43.19848     | 2.285253e-04 | 185.9418     |  56.81815    |  1.3157048   | \n",
       "| 164.15       | 500          | 554174       | Manhattan    | 0.0089836758 | 43.20347     | 1.459368e-03 | 209.8077     | -45.65775    | -1.0615607   | \n",
       "| 271.23       | 282          | 249076       | Manhattan    | 0.0035168641 | 43.17583     | 2.252653e-03 | 180.0672     |  91.16278    |  2.1137487   | \n",
       "| 247.48       | 239          | 219495       | Manhattan    | 0.0023865978 | 43.19289     | 8.225193e-04 | 180.5341     |  66.94589    |  1.5513636   | \n",
       "| 191.37       | 133          | 139719       | Manhattan    | 0.0008934957 | 43.21225     | 8.446170e-06 | 180.2661     |  11.10385    |  0.2571216   | \n",
       "\n",
       "\n"
      ],
      "text/plain": [
       "  ValuePerSqFt Units SqFt   Boro      .hat         .sigma   .cooksd     \n",
       "1 200.00        42    36500 Manhattan 0.0009594821 43.20952 5.424169e-05\n",
       "2 242.76        78   126420 Manhattan 0.0009232393 43.19848 2.285253e-04\n",
       "3 164.15       500   554174 Manhattan 0.0089836758 43.20347 1.459368e-03\n",
       "4 271.23       282   249076 Manhattan 0.0035168641 43.17583 2.252653e-03\n",
       "5 247.48       239   219495 Manhattan 0.0023865978 43.19289 8.225193e-04\n",
       "6 191.37       133   139719 Manhattan 0.0008934957 43.21225 8.446170e-06\n",
       "  .fitted  .resid    .stdresid \n",
       "1 172.8475  27.15248  0.6287655\n",
       "2 185.9418  56.81815  1.3157048\n",
       "3 209.8077 -45.65775 -1.0615607\n",
       "4 180.0672  91.16278  2.1137487\n",
       "5 180.5341  66.94589  1.5513636\n",
       "6 180.2661  11.10385  0.2571216"
      ]
     },
     "metadata": {},
     "output_type": "display_data"
    }
   ],
   "source": [
    "head(fortify(house1))"
   ]
  },
  {
   "cell_type": "code",
   "execution_count": 9,
   "metadata": {},
   "outputs": [],
   "source": [
    "h1 <- ggplot(aes(x=.fitted, y=.resid), data=house1)+\n",
    "geom_point()+\n",
    "geom_hline(yintercept = 0)+\n",
    "geom_smooth(se=FALSE)+\n",
    "labs(x=\"Fitted Values\", y=\"Residuals\")"
   ]
  },
  {
   "cell_type": "markdown",
   "metadata": {},
   "source": [
    "- 적합값과 잔차 대응 그래프"
   ]
  },
  {
   "cell_type": "code",
   "execution_count": 10,
   "metadata": {
    "scrolled": false
   },
   "outputs": [
    {
     "name": "stderr",
     "output_type": "stream",
     "text": [
      "`geom_smooth()` using method = 'gam'\n"
     ]
    },
    {
     "data": {},
     "metadata": {},
     "output_type": "display_data"
    },
    {
     "data": {
      "image/png": "[encoded data removed]",
      "text/plain": [
       "plot without title"
      ]
     },
     "metadata": {},
     "output_type": "display_data"
    }
   ],
   "source": [
    "h1"
   ]
  },
  {
   "cell_type": "markdown",
   "metadata": {},
   "source": [
    "- Boro 변수에 대한 효과 분리"
   ]
  },
  {
   "cell_type": "code",
   "execution_count": 11,
   "metadata": {
    "scrolled": true
   },
   "outputs": [
    {
     "name": "stderr",
     "output_type": "stream",
     "text": [
      "`geom_smooth()` using method = 'gam'\n"
     ]
    },
    {
     "data": {},
     "metadata": {},
     "output_type": "display_data"
    },
    {
     "data": {
      "image/png": "[encoded data removed]",
      "text/plain": [
       "plot without title"
      ]
     },
     "metadata": {},
     "output_type": "display_data"
    }
   ],
   "source": [
    "h1 + geom_point(aes(color=Boro))"
   ]
  },
  {
   "cell_type": "markdown",
   "metadata": {},
   "source": [
    "- Q-Q 그림"
   ]
  },
  {
   "cell_type": "code",
   "execution_count": 12,
   "metadata": {},
   "outputs": [
    {
     "data": {},
     "metadata": {},
     "output_type": "display_data"
    },
    {
     "data": {
      "image/png": "[encoded data removed]",
      "text/plain": [
       "Plot with title \"\""
      ]
     },
     "metadata": {},
     "output_type": "display_data"
    },
    {
     "data": {
      "image/png": "[encoded data removed]",
      "text/plain": [
       "plot without title"
      ]
     },
     "metadata": {},
     "output_type": "display_data"
    }
   ],
   "source": [
    "plot(house1, which = 2)\n",
    "ggplot(house1, aes(sample = .stdresid)) + stat_qq() + geom_abline()"
   ]
  },
  {
   "cell_type": "markdown",
   "metadata": {},
   "source": [
    "- 잔차에 대한 히스토 그램"
   ]
  },
  {
   "cell_type": "code",
   "execution_count": 13,
   "metadata": {},
   "outputs": [
    {
     "name": "stderr",
     "output_type": "stream",
     "text": [
      "`stat_bin()` using `bins = 30`. Pick better value with `binwidth`.\n"
     ]
    },
    {
     "data": {},
     "metadata": {},
     "output_type": "display_data"
    },
    {
     "data": {
      "image/png": "[encoded data removed]",
      "text/plain": [
       "plot without title"
      ]
     },
     "metadata": {},
     "output_type": "display_data"
    }
   ],
   "source": [
    "ggplot(house1, aes(x=.resid)) + geom_histogram()"
   ]
  },
  {
   "cell_type": "markdown",
   "metadata": {},
   "source": [
    "## 2. 여러 모형에 대한 비교"
   ]
  },
  {
   "cell_type": "code",
   "execution_count": 14,
   "metadata": {},
   "outputs": [],
   "source": [
    "house2 <- lm(ValuePerSqFt ~ Units * SqFt + Boro, data=housing)\n",
    "house3 <- lm(ValuePerSqFt ~ Units + SqFt * Boro + Class, data=housing)\n",
    "house4 <- lm(ValuePerSqFt ~ Units + SqFt * Boro + SqFt*Class, data=housing)\n",
    "house5 <- lm(ValuePerSqFt ~ Boro + Class , data=housing)"
   ]
  },
  {
   "cell_type": "code",
   "execution_count": 15,
   "metadata": {},
   "outputs": [
    {
     "name": "stderr",
     "output_type": "stream",
     "text": [
      "Warning message:\n",
      "\"Ignoring unknown aesthetics: xmin, xmax\""
     ]
    },
    {
     "data": {},
     "metadata": {},
     "output_type": "display_data"
    },
    {
     "data": {
      "image/png": "[encoded data removed]",
      "text/plain": [
       "plot without title"
      ]
     },
     "metadata": {},
     "output_type": "display_data"
    }
   ],
   "source": [
    "multiplot(house1, house2, house3, house4, house5, pointSize=2)"
   ]
  },
  {
   "cell_type": "code",
   "execution_count": 16,
   "metadata": {},
   "outputs": [
    {
     "data": {
      "text/html": [
       "<table>\n",
       "<thead><tr><th scope=col>Res.Df</th><th scope=col>RSS</th><th scope=col>Df</th><th scope=col>Sum of Sq</th><th scope=col>F</th><th scope=col>Pr(&gt;F)</th></tr></thead>\n",
       "<tbody>\n",
       "\t<tr><td>2613        </td><td>4877506     </td><td>NA          </td><td>        NA  </td><td>       NA   </td><td>          NA</td></tr>\n",
       "\t<tr><td>2612        </td><td>4847886     </td><td> 1          </td><td>  29620.08  </td><td>17.035965   </td><td>3.783142e-05</td></tr>\n",
       "\t<tr><td>2606        </td><td>4576769     </td><td> 6          </td><td> 271117.35  </td><td>25.988817   </td><td>3.625943e-30</td></tr>\n",
       "\t<tr><td>2603        </td><td>4525783     </td><td> 3          </td><td>  50986.11  </td><td> 9.774872   </td><td>2.066324e-06</td></tr>\n",
       "\t<tr><td>2612        </td><td>4895630     </td><td>-9          </td><td>-369847.43  </td><td>23.635269   </td><td>3.350594e-39</td></tr>\n",
       "</tbody>\n",
       "</table>\n"
      ],
      "text/latex": [
       "\\begin{tabular}{r|llllll}\n",
       " Res.Df & RSS & Df & Sum of Sq & F & Pr(>F)\\\\\n",
       "\\hline\n",
       "\t 2613         & 4877506      & NA           &         NA   &        NA    &           NA\\\\\n",
       "\t 2612         & 4847886      &  1           &   29620.08   & 17.035965    & 3.783142e-05\\\\\n",
       "\t 2606         & 4576769      &  6           &  271117.35   & 25.988817    & 3.625943e-30\\\\\n",
       "\t 2603         & 4525783      &  3           &   50986.11   &  9.774872    & 2.066324e-06\\\\\n",
       "\t 2612         & 4895630      & -9           & -369847.43   & 23.635269    & 3.350594e-39\\\\\n",
       "\\end{tabular}\n"
      ],
      "text/markdown": [
       "\n",
       "Res.Df | RSS | Df | Sum of Sq | F | Pr(>F) | \n",
       "|---|---|---|---|---|\n",
       "| 2613         | 4877506      | NA           |         NA   |        NA    |           NA | \n",
       "| 2612         | 4847886      |  1           |   29620.08   | 17.035965    | 3.783142e-05 | \n",
       "| 2606         | 4576769      |  6           |  271117.35   | 25.988817    | 3.625943e-30 | \n",
       "| 2603         | 4525783      |  3           |   50986.11   |  9.774872    | 2.066324e-06 | \n",
       "| 2612         | 4895630      | -9           | -369847.43   | 23.635269    | 3.350594e-39 | \n",
       "\n",
       "\n"
      ],
      "text/plain": [
       "  Res.Df RSS     Df Sum of Sq  F         Pr(>F)      \n",
       "1 2613   4877506 NA         NA        NA           NA\n",
       "2 2612   4847886  1   29620.08 17.035965 3.783142e-05\n",
       "3 2606   4576769  6  271117.35 25.988817 3.625943e-30\n",
       "4 2603   4525783  3   50986.11  9.774872 2.066324e-06\n",
       "5 2612   4895630 -9 -369847.43 23.635269 3.350594e-39"
      ]
     },
     "metadata": {},
     "output_type": "display_data"
    }
   ],
   "source": [
    "anova(house1, house2, house3, house4, house5)"
   ]
  },
  {
   "cell_type": "code",
   "execution_count": 17,
   "metadata": {},
   "outputs": [
    {
     "data": {
      "text/html": [
       "<table>\n",
       "<thead><tr><th></th><th scope=col>df</th><th scope=col>AIC</th></tr></thead>\n",
       "<tbody>\n",
       "\t<tr><th scope=row>house1</th><td> 8      </td><td>27177.78</td></tr>\n",
       "\t<tr><th scope=row>house2</th><td> 9      </td><td>27163.82</td></tr>\n",
       "\t<tr><th scope=row>house3</th><td>15      </td><td>27025.04</td></tr>\n",
       "\t<tr><th scope=row>house4</th><td>18      </td><td>27001.69</td></tr>\n",
       "\t<tr><th scope=row>house5</th><td> 9      </td><td>27189.50</td></tr>\n",
       "</tbody>\n",
       "</table>\n"
      ],
      "text/latex": [
       "\\begin{tabular}{r|ll}\n",
       "  & df & AIC\\\\\n",
       "\\hline\n",
       "\thouse1 &  8       & 27177.78\\\\\n",
       "\thouse2 &  9       & 27163.82\\\\\n",
       "\thouse3 & 15       & 27025.04\\\\\n",
       "\thouse4 & 18       & 27001.69\\\\\n",
       "\thouse5 &  9       & 27189.50\\\\\n",
       "\\end{tabular}\n"
      ],
      "text/markdown": [
       "\n",
       "| <!--/--> | df | AIC | \n",
       "|---|---|---|---|---|\n",
       "| house1 |  8       | 27177.78 | \n",
       "| house2 |  9       | 27163.82 | \n",
       "| house3 | 15       | 27025.04 | \n",
       "| house4 | 18       | 27001.69 | \n",
       "| house5 |  9       | 27189.50 | \n",
       "\n",
       "\n"
      ],
      "text/plain": [
       "       df AIC     \n",
       "house1  8 27177.78\n",
       "house2  9 27163.82\n",
       "house3 15 27025.04\n",
       "house4 18 27001.69\n",
       "house5  9 27189.50"
      ]
     },
     "metadata": {},
     "output_type": "display_data"
    }
   ],
   "source": [
    "AIC(house1, house2, house3, house4, house5)"
   ]
  },
  {
   "cell_type": "code",
   "execution_count": 19,
   "metadata": {},
   "outputs": [
    {
     "data": {
      "text/html": [
       "<table>\n",
       "<thead><tr><th></th><th scope=col>df</th><th scope=col>BIC</th></tr></thead>\n",
       "<tbody>\n",
       "\t<tr><th scope=row>house1</th><td> 8      </td><td>27224.75</td></tr>\n",
       "\t<tr><th scope=row>house2</th><td> 9      </td><td>27216.66</td></tr>\n",
       "\t<tr><th scope=row>house3</th><td>15      </td><td>27113.11</td></tr>\n",
       "\t<tr><th scope=row>house4</th><td>18      </td><td>27107.37</td></tr>\n",
       "\t<tr><th scope=row>house5</th><td> 9      </td><td>27242.34</td></tr>\n",
       "</tbody>\n",
       "</table>\n"
      ],
      "text/latex": [
       "\\begin{tabular}{r|ll}\n",
       "  & df & BIC\\\\\n",
       "\\hline\n",
       "\thouse1 &  8       & 27224.75\\\\\n",
       "\thouse2 &  9       & 27216.66\\\\\n",
       "\thouse3 & 15       & 27113.11\\\\\n",
       "\thouse4 & 18       & 27107.37\\\\\n",
       "\thouse5 &  9       & 27242.34\\\\\n",
       "\\end{tabular}\n"
      ],
      "text/markdown": [
       "\n",
       "| <!--/--> | df | BIC | \n",
       "|---|---|---|---|---|\n",
       "| house1 |  8       | 27224.75 | \n",
       "| house2 |  9       | 27216.66 | \n",
       "| house3 | 15       | 27113.11 | \n",
       "| house4 | 18       | 27107.37 | \n",
       "| house5 |  9       | 27242.34 | \n",
       "\n",
       "\n"
      ],
      "text/plain": [
       "       df BIC     \n",
       "house1  8 27224.75\n",
       "house2  9 27216.66\n",
       "house3 15 27113.11\n",
       "house4 18 27107.37\n",
       "house5  9 27242.34"
      ]
     },
     "metadata": {},
     "output_type": "display_data"
    }
   ],
   "source": [
    "BIC(house1, house2, house3, house4, house5)"
   ]
  },
  {
   "cell_type": "markdown",
   "metadata": {},
   "source": [
    "- 모형의 이탈도(Deviance)\n",
    "    - 모형에 하나의 변수가 추가될 때마다 이탈도는 2만큼 감소한다.\n",
    "    - 카테고리형 변수에서는 하나의 레벨이 추가될 때마다 이탈도가 2만큼 감소한다."
   ]
  },
  {
   "cell_type": "code",
   "execution_count": 20,
   "metadata": {},
   "outputs": [],
   "source": [
    "# ValuePerSqFt 변수에서 150을 기준으로 이진 변수를 만든다.\n",
    "housing$HighValues <- housing$ValuePerSqFt >= 150"
   ]
  },
  {
   "cell_type": "code",
   "execution_count": 24,
   "metadata": {},
   "outputs": [],
   "source": [
    "# 몇 가지 모형을 생성한다\n",
    "\n",
    "high1 <- glm(HighValues ~ Units + SqFt + Boro,\n",
    "            data = housing, family = binomial(link='logit'))\n",
    "high2 <- glm(HighValues ~ Units * SqFt + Boro ,\n",
    "            data = housing, family = binomial(link='logit'))\n",
    "high3 <- glm(HighValues ~ Units + SqFt * Boro + Class,\n",
    "            data = housing, family = binomial(link='logit'))\n",
    "high4 <- glm(HighValues ~ Units * SqFt * Boro + SqFt * Class,\n",
    "            data = housing, family = binomial(link='logit'))\n",
    "high5 <- glm(HighValues ~ Boro + Class,\n",
    "            data = housing, family = binomial(link='logit'))"
   ]
  },
  {
   "cell_type": "code",
   "execution_count": 25,
   "metadata": {},
   "outputs": [
    {
     "data": {
      "text/html": [
       "<table>\n",
       "<thead><tr><th scope=col>Resid. Df</th><th scope=col>Resid. Dev</th><th scope=col>Df</th><th scope=col>Deviance</th></tr></thead>\n",
       "<tbody>\n",
       "\t<tr><td>2613      </td><td>1687.484  </td><td> NA       </td><td>        NA</td></tr>\n",
       "\t<tr><td>2612      </td><td>1678.835  </td><td>  1       </td><td>  8.648311</td></tr>\n",
       "\t<tr><td>2606      </td><td>1627.504  </td><td>  6       </td><td> 51.330917</td></tr>\n",
       "\t<tr><td>2594      </td><td>1591.726  </td><td> 12       </td><td> 35.778202</td></tr>\n",
       "\t<tr><td>2612      </td><td>1662.290  </td><td>-18       </td><td>-70.563589</td></tr>\n",
       "</tbody>\n",
       "</table>\n"
      ],
      "text/latex": [
       "\\begin{tabular}{r|llll}\n",
       " Resid. Df & Resid. Dev & Df & Deviance\\\\\n",
       "\\hline\n",
       "\t 2613       & 1687.484   &  NA        &         NA\\\\\n",
       "\t 2612       & 1678.835   &   1        &   8.648311\\\\\n",
       "\t 2606       & 1627.504   &   6        &  51.330917\\\\\n",
       "\t 2594       & 1591.726   &  12        &  35.778202\\\\\n",
       "\t 2612       & 1662.290   & -18        & -70.563589\\\\\n",
       "\\end{tabular}\n"
      ],
      "text/markdown": [
       "\n",
       "Resid. Df | Resid. Dev | Df | Deviance | \n",
       "|---|---|---|---|---|\n",
       "| 2613       | 1687.484   |  NA        |         NA | \n",
       "| 2612       | 1678.835   |   1        |   8.648311 | \n",
       "| 2606       | 1627.504   |   6        |  51.330917 | \n",
       "| 2594       | 1591.726   |  12        |  35.778202 | \n",
       "| 2612       | 1662.290   | -18        | -70.563589 | \n",
       "\n",
       "\n"
      ],
      "text/plain": [
       "  Resid. Df Resid. Dev Df  Deviance  \n",
       "1 2613      1687.484    NA         NA\n",
       "2 2612      1678.835     1   8.648311\n",
       "3 2606      1627.504     6  51.330917\n",
       "4 2594      1591.726    12  35.778202\n",
       "5 2612      1662.290   -18 -70.563589"
      ]
     },
     "metadata": {},
     "output_type": "display_data"
    },
    {
     "data": {
      "text/html": [
       "<table>\n",
       "<thead><tr><th></th><th scope=col>df</th><th scope=col>AIC</th></tr></thead>\n",
       "<tbody>\n",
       "\t<tr><th scope=row>high1</th><td> 7      </td><td>1701.484</td></tr>\n",
       "\t<tr><th scope=row>high2</th><td> 8      </td><td>1694.835</td></tr>\n",
       "\t<tr><th scope=row>high3</th><td>14      </td><td>1655.504</td></tr>\n",
       "\t<tr><th scope=row>high4</th><td>26      </td><td>1643.726</td></tr>\n",
       "\t<tr><th scope=row>high5</th><td> 8      </td><td>1678.290</td></tr>\n",
       "</tbody>\n",
       "</table>\n"
      ],
      "text/latex": [
       "\\begin{tabular}{r|ll}\n",
       "  & df & AIC\\\\\n",
       "\\hline\n",
       "\thigh1 &  7       & 1701.484\\\\\n",
       "\thigh2 &  8       & 1694.835\\\\\n",
       "\thigh3 & 14       & 1655.504\\\\\n",
       "\thigh4 & 26       & 1643.726\\\\\n",
       "\thigh5 &  8       & 1678.290\\\\\n",
       "\\end{tabular}\n"
      ],
      "text/markdown": [
       "\n",
       "| <!--/--> | df | AIC | \n",
       "|---|---|---|---|---|\n",
       "| high1 |  7       | 1701.484 | \n",
       "| high2 |  8       | 1694.835 | \n",
       "| high3 | 14       | 1655.504 | \n",
       "| high4 | 26       | 1643.726 | \n",
       "| high5 |  8       | 1678.290 | \n",
       "\n",
       "\n"
      ],
      "text/plain": [
       "      df AIC     \n",
       "high1  7 1701.484\n",
       "high2  8 1694.835\n",
       "high3 14 1655.504\n",
       "high4 26 1643.726\n",
       "high5  8 1678.290"
      ]
     },
     "metadata": {},
     "output_type": "display_data"
    },
    {
     "data": {
      "text/html": [
       "<table>\n",
       "<thead><tr><th></th><th scope=col>df</th><th scope=col>BIC</th></tr></thead>\n",
       "<tbody>\n",
       "\t<tr><th scope=row>high1</th><td> 7      </td><td>1742.580</td></tr>\n",
       "\t<tr><th scope=row>high2</th><td> 8      </td><td>1741.803</td></tr>\n",
       "\t<tr><th scope=row>high3</th><td>14      </td><td>1737.697</td></tr>\n",
       "\t<tr><th scope=row>high4</th><td>26      </td><td>1796.370</td></tr>\n",
       "\t<tr><th scope=row>high5</th><td> 8      </td><td>1725.257</td></tr>\n",
       "</tbody>\n",
       "</table>\n"
      ],
      "text/latex": [
       "\\begin{tabular}{r|ll}\n",
       "  & df & BIC\\\\\n",
       "\\hline\n",
       "\thigh1 &  7       & 1742.580\\\\\n",
       "\thigh2 &  8       & 1741.803\\\\\n",
       "\thigh3 & 14       & 1737.697\\\\\n",
       "\thigh4 & 26       & 1796.370\\\\\n",
       "\thigh5 &  8       & 1725.257\\\\\n",
       "\\end{tabular}\n"
      ],
      "text/markdown": [
       "\n",
       "| <!--/--> | df | BIC | \n",
       "|---|---|---|---|---|\n",
       "| high1 |  7       | 1742.580 | \n",
       "| high2 |  8       | 1741.803 | \n",
       "| high3 | 14       | 1737.697 | \n",
       "| high4 | 26       | 1796.370 | \n",
       "| high5 |  8       | 1725.257 | \n",
       "\n",
       "\n"
      ],
      "text/plain": [
       "      df BIC     \n",
       "high1  7 1742.580\n",
       "high2  8 1741.803\n",
       "high3 14 1737.697\n",
       "high4 26 1796.370\n",
       "high5  8 1725.257"
      ]
     },
     "metadata": {},
     "output_type": "display_data"
    }
   ],
   "source": [
    "anova(high1, high2, high3, high4, high5)\n",
    "AIC(high1, high2, high3, high4, high5)\n",
    "BIC(high1, high2, high3, high4, high5)"
   ]
  },
  {
   "cell_type": "markdown",
   "metadata": {},
   "source": [
    "## 3. 교차 타당성 검증(Cross Validation)\n",
    "\n",
    "- ANOVA, AIC 등과 같은 모형 검정 방법은 현대에는 약간 구식 방법으로 여겨지고 있다.\n",
    "- k-폴드 교차 타당성 검증이라고 불리는 교차 검증을 모형의 질 판단을 위해 사용한다."
   ]
  },
  {
   "cell_type": "code",
   "execution_count": 26,
   "metadata": {},
   "outputs": [
    {
     "name": "stdout",
     "output_type": "stream",
     "text": [
      "package 'boot' successfully unpacked and MD5 sums checked\n",
      "\n",
      "The downloaded binary packages are in\n",
      "\tC:\\Users\\student\\AppData\\Local\\Temp\\Rtmpe0ntkS\\downloaded_packages\n"
     ]
    }
   ],
   "source": [
    "install.packages(\"boot\")"
   ]
  },
  {
   "cell_type": "code",
   "execution_count": 27,
   "metadata": {},
   "outputs": [],
   "source": [
    "library(boot)"
   ]
  },
  {
   "cell_type": "code",
   "execution_count": 28,
   "metadata": {},
   "outputs": [],
   "source": [
    "houseG1 <- glm(ValuePerSqFt ~ Units + SqFt + Boro,\n",
    "              data =housing, family =gaussian(link=\"identity\"))"
   ]
  },
  {
   "cell_type": "code",
   "execution_count": 30,
   "metadata": {},
   "outputs": [
    {
     "data": {
      "text/html": [
       "TRUE"
      ],
      "text/latex": [
       "TRUE"
      ],
      "text/markdown": [
       "TRUE"
      ],
      "text/plain": [
       "[1] TRUE"
      ]
     },
     "metadata": {},
     "output_type": "display_data"
    }
   ],
   "source": [
    "identical(coef(house1), coef(houseG1))"
   ]
  },
  {
   "cell_type": "markdown",
   "metadata": {},
   "source": [
    "- 5겹 교차 타당성 검증 실행"
   ]
  },
  {
   "cell_type": "code",
   "execution_count": 36,
   "metadata": {},
   "outputs": [],
   "source": [
    "houseCV1 <- cv.glm(housing, houseG1, K=5)"
   ]
  },
  {
   "cell_type": "markdown",
   "metadata": {},
   "source": [
    "- 첫번째 값은 모든 폴드에 대해 비용 함수에 기반을 둔 원래의 교차타당도 오차\n",
    "- 두번째 값은 K 폴드가 아닌 하나의 데이터 포인트를 기준으로 교차타당도를 측정"
   ]
  },
  {
   "cell_type": "code",
   "execution_count": 37,
   "metadata": {},
   "outputs": [
    {
     "data": {
      "text/html": [
       "<ol class=list-inline>\n",
       "\t<li>1872.76274864156</li>\n",
       "\t<li>1871.52166728434</li>\n",
       "</ol>\n"
      ],
      "text/latex": [
       "\\begin{enumerate*}\n",
       "\\item 1872.76274864156\n",
       "\\item 1871.52166728434\n",
       "\\end{enumerate*}\n"
      ],
      "text/markdown": [
       "1. 1872.76274864156\n",
       "2. 1871.52166728434\n",
       "\n",
       "\n"
      ],
      "text/plain": [
       "[1] 1872.763 1871.522"
      ]
     },
     "metadata": {},
     "output_type": "display_data"
    }
   ],
   "source": [
    "# 에러 체크\n",
    "houseCV1$delta"
   ]
  },
  {
   "cell_type": "code",
   "execution_count": 33,
   "metadata": {},
   "outputs": [],
   "source": [
    "# glm으로 모형 적합을 다시 시행\n",
    "\n",
    "houseG2 <- glm(ValuePerSqFt ~ Units * SqFt + Boro, data = housing)\n",
    "houseG3 <- glm(ValuePerSqFt ~ Units + SqFt * Boro + Class, data = housing)\n",
    "houseG4 <- glm(ValuePerSqFt ~ Units + SqFt * Boro + SqFt * Class , data = housing)\n",
    "houseG5 <- glm(ValuePerSqFt ~ Boro + Class, data = housing)"
   ]
  },
  {
   "cell_type": "code",
   "execution_count": 34,
   "metadata": {},
   "outputs": [],
   "source": [
    "# 교차 타당도 계산\n",
    "houseCV2 <- cv.glm(housing, houseG2, K=5)\n",
    "houseCV3 <- cv.glm(housing, houseG3, K=5)\n",
    "houseCV4 <- cv.glm(housing, houseG4, K=5)\n",
    "houseCV5 <- cv.glm(housing, houseG5, K=5)"
   ]
  },
  {
   "cell_type": "code",
   "execution_count": 38,
   "metadata": {},
   "outputs": [],
   "source": [
    "# 오차 확인\n",
    "cvResults <- as.data.frame(rbind(houseCV1$delta, houseCV2$delta,\n",
    "                                houseCV3$delta, houseCV4$delta,\n",
    "                                houseCV5$delta))"
   ]
  },
  {
   "cell_type": "code",
   "execution_count": 39,
   "metadata": {},
   "outputs": [],
   "source": [
    "names(cvResults) <- c(\"Error\", \"Adjusted.Error\")"
   ]
  },
  {
   "cell_type": "code",
   "execution_count": 40,
   "metadata": {},
   "outputs": [],
   "source": [
    "cvResults$Model <- sprintf(\"houseG%s\", 1:5)"
   ]
  },
  {
   "cell_type": "code",
   "execution_count": 41,
   "metadata": {},
   "outputs": [
    {
     "data": {
      "text/html": [
       "<table>\n",
       "<thead><tr><th scope=col>Error</th><th scope=col>Adjusted.Error</th><th scope=col>Model</th></tr></thead>\n",
       "<tbody>\n",
       "\t<tr><td>1872.763</td><td>1871.522</td><td>houseG1 </td></tr>\n",
       "\t<tr><td>1865.768</td><td>1864.029</td><td>houseG2 </td></tr>\n",
       "\t<tr><td>1769.512</td><td>1766.936</td><td>houseG3 </td></tr>\n",
       "\t<tr><td>1752.090</td><td>1749.262</td><td>houseG4 </td></tr>\n",
       "\t<tr><td>1877.338</td><td>1876.359</td><td>houseG5 </td></tr>\n",
       "</tbody>\n",
       "</table>\n"
      ],
      "text/latex": [
       "\\begin{tabular}{r|lll}\n",
       " Error & Adjusted.Error & Model\\\\\n",
       "\\hline\n",
       "\t 1872.763 & 1871.522 & houseG1 \\\\\n",
       "\t 1865.768 & 1864.029 & houseG2 \\\\\n",
       "\t 1769.512 & 1766.936 & houseG3 \\\\\n",
       "\t 1752.090 & 1749.262 & houseG4 \\\\\n",
       "\t 1877.338 & 1876.359 & houseG5 \\\\\n",
       "\\end{tabular}\n"
      ],
      "text/markdown": [
       "\n",
       "Error | Adjusted.Error | Model | \n",
       "|---|---|---|---|---|\n",
       "| 1872.763 | 1871.522 | houseG1  | \n",
       "| 1865.768 | 1864.029 | houseG2  | \n",
       "| 1769.512 | 1766.936 | houseG3  | \n",
       "| 1752.090 | 1749.262 | houseG4  | \n",
       "| 1877.338 | 1876.359 | houseG5  | \n",
       "\n",
       "\n"
      ],
      "text/plain": [
       "  Error    Adjusted.Error Model  \n",
       "1 1872.763 1871.522       houseG1\n",
       "2 1865.768 1864.029       houseG2\n",
       "3 1769.512 1766.936       houseG3\n",
       "4 1752.090 1749.262       houseG4\n",
       "5 1877.338 1876.359       houseG5"
      ]
     },
     "metadata": {},
     "output_type": "display_data"
    }
   ],
   "source": [
    "cvResults"
   ]
  }
 ],
 "metadata": {
  "kernelspec": {
   "display_name": "R",
   "language": "R",
   "name": "ir"
  },
  "language_info": {
   "codemirror_mode": "r",
   "file_extension": ".r",
   "mimetype": "text/x-r-source",
   "name": "R",
   "pygments_lexer": "r",
   "version": "3.4.3"
  }
 },
 "nbformat": 4,
 "nbformat_minor": 2
}
