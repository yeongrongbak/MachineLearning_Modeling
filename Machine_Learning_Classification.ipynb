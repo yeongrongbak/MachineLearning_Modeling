{
 "cells": [
  {
   "cell_type": "markdown",
   "metadata": {},
   "source": [
    "# Classification"
   ]
  },
  {
   "cell_type": "markdown",
   "metadata": {},
   "source": [
    "## Decision Tree"
   ]
  },
  {
   "cell_type": "markdown",
   "metadata": {},
   "source": [
    "- 분류(Classificaion)와 회귀(Regression)에 모두 활용 될 수 있는 알고리즘\n",
    "- 각 영역의 순도(Homogeneity) 증가 또는 불순도(impurity) 감소의 방향으로 학습을 진행\n",
    "- 엔트로피, 지니 계수가 대표적인 불순도 측정 지표\n",
    "- 의사결정나무의 학습 과정은 재귀적분기(Recursive Partitioning)와 가지치기(Pruning) 두 가지의 과정으로 이루어짐\n",
    "- 의사결정나무는 결정 경계(Decision Boundary)가 데이터에 수직이어서 비선형 분류에 적합하지 않다\n",
    "- 이러한 문제를 극복하기 위해 나온 방법이 랜덤 포레스트(Random Forest)"
   ]
  },
  {
   "cell_type": "code",
   "execution_count": 1,
   "metadata": {},
   "outputs": [
    {
     "name": "stderr",
     "output_type": "stream",
     "text": [
      "also installing the dependencies 'RcppEigen', 'RSpectra', 'rARPACK'\n",
      "\n"
     ]
    },
    {
     "name": "stdout",
     "output_type": "stream",
     "text": [
      "package 'RcppEigen' successfully unpacked and MD5 sums checked\n",
      "package 'RSpectra' successfully unpacked and MD5 sums checked\n",
      "package 'rARPACK' successfully unpacked and MD5 sums checked\n",
      "package 'HDclassif' successfully unpacked and MD5 sums checked\n",
      "\n",
      "The downloaded binary packages are in\n",
      "\tC:\\Users\\student\\AppData\\Local\\Temp\\RtmpamFHBS\\downloaded_packages\n"
     ]
    },
    {
     "name": "stderr",
     "output_type": "stream",
     "text": [
      "Loading required package: MASS\n"
     ]
    }
   ],
   "source": [
    "install.packages(\"HDclassif\")\n",
    "library(HDclassif)\n",
    "data(wine)"
   ]
  },
  {
   "cell_type": "code",
   "execution_count": 2,
   "metadata": {},
   "outputs": [
    {
     "data": {
      "text/html": [
       "<table>\n",
       "<thead><tr><th scope=col>class</th><th scope=col>V1</th><th scope=col>V2</th><th scope=col>V3</th><th scope=col>V4</th><th scope=col>V5</th><th scope=col>V6</th><th scope=col>V7</th><th scope=col>V8</th><th scope=col>V9</th><th scope=col>V10</th><th scope=col>V11</th><th scope=col>V12</th><th scope=col>V13</th></tr></thead>\n",
       "<tbody>\n",
       "\t<tr><td>1    </td><td>14.23</td><td>1.71 </td><td>2.43 </td><td>15.6 </td><td>127  </td><td>2.80 </td><td>3.06 </td><td>0.28 </td><td>2.29 </td><td>5.64 </td><td>1.04 </td><td>3.92 </td><td>1065 </td></tr>\n",
       "\t<tr><td>1    </td><td>13.20</td><td>1.78 </td><td>2.14 </td><td>11.2 </td><td>100  </td><td>2.65 </td><td>2.76 </td><td>0.26 </td><td>1.28 </td><td>4.38 </td><td>1.05 </td><td>3.40 </td><td>1050 </td></tr>\n",
       "\t<tr><td>1    </td><td>13.16</td><td>2.36 </td><td>2.67 </td><td>18.6 </td><td>101  </td><td>2.80 </td><td>3.24 </td><td>0.30 </td><td>2.81 </td><td>5.68 </td><td>1.03 </td><td>3.17 </td><td>1185 </td></tr>\n",
       "\t<tr><td>1    </td><td>14.37</td><td>1.95 </td><td>2.50 </td><td>16.8 </td><td>113  </td><td>3.85 </td><td>3.49 </td><td>0.24 </td><td>2.18 </td><td>7.80 </td><td>0.86 </td><td>3.45 </td><td>1480 </td></tr>\n",
       "\t<tr><td>1    </td><td>13.24</td><td>2.59 </td><td>2.87 </td><td>21.0 </td><td>118  </td><td>2.80 </td><td>2.69 </td><td>0.39 </td><td>1.82 </td><td>4.32 </td><td>1.04 </td><td>2.93 </td><td> 735 </td></tr>\n",
       "\t<tr><td>1    </td><td>14.20</td><td>1.76 </td><td>2.45 </td><td>15.2 </td><td>112  </td><td>3.27 </td><td>3.39 </td><td>0.34 </td><td>1.97 </td><td>6.75 </td><td>1.05 </td><td>2.85 </td><td>1450 </td></tr>\n",
       "</tbody>\n",
       "</table>\n"
      ],
      "text/latex": [
       "\\begin{tabular}{r|llllllllllllll}\n",
       " class & V1 & V2 & V3 & V4 & V5 & V6 & V7 & V8 & V9 & V10 & V11 & V12 & V13\\\\\n",
       "\\hline\n",
       "\t 1     & 14.23 & 1.71  & 2.43  & 15.6  & 127   & 2.80  & 3.06  & 0.28  & 2.29  & 5.64  & 1.04  & 3.92  & 1065 \\\\\n",
       "\t 1     & 13.20 & 1.78  & 2.14  & 11.2  & 100   & 2.65  & 2.76  & 0.26  & 1.28  & 4.38  & 1.05  & 3.40  & 1050 \\\\\n",
       "\t 1     & 13.16 & 2.36  & 2.67  & 18.6  & 101   & 2.80  & 3.24  & 0.30  & 2.81  & 5.68  & 1.03  & 3.17  & 1185 \\\\\n",
       "\t 1     & 14.37 & 1.95  & 2.50  & 16.8  & 113   & 3.85  & 3.49  & 0.24  & 2.18  & 7.80  & 0.86  & 3.45  & 1480 \\\\\n",
       "\t 1     & 13.24 & 2.59  & 2.87  & 21.0  & 118   & 2.80  & 2.69  & 0.39  & 1.82  & 4.32  & 1.04  & 2.93  &  735 \\\\\n",
       "\t 1     & 14.20 & 1.76  & 2.45  & 15.2  & 112   & 3.27  & 3.39  & 0.34  & 1.97  & 6.75  & 1.05  & 2.85  & 1450 \\\\\n",
       "\\end{tabular}\n"
      ],
      "text/markdown": [
       "\n",
       "class | V1 | V2 | V3 | V4 | V5 | V6 | V7 | V8 | V9 | V10 | V11 | V12 | V13 | \n",
       "|---|---|---|---|---|---|\n",
       "| 1     | 14.23 | 1.71  | 2.43  | 15.6  | 127   | 2.80  | 3.06  | 0.28  | 2.29  | 5.64  | 1.04  | 3.92  | 1065  | \n",
       "| 1     | 13.20 | 1.78  | 2.14  | 11.2  | 100   | 2.65  | 2.76  | 0.26  | 1.28  | 4.38  | 1.05  | 3.40  | 1050  | \n",
       "| 1     | 13.16 | 2.36  | 2.67  | 18.6  | 101   | 2.80  | 3.24  | 0.30  | 2.81  | 5.68  | 1.03  | 3.17  | 1185  | \n",
       "| 1     | 14.37 | 1.95  | 2.50  | 16.8  | 113   | 3.85  | 3.49  | 0.24  | 2.18  | 7.80  | 0.86  | 3.45  | 1480  | \n",
       "| 1     | 13.24 | 2.59  | 2.87  | 21.0  | 118   | 2.80  | 2.69  | 0.39  | 1.82  | 4.32  | 1.04  | 2.93  |  735  | \n",
       "| 1     | 14.20 | 1.76  | 2.45  | 15.2  | 112   | 3.27  | 3.39  | 0.34  | 1.97  | 6.75  | 1.05  | 2.85  | 1450  | \n",
       "\n",
       "\n"
      ],
      "text/plain": [
       "  class V1    V2   V3   V4   V5  V6   V7   V8   V9   V10  V11  V12  V13 \n",
       "1 1     14.23 1.71 2.43 15.6 127 2.80 3.06 0.28 2.29 5.64 1.04 3.92 1065\n",
       "2 1     13.20 1.78 2.14 11.2 100 2.65 2.76 0.26 1.28 4.38 1.05 3.40 1050\n",
       "3 1     13.16 2.36 2.67 18.6 101 2.80 3.24 0.30 2.81 5.68 1.03 3.17 1185\n",
       "4 1     14.37 1.95 2.50 16.8 113 3.85 3.49 0.24 2.18 7.80 0.86 3.45 1480\n",
       "5 1     13.24 2.59 2.87 21.0 118 2.80 2.69 0.39 1.82 4.32 1.04 2.93  735\n",
       "6 1     14.20 1.76 2.45 15.2 112 3.27 3.39 0.34 1.97 6.75 1.05 2.85 1450"
      ]
     },
     "metadata": {},
     "output_type": "display_data"
    }
   ],
   "source": [
    "head(wine)"
   ]
  },
  {
   "cell_type": "code",
   "execution_count": 3,
   "metadata": {},
   "outputs": [
    {
     "name": "stdout",
     "output_type": "stream",
     "text": [
      "'data.frame':\t178 obs. of  14 variables:\n",
      " $ class: int  1 1 1 1 1 1 1 1 1 1 ...\n",
      " $ V1   : num  14.2 13.2 13.2 14.4 13.2 ...\n",
      " $ V2   : num  1.71 1.78 2.36 1.95 2.59 1.76 1.87 2.15 1.64 1.35 ...\n",
      " $ V3   : num  2.43 2.14 2.67 2.5 2.87 2.45 2.45 2.61 2.17 2.27 ...\n",
      " $ V4   : num  15.6 11.2 18.6 16.8 21 15.2 14.6 17.6 14 16 ...\n",
      " $ V5   : int  127 100 101 113 118 112 96 121 97 98 ...\n",
      " $ V6   : num  2.8 2.65 2.8 3.85 2.8 3.27 2.5 2.6 2.8 2.98 ...\n",
      " $ V7   : num  3.06 2.76 3.24 3.49 2.69 3.39 2.52 2.51 2.98 3.15 ...\n",
      " $ V8   : num  0.28 0.26 0.3 0.24 0.39 0.34 0.3 0.31 0.29 0.22 ...\n",
      " $ V9   : num  2.29 1.28 2.81 2.18 1.82 1.97 1.98 1.25 1.98 1.85 ...\n",
      " $ V10  : num  5.64 4.38 5.68 7.8 4.32 6.75 5.25 5.05 5.2 7.22 ...\n",
      " $ V11  : num  1.04 1.05 1.03 0.86 1.04 1.05 1.02 1.06 1.08 1.01 ...\n",
      " $ V12  : num  3.92 3.4 3.17 3.45 2.93 2.85 3.58 3.58 2.85 3.55 ...\n",
      " $ V13  : int  1065 1050 1185 1480 735 1450 1290 1295 1045 1045 ...\n"
     ]
    }
   ],
   "source": [
    "str(wine)"
   ]
  },
  {
   "cell_type": "markdown",
   "metadata": {},
   "source": [
    "* ### factozize the target variable"
   ]
  },
  {
   "cell_type": "code",
   "execution_count": 4,
   "metadata": {},
   "outputs": [
    {
     "data": {
      "text/plain": [
       "\n",
       " 1  2  3 \n",
       "59 71 48 "
      ]
     },
     "metadata": {},
     "output_type": "display_data"
    }
   ],
   "source": [
    "wine$class <- factor(wine$class)\n",
    "table(wine$class)"
   ]
  },
  {
   "cell_type": "markdown",
   "metadata": {},
   "source": [
    "* ### data Split"
   ]
  },
  {
   "cell_type": "markdown",
   "metadata": {},
   "source": [
    "train data 70 % validation data 30%로 데이터 분할"
   ]
  },
  {
   "cell_type": "code",
   "execution_count": 5,
   "metadata": {},
   "outputs": [
    {
     "data": {
      "text/plain": [
       "ind\n",
       "  1   2 \n",
       "128  50 "
      ]
     },
     "metadata": {},
     "output_type": "display_data"
    }
   ],
   "source": [
    "set.seed(2020)\n",
    "ind <- sample(2, nrow(wine), replace = TRUE , prob = c(0.7, 0.3))\n",
    "table(ind)"
   ]
  },
  {
   "cell_type": "code",
   "execution_count": 6,
   "metadata": {},
   "outputs": [],
   "source": [
    "tr_wine <- wine[ind==1,]\n",
    "val_wine <- wine[ind==2,]"
   ]
  },
  {
   "cell_type": "code",
   "execution_count": 7,
   "metadata": {
    "scrolled": true
   },
   "outputs": [
    {
     "name": "stdout",
     "output_type": "stream",
     "text": [
      "'data.frame':\t128 obs. of  14 variables:\n",
      " $ class: Factor w/ 3 levels \"1\",\"2\",\"3\": 1 1 1 1 1 1 1 1 1 1 ...\n",
      " $ V1   : num  14.2 13.2 13.2 14.4 13.2 ...\n",
      " $ V2   : num  1.71 1.78 2.36 1.95 2.59 1.76 1.87 2.15 1.64 1.35 ...\n",
      " $ V3   : num  2.43 2.14 2.67 2.5 2.87 2.45 2.45 2.61 2.17 2.27 ...\n",
      " $ V4   : num  15.6 11.2 18.6 16.8 21 15.2 14.6 17.6 14 16 ...\n",
      " $ V5   : int  127 100 101 113 118 112 96 121 97 98 ...\n",
      " $ V6   : num  2.8 2.65 2.8 3.85 2.8 3.27 2.5 2.6 2.8 2.98 ...\n",
      " $ V7   : num  3.06 2.76 3.24 3.49 2.69 3.39 2.52 2.51 2.98 3.15 ...\n",
      " $ V8   : num  0.28 0.26 0.3 0.24 0.39 0.34 0.3 0.31 0.29 0.22 ...\n",
      " $ V9   : num  2.29 1.28 2.81 2.18 1.82 1.97 1.98 1.25 1.98 1.85 ...\n",
      " $ V10  : num  5.64 4.38 5.68 7.8 4.32 6.75 5.25 5.05 5.2 7.22 ...\n",
      " $ V11  : num  1.04 1.05 1.03 0.86 1.04 1.05 1.02 1.06 1.08 1.01 ...\n",
      " $ V12  : num  3.92 3.4 3.17 3.45 2.93 2.85 3.58 3.58 2.85 3.55 ...\n",
      " $ V13  : int  1065 1050 1185 1480 735 1450 1290 1295 1045 1045 ...\n"
     ]
    }
   ],
   "source": [
    "str(tr_wine)"
   ]
  },
  {
   "cell_type": "markdown",
   "metadata": {},
   "source": [
    "* ### Training model"
   ]
  },
  {
   "cell_type": "code",
   "execution_count": 8,
   "metadata": {},
   "outputs": [
    {
     "name": "stderr",
     "output_type": "stream",
     "text": [
      "also installing the dependencies 'TH.data', 'multcomp', 'strucchange', 'coin', 'sandwich'\n",
      "\n"
     ]
    },
    {
     "name": "stdout",
     "output_type": "stream",
     "text": [
      "package 'TH.data' successfully unpacked and MD5 sums checked\n",
      "package 'multcomp' successfully unpacked and MD5 sums checked\n",
      "package 'strucchange' successfully unpacked and MD5 sums checked\n",
      "package 'coin' successfully unpacked and MD5 sums checked\n",
      "package 'sandwich' successfully unpacked and MD5 sums checked\n",
      "package 'party' successfully unpacked and MD5 sums checked\n",
      "\n",
      "The downloaded binary packages are in\n",
      "\tC:\\Users\\student\\AppData\\Local\\Temp\\RtmpamFHBS\\downloaded_packages\n"
     ]
    },
    {
     "name": "stderr",
     "output_type": "stream",
     "text": [
      "Loading required package: grid\n",
      "Loading required package: mvtnorm\n",
      "Loading required package: modeltools\n",
      "Loading required package: stats4\n",
      "Loading required package: strucchange\n",
      "Loading required package: zoo\n",
      "\n",
      "Attaching package: 'zoo'\n",
      "\n",
      "The following objects are masked from 'package:base':\n",
      "\n",
      "    as.Date, as.Date.numeric\n",
      "\n",
      "Loading required package: sandwich\n"
     ]
    }
   ],
   "source": [
    "install.packages(\"party\")\n",
    "library(party)"
   ]
  },
  {
   "cell_type": "code",
   "execution_count": 13,
   "metadata": {},
   "outputs": [],
   "source": [
    "wine_party <- ctree(class~. , data=tr_wine)"
   ]
  },
  {
   "cell_type": "code",
   "execution_count": 14,
   "metadata": {},
   "outputs": [
    {
     "name": "stdout",
     "output_type": "stream",
     "text": [
      "Formal class 'BinaryTree' [package \"party\"] with 10 slots\n",
      "  ..@ data               :Formal class 'ModelEnvFormula' [package \"modeltools\"] with 5 slots\n",
      "  .. .. ..@ env    :<environment: 0x0000000031942848> \n",
      "  .. .. ..@ get    :function (which, data = NULL, frame = parent.frame(), envir = MEF@env)  \n",
      "  .. .. ..@ set    :function (which = NULL, data = NULL, frame = parent.frame(), envir = MEF@env)  \n",
      "  .. .. ..@ hooks  : list()\n",
      "  .. .. ..@ formula:List of 2\n",
      "  .. .. .. ..$ response: language ~class\n",
      "  .. .. .. ..$ input   : language ~V1 + V2 + V3 + V4 + V5 + V6 + V7 + V8 + V9 + V10 + V11 + V12 + V13\n",
      "  ..@ responses          :Formal class 'ResponseFrame' [package \"party\"] with 14 slots\n",
      "  .. .. ..@ test_trafo     : num [1:128, 1:3] 1 1 1 1 1 1 1 1 1 1 ...\n",
      "  .. .. .. ..- attr(*, \"dimnames\")=List of 2\n",
      "  .. .. .. .. ..$ : chr [1:128] \"1\" \"2\" \"3\" \"4\" ...\n",
      "  .. .. .. .. ..$ : chr [1:3] \"X1\" \"X2\" \"X3\"\n",
      "  .. .. ..@ predict_trafo  : num [1:128, 1:3] 1 1 1 1 1 1 1 1 1 1 ...\n",
      "  .. .. .. ..- attr(*, \"dimnames\")=List of 2\n",
      "  .. .. .. .. ..$ : chr [1:128] \"1\" \"2\" \"3\" \"4\" ...\n",
      "  .. .. .. .. ..$ : chr [1:3] \"class.1\" \"class.2\" \"class.3\"\n",
      "  .. .. ..@ variables      :'data.frame':\t128 obs. of  1 variable:\n",
      "  .. .. .. ..$ class: Factor w/ 3 levels \"1\",\"2\",\"3\": 1 1 1 1 1 1 1 1 1 1 ...\n",
      "  .. .. .. ..- attr(*, \"terms\")=Classes 'terms', 'formula'  language ~class\n",
      "  .. .. .. .. .. ..- attr(*, \"variables\")= language list(class)\n",
      "  .. .. .. .. .. ..- attr(*, \"factors\")= int [1, 1] 1\n",
      "  .. .. .. .. .. .. ..- attr(*, \"dimnames\")=List of 2\n",
      "  .. .. .. .. .. .. .. ..$ : chr \"class\"\n",
      "  .. .. .. .. .. .. .. ..$ : chr \"class\"\n",
      "  .. .. .. .. .. ..- attr(*, \"term.labels\")= chr \"class\"\n",
      "  .. .. .. .. .. ..- attr(*, \"order\")= int 1\n",
      "  .. .. .. .. .. ..- attr(*, \"intercept\")= int 1\n",
      "  .. .. .. .. .. ..- attr(*, \"response\")= int 0\n",
      "  .. .. .. .. .. ..- attr(*, \".Environment\")=<environment: 0x0000000008246b50> \n",
      "  .. .. .. .. .. ..- attr(*, \"predvars\")= language list(class)\n",
      "  .. .. .. .. .. ..- attr(*, \"dataClasses\")= Named chr \"factor\"\n",
      "  .. .. .. .. .. .. ..- attr(*, \"names\")= chr \"class\"\n",
      "  .. .. ..@ transformations:List of 1\n",
      "  .. .. .. ..$ : num [1:128, 1:3] 1 1 1 1 1 1 1 1 1 1 ...\n",
      "  .. .. .. .. ..- attr(*, \"dimnames\")=List of 2\n",
      "  .. .. .. .. .. ..$ : chr [1:128] \"1\" \"2\" \"3\" \"4\" ...\n",
      "  .. .. .. .. .. ..$ : chr [1:3] \"1\" \"2\" \"3\"\n",
      "  .. .. ..@ is_nominal     : Named logi TRUE\n",
      "  .. .. .. ..- attr(*, \"names\")= chr \"class\"\n",
      "  .. .. ..@ is_ordinal     : Named logi FALSE\n",
      "  .. .. .. ..- attr(*, \"names\")= chr \"class\"\n",
      "  .. .. ..@ is_censored    : Named logi FALSE\n",
      "  .. .. .. ..- attr(*, \"names\")= chr \"class\"\n",
      "  .. .. ..@ ordering       :List of 1\n",
      "  .. .. .. ..$ class: NULL\n",
      "  .. .. ..@ levels         :List of 1\n",
      "  .. .. .. ..$ class: chr [1:3] \"1\" \"2\" \"3\"\n",
      "  .. .. ..@ scores         :List of 1\n",
      "  .. .. .. ..$ class: num 0\n",
      "  .. .. ..@ has_missings   : Named logi FALSE\n",
      "  .. .. .. ..- attr(*, \"names\")= chr \"class\"\n",
      "  .. .. ..@ whichNA        :List of 1\n",
      "  .. .. .. ..$ class: int(0) \n",
      "  .. .. ..@ nobs           : int 128\n",
      "  .. .. ..@ ninputs        : int 1\n",
      "  ..@ cond_distr_response:function (newdata = NULL, mincriterion = 0, ...)  \n",
      "  ..@ predict_response   :function (newdata = NULL, mincriterion = 0, type = c(\"response\", \"node\", \n",
      "    \"prob\"), ...)  \n",
      "  ..@ prediction_weights :function (newdata = NULL, mincriterion = 0, ...)  \n",
      "  ..@ get_where          :function (newdata = NULL, mincriterion = 0, ...)  \n",
      "  ..@ update             :function (weights = NULL)  \n",
      "  ..@ tree               :List of 10\n",
      "  .. ..$ nodeID    : int 1\n",
      "  .. ..$ weights   : num [1:128] 1 1 1 1 1 1 1 1 1 1 ...\n",
      "  .. ..$ criterion :List of 3\n",
      "  .. .. ..$ statistic   : Named num [1:13] 78.3 38.2 19.8 34.6 13.4 ...\n",
      "  .. .. .. ..- attr(*, \"names\")= chr [1:13] \"V1\" \"V2\" \"V3\" \"V4\" ...\n",
      "  .. .. ..$ criterion   : Named num [1:13] 1 1 0.999 1 0.984 ...\n",
      "  .. .. .. ..- attr(*, \"names\")= chr [1:13] \"V1\" \"V2\" \"V3\" \"V4\" ...\n",
      "  .. .. ..$ maxcriterion: num 1\n",
      "  .. ..$ terminal  : logi FALSE\n",
      "  .. ..$ psplit    :List of 7\n",
      "  .. .. ..$ variableID     : int 7\n",
      "  .. .. ..$ ordered        : logi TRUE\n",
      "  .. .. ..$ splitpoint     : num 1.39\n",
      "  .. .. ..$ splitstatistics: num [1:128] 5.12 7.47 3.77 2.35 7.7 ...\n",
      "  .. .. ..$ toleft         : int 1\n",
      "  .. .. ..$ table          : NULL\n",
      "  .. .. ..$ variableName   : chr \"V7\"\n",
      "  .. .. ..- attr(*, \"class\")= chr \"orderedSplit\"\n",
      "  .. ..$ ssplits   : list()\n",
      "  .. ..$ prediction: num [1:3] 0.312 0.406 0.281\n",
      "  .. ..$ left      :List of 10\n",
      "  .. .. ..$ nodeID    : int 2\n",
      "  .. .. ..$ weights   : num [1:128] 0 0 0 0 0 0 0 0 0 0 ...\n",
      "  .. .. ..$ criterion :List of 3\n",
      "  .. .. .. ..$ statistic   : Named num [1:13] 9.14 11.94 13.68 14.02 2.15 ...\n",
      "  .. .. .. .. ..- attr(*, \"names\")= chr [1:13] \"V1\" \"V2\" \"V3\" \"V4\" ...\n",
      "  .. .. .. ..$ criterion   : Named num [1:13] 0.968 0.993 0.997 0.998 0.136 ...\n",
      "  .. .. .. .. ..- attr(*, \"names\")= chr [1:13] \"V1\" \"V2\" \"V3\" \"V4\" ...\n",
      "  .. .. .. ..$ maxcriterion: num 1\n",
      "  .. .. ..$ terminal  : logi FALSE\n",
      "  .. .. ..$ psplit    :List of 7\n",
      "  .. .. .. ..$ variableID     : int 11\n",
      "  .. .. .. ..$ ordered        : logi TRUE\n",
      "  .. .. .. ..$ splitpoint     : num 0.89\n",
      "  .. .. .. ..$ splitstatistics: num [1:128] 0 0 0 0 0 0 0 0 0 0 ...\n",
      "  .. .. .. ..$ toleft         : int 1\n",
      "  .. .. .. ..$ table          : NULL\n",
      "  .. .. .. ..$ variableName   : chr \"V11\"\n",
      "  .. .. .. ..- attr(*, \"class\")= chr \"orderedSplit\"\n",
      "  .. .. ..$ ssplits   : list()\n",
      "  .. .. ..$ prediction: num [1:3] 0 0.167 0.833\n",
      "  .. .. ..$ left      :List of 10\n",
      "  .. .. .. ..$ nodeID    : int 3\n",
      "  .. .. .. ..$ weights   : num [1:128] 0 0 0 0 0 0 0 0 0 0 ...\n",
      "  .. .. .. ..$ criterion :List of 3\n",
      "  .. .. .. .. ..$ statistic   : Named num [1:13] 0 0 0 0 0 0 0 0 0 0 ...\n",
      "  .. .. .. .. .. ..- attr(*, \"names\")= chr [1:13] \"V1\" \"V2\" \"V3\" \"V4\" ...\n",
      "  .. .. .. .. ..$ criterion   : Named num [1:13] 0 0 0 0 0 0 0 0 0 0 ...\n",
      "  .. .. .. .. .. ..- attr(*, \"names\")= chr [1:13] \"V1\" \"V2\" \"V3\" \"V4\" ...\n",
      "  .. .. .. .. ..$ maxcriterion: num 0\n",
      "  .. .. .. ..$ terminal  : logi TRUE\n",
      "  .. .. .. ..$ psplit    :List of 6\n",
      "  .. .. .. .. ..$ : NULL\n",
      "  .. .. .. .. ..$ : NULL\n",
      "  .. .. .. .. ..$ : NULL\n",
      "  .. .. .. .. ..$ : NULL\n",
      "  .. .. .. .. ..$ : NULL\n",
      "  .. .. .. .. ..$ : NULL\n",
      "  .. .. .. ..$ ssplits   : list()\n",
      "  .. .. .. ..$ prediction: num [1:3] 0 0 1\n",
      "  .. .. .. ..$ left      : NULL\n",
      "  .. .. .. ..$ right     : NULL\n",
      "  .. .. .. ..$ NA        : num 34\n",
      "  .. .. .. ..- attr(*, \"class\")= chr \"TerminalNode\"\n",
      "  .. .. ..$ right     :List of 10\n",
      "  .. .. .. ..$ nodeID    : int 4\n",
      "  .. .. .. ..$ weights   : num [1:128] 0 0 0 0 0 0 0 0 0 0 ...\n",
      "  .. .. .. ..$ criterion :List of 3\n",
      "  .. .. .. .. ..$ statistic   : Named num [1:13] 0 0 0 0 0 0 0 0 0 0 ...\n",
      "  .. .. .. .. .. ..- attr(*, \"names\")= chr [1:13] \"V1\" \"V2\" \"V3\" \"V4\" ...\n",
      "  .. .. .. .. ..$ criterion   : Named num [1:13] 0 0 0 0 0 0 0 0 0 0 ...\n",
      "  .. .. .. .. .. ..- attr(*, \"names\")= chr [1:13] \"V1\" \"V2\" \"V3\" \"V4\" ...\n",
      "  .. .. .. .. ..$ maxcriterion: num 0\n",
      "  .. .. .. ..$ terminal  : logi TRUE\n",
      "  .. .. .. ..$ psplit    :List of 6\n",
      "  .. .. .. .. ..$ : NULL\n",
      "  .. .. .. .. ..$ : NULL\n",
      "  .. .. .. .. ..$ : NULL\n",
      "  .. .. .. .. ..$ : NULL\n",
      "  .. .. .. .. ..$ : NULL\n",
      "  .. .. .. .. ..$ : NULL\n",
      "  .. .. .. ..$ ssplits   : list()\n",
      "  .. .. .. ..$ prediction: num [1:3] 0 0.875 0.125\n",
      "  .. .. .. ..$ left      : NULL\n",
      "  .. .. .. ..$ right     : NULL\n",
      "  .. .. .. ..$ NA        : num 8\n",
      "  .. .. .. ..- attr(*, \"class\")= chr \"TerminalNode\"\n",
      "  .. .. ..$ NA        : num 42\n",
      "  .. .. ..- attr(*, \"class\")= chr \"SplittingNode\"\n",
      "  .. ..$ right     :List of 10\n",
      "  .. .. ..$ nodeID    : int 5\n",
      "  .. .. ..$ weights   : num [1:128] 1 1 1 1 1 1 1 1 1 1 ...\n",
      "  .. .. ..$ criterion :List of 3\n",
      "  .. .. .. ..$ statistic   : Named num [1:13] 59.35 2.23 11.51 24.88 17.14 ...\n",
      "  .. .. .. .. ..- attr(*, \"names\")= chr [1:13] \"V1\" \"V2\" \"V3\" \"V4\" ...\n",
      "  .. .. .. ..$ criterion   : Named num [1:13] 1 0.00563 0.95957 0.99995 0.99753 ...\n",
      "  .. .. .. .. ..- attr(*, \"names\")= chr [1:13] \"V1\" \"V2\" \"V3\" \"V4\" ...\n",
      "  .. .. .. ..$ maxcriterion: num 1\n",
      "  .. .. ..$ terminal  : logi FALSE\n",
      "  .. .. ..$ psplit    :List of 7\n",
      "  .. .. .. ..$ variableID     : int 1\n",
      "  .. .. .. ..$ ordered        : logi TRUE\n",
      "  .. .. .. ..$ splitpoint     : num 13\n",
      "  .. .. .. ..$ splitstatistics: num [1:128] 0 7.33 7.53 0 7.13 ...\n",
      "  .. .. .. ..$ toleft         : int 1\n",
      "  .. .. .. ..$ table          : NULL\n",
      "  .. .. .. ..$ variableName   : chr \"V1\"\n",
      "  .. .. .. ..- attr(*, \"class\")= chr \"orderedSplit\"\n",
      "  .. .. ..$ ssplits   : list()\n",
      "  .. .. ..$ prediction: num [1:3] 0.4651 0.5233 0.0116\n",
      "  .. .. ..$ left      :List of 10\n",
      "  .. .. .. ..$ nodeID    : int 6\n",
      "  .. .. .. ..$ weights   : num [1:128] 0 0 0 0 0 0 0 0 0 0 ...\n",
      "  .. .. .. ..$ criterion :List of 3\n",
      "  .. .. .. .. ..$ statistic   : Named num [1:13] 3.128 3.666 1.424 0.319 0.193 ...\n",
      "  .. .. .. .. .. ..- attr(*, \"names\")= chr [1:13] \"V1\" \"V2\" \"V3\" \"V4\" ...\n",
      "  .. .. .. .. ..$ criterion   : Named num [1:13] 3.53e-01 4.76e-01 3.19e-02 1.59e-05 7.91e-07 ...\n",
      "  .. .. .. .. .. ..- attr(*, \"names\")= chr [1:13] \"V1\" \"V2\" \"V3\" \"V4\" ...\n",
      "  .. .. .. .. ..$ maxcriterion: num 0.476\n",
      "  .. .. .. ..$ terminal  : logi TRUE\n",
      "  .. .. .. ..$ psplit    :List of 6\n",
      "  .. .. .. .. ..$ : NULL\n",
      "  .. .. .. .. ..$ : NULL\n",
      "  .. .. .. .. ..$ : NULL\n",
      "  .. .. .. .. ..$ : NULL\n",
      "  .. .. .. .. ..$ : NULL\n",
      "  .. .. .. .. ..$ : NULL\n",
      "  .. .. .. ..$ ssplits   : list()\n",
      "  .. .. .. ..$ prediction: num [1:3] 0.0233 0.9767 0\n",
      "  .. .. .. ..$ left      : NULL\n",
      "  .. .. .. ..$ right     : NULL\n",
      "  .. .. .. ..$ NA        : num 43\n",
      "  .. .. .. ..- attr(*, \"class\")= chr \"TerminalNode\"\n",
      "  .. .. ..$ right     :List of 10\n",
      "  .. .. .. ..$ nodeID    : int 7\n",
      "  .. .. .. ..$ weights   : num [1:128] 1 1 1 1 1 1 1 1 1 1 ...\n",
      "  .. .. .. ..$ criterion :List of 3\n",
      "  .. .. .. .. ..$ statistic   : Named num [1:13] 2.12 2.21 4.49 10.86 9.62 ...\n",
      "  .. .. .. .. .. ..- attr(*, \"names\")= chr [1:13] \"V1\" \"V2\" \"V3\" \"V4\" ...\n",
      "  .. .. .. .. ..$ criterion   : Named num [1:13] 0.00394 0.0054 0.23361 0.94452 0.89911 ...\n",
      "  .. .. .. .. .. ..- attr(*, \"names\")= chr [1:13] \"V1\" \"V2\" \"V3\" \"V4\" ...\n",
      "  .. .. .. .. ..$ maxcriterion: num 1\n",
      "  .. .. .. ..$ terminal  : logi FALSE\n",
      "  .. .. .. ..$ psplit    :List of 7\n",
      "  .. .. .. .. ..$ variableID     : int 6\n",
      "  .. .. .. .. ..$ ordered        : logi TRUE\n",
      "  .. .. .. .. ..$ splitpoint     : num 2.45\n",
      "  .. .. .. .. ..$ splitstatistics: num [1:128] 0 0 0 0 0 ...\n",
      "  .. .. .. .. ..$ toleft         : int 1\n",
      "  .. .. .. .. ..$ table          : NULL\n",
      "  .. .. .. .. ..$ variableName   : chr \"V6\"\n",
      "  .. .. .. .. ..- attr(*, \"class\")= chr \"orderedSplit\"\n",
      "  .. .. .. ..$ ssplits   : list()\n",
      "  .. .. .. ..$ prediction: num [1:3] 0.907 0.0698 0.0233\n",
      "  .. .. .. ..$ left      :List of 10\n",
      "  .. .. .. .. ..$ nodeID    : int 8\n",
      "  .. .. .. .. ..$ weights   : num [1:128] 0 0 0 0 0 0 0 0 0 0 ...\n",
      "  .. .. .. .. ..$ criterion :List of 3\n",
      "  .. .. .. .. .. ..$ statistic   : Named num [1:13] 0 0 0 0 0 0 0 0 0 0 ...\n",
      "  .. .. .. .. .. .. ..- attr(*, \"names\")= chr [1:13] \"V1\" \"V2\" \"V3\" \"V4\" ...\n",
      "  .. .. .. .. .. ..$ criterion   : Named num [1:13] 0 0 0 0 0 0 0 0 0 0 ...\n",
      "  .. .. .. .. .. .. ..- attr(*, \"names\")= chr [1:13] \"V1\" \"V2\" \"V3\" \"V4\" ...\n",
      "  .. .. .. .. .. ..$ maxcriterion: num 0\n",
      "  .. .. .. .. ..$ terminal  : logi TRUE\n",
      "  .. .. .. .. ..$ psplit    :List of 6\n",
      "  .. .. .. .. .. ..$ : NULL\n",
      "  .. .. .. .. .. ..$ : NULL\n",
      "  .. .. .. .. .. ..$ : NULL\n",
      "  .. .. .. .. .. ..$ : NULL\n",
      "  .. .. .. .. .. ..$ : NULL\n",
      "  .. .. .. .. .. ..$ : NULL\n",
      "  .. .. .. .. ..$ ssplits   : list()\n",
      "  .. .. .. .. ..$ prediction: num [1:3] 0.5 0.375 0.125\n",
      "  .. .. .. .. ..$ left      : NULL\n",
      "  .. .. .. .. ..$ right     : NULL\n",
      "  .. .. .. .. ..$ NA        : num 8\n",
      "  .. .. .. .. ..- attr(*, \"class\")= chr \"TerminalNode\"\n",
      "  .. .. .. ..$ right     :List of 10\n",
      "  .. .. .. .. ..$ nodeID    : int 9\n",
      "  .. .. .. .. ..$ weights   : num [1:128] 1 1 1 1 1 1 1 1 1 1 ...\n",
      "  .. .. .. .. ..$ criterion :List of 3\n",
      "  .. .. .. .. .. ..$ statistic   : Named num [1:13] 0 0 0 0 0 0 0 0 0 0 ...\n",
      "  .. .. .. .. .. .. ..- attr(*, \"names\")= chr [1:13] \"V1\" \"V2\" \"V3\" \"V4\" ...\n",
      "  .. .. .. .. .. ..$ criterion   : Named num [1:13] 0 0 0 0 0 0 0 0 0 0 ...\n",
      "  .. .. .. .. .. .. ..- attr(*, \"names\")= chr [1:13] \"V1\" \"V2\" \"V3\" \"V4\" ...\n",
      "  .. .. .. .. .. ..$ maxcriterion: num 0\n",
      "  .. .. .. .. ..$ terminal  : logi TRUE\n",
      "  .. .. .. .. ..$ psplit    :List of 6\n",
      "  .. .. .. .. .. ..$ : NULL\n",
      "  .. .. .. .. .. ..$ : NULL\n",
      "  .. .. .. .. .. ..$ : NULL\n",
      "  .. .. .. .. .. ..$ : NULL\n",
      "  .. .. .. .. .. ..$ : NULL\n",
      "  .. .. .. .. .. ..$ : NULL\n",
      "  .. .. .. .. ..$ ssplits   : list()\n",
      "  .. .. .. .. ..$ prediction: num [1:3] 1 0 0\n",
      "  .. .. .. .. ..$ left      : NULL\n",
      "  .. .. .. .. ..$ right     : NULL\n",
      "  .. .. .. .. ..$ NA        : num 35\n",
      "  .. .. .. .. ..- attr(*, \"class\")= chr \"TerminalNode\"\n",
      "  .. .. .. ..$ NA        : num 43\n",
      "  .. .. .. ..- attr(*, \"class\")= chr \"SplittingNode\"\n",
      "  .. .. ..$ NA        : num 86\n",
      "  .. .. ..- attr(*, \"class\")= chr \"SplittingNode\"\n",
      "  .. ..$ NA        : num 128\n",
      "  .. ..- attr(*, \"class\")= chr \"SplittingNode\"\n",
      "  ..@ where              : int [1:128] 9 9 9 9 9 9 9 9 9 9 ...\n",
      "  ..@ weights            : num [1:128] 1 1 1 1 1 1 1 1 1 1 ...\n"
     ]
    }
   ],
   "source": [
    "str(wine_party)"
   ]
  },
  {
   "cell_type": "markdown",
   "metadata": {},
   "source": [
    "* model (text)"
   ]
  },
  {
   "cell_type": "code",
   "execution_count": 15,
   "metadata": {},
   "outputs": [
    {
     "data": {
      "text/plain": [
       "1) V7 <= 1.39; criterion = 1, statistic = 91.644\n",
       "  2) V11 <= 0.89; criterion = 1, statistic = 25.107\n",
       "    3)*  weights = 34 \n",
       "  2) V11 > 0.89\n",
       "    4)*  weights = 8 \n",
       "1) V7 > 1.39\n",
       "  5) V1 <= 13.03; criterion = 1, statistic = 59.351\n",
       "    6)*  weights = 43 \n",
       "  5) V1 > 13.03\n",
       "    7) V6 <= 2.45; criterion = 1, statistic = 23.703\n",
       "      8)*  weights = 8 \n",
       "    7) V6 > 2.45\n",
       "      9)*  weights = 35 "
      ]
     },
     "metadata": {},
     "output_type": "display_data"
    }
   ],
   "source": [
    "wine_party@tree"
   ]
  },
  {
   "cell_type": "markdown",
   "metadata": {},
   "source": [
    "* node of train set"
   ]
  },
  {
   "cell_type": "code",
   "execution_count": 16,
   "metadata": {},
   "outputs": [
    {
     "data": {
      "text/html": [
       "<ol class=list-inline>\n",
       "\t<li>9</li>\n",
       "\t<li>9</li>\n",
       "\t<li>9</li>\n",
       "\t<li>9</li>\n",
       "\t<li>9</li>\n",
       "\t<li>9</li>\n",
       "\t<li>9</li>\n",
       "\t<li>9</li>\n",
       "\t<li>9</li>\n",
       "\t<li>9</li>\n",
       "\t<li>9</li>\n",
       "\t<li>9</li>\n",
       "\t<li>9</li>\n",
       "\t<li>9</li>\n",
       "\t<li>9</li>\n",
       "\t<li>9</li>\n",
       "\t<li>9</li>\n",
       "\t<li>6</li>\n",
       "\t<li>9</li>\n",
       "\t<li>9</li>\n",
       "\t<li>9</li>\n",
       "\t<li>9</li>\n",
       "\t<li>9</li>\n",
       "\t<li>8</li>\n",
       "\t<li>9</li>\n",
       "\t<li>9</li>\n",
       "\t<li>8</li>\n",
       "\t<li>9</li>\n",
       "\t<li>8</li>\n",
       "\t<li>9</li>\n",
       "\t<li>9</li>\n",
       "\t<li>9</li>\n",
       "\t<li>9</li>\n",
       "\t<li>9</li>\n",
       "\t<li>8</li>\n",
       "\t<li>9</li>\n",
       "\t<li>9</li>\n",
       "\t<li>9</li>\n",
       "\t<li>9</li>\n",
       "\t<li>9</li>\n",
       "\t<li>4</li>\n",
       "\t<li>4</li>\n",
       "\t<li>6</li>\n",
       "\t<li>8</li>\n",
       "\t<li>6</li>\n",
       "\t<li>6</li>\n",
       "\t<li>6</li>\n",
       "\t<li>4</li>\n",
       "\t<li>4</li>\n",
       "\t<li>4</li>\n",
       "\t<li>8</li>\n",
       "\t<li>6</li>\n",
       "\t<li>6</li>\n",
       "\t<li>6</li>\n",
       "\t<li>6</li>\n",
       "\t<li>4</li>\n",
       "\t<li>6</li>\n",
       "\t<li>6</li>\n",
       "\t<li>6</li>\n",
       "\t<li>8</li>\n",
       "\t<li>6</li>\n",
       "\t<li>6</li>\n",
       "\t<li>6</li>\n",
       "\t<li>6</li>\n",
       "\t<li>6</li>\n",
       "\t<li>6</li>\n",
       "\t<li>6</li>\n",
       "\t<li>6</li>\n",
       "\t<li>6</li>\n",
       "\t<li>6</li>\n",
       "\t<li>6</li>\n",
       "\t<li>6</li>\n",
       "\t<li>6</li>\n",
       "\t<li>6</li>\n",
       "\t<li>4</li>\n",
       "\t<li>6</li>\n",
       "\t<li>6</li>\n",
       "\t<li>6</li>\n",
       "\t<li>6</li>\n",
       "\t<li>6</li>\n",
       "\t<li>6</li>\n",
       "\t<li>6</li>\n",
       "\t<li>6</li>\n",
       "\t<li>6</li>\n",
       "\t<li>6</li>\n",
       "\t<li>6</li>\n",
       "\t<li>6</li>\n",
       "\t<li>6</li>\n",
       "\t<li>6</li>\n",
       "\t<li>6</li>\n",
       "\t<li>6</li>\n",
       "\t<li>6</li>\n",
       "\t<li>3</li>\n",
       "\t<li>3</li>\n",
       "\t<li>3</li>\n",
       "\t<li>3</li>\n",
       "\t<li>3</li>\n",
       "\t<li>3</li>\n",
       "\t<li>3</li>\n",
       "\t<li>3</li>\n",
       "\t<li>3</li>\n",
       "\t<li>3</li>\n",
       "\t<li>3</li>\n",
       "\t<li>3</li>\n",
       "\t<li>3</li>\n",
       "\t<li>3</li>\n",
       "\t<li>3</li>\n",
       "\t<li>3</li>\n",
       "\t<li>8</li>\n",
       "\t<li>3</li>\n",
       "\t<li>3</li>\n",
       "\t<li>3</li>\n",
       "\t<li>3</li>\n",
       "\t<li>3</li>\n",
       "\t<li>3</li>\n",
       "\t<li>3</li>\n",
       "\t<li>4</li>\n",
       "\t<li>3</li>\n",
       "\t<li>3</li>\n",
       "\t<li>3</li>\n",
       "\t<li>3</li>\n",
       "\t<li>3</li>\n",
       "\t<li>3</li>\n",
       "\t<li>3</li>\n",
       "\t<li>3</li>\n",
       "\t<li>3</li>\n",
       "\t<li>3</li>\n",
       "\t<li>3</li>\n",
       "</ol>\n"
      ],
      "text/latex": [
       "\\begin{enumerate*}\n",
       "\\item 9\n",
       "\\item 9\n",
       "\\item 9\n",
       "\\item 9\n",
       "\\item 9\n",
       "\\item 9\n",
       "\\item 9\n",
       "\\item 9\n",
       "\\item 9\n",
       "\\item 9\n",
       "\\item 9\n",
       "\\item 9\n",
       "\\item 9\n",
       "\\item 9\n",
       "\\item 9\n",
       "\\item 9\n",
       "\\item 9\n",
       "\\item 6\n",
       "\\item 9\n",
       "\\item 9\n",
       "\\item 9\n",
       "\\item 9\n",
       "\\item 9\n",
       "\\item 8\n",
       "\\item 9\n",
       "\\item 9\n",
       "\\item 8\n",
       "\\item 9\n",
       "\\item 8\n",
       "\\item 9\n",
       "\\item 9\n",
       "\\item 9\n",
       "\\item 9\n",
       "\\item 9\n",
       "\\item 8\n",
       "\\item 9\n",
       "\\item 9\n",
       "\\item 9\n",
       "\\item 9\n",
       "\\item 9\n",
       "\\item 4\n",
       "\\item 4\n",
       "\\item 6\n",
       "\\item 8\n",
       "\\item 6\n",
       "\\item 6\n",
       "\\item 6\n",
       "\\item 4\n",
       "\\item 4\n",
       "\\item 4\n",
       "\\item 8\n",
       "\\item 6\n",
       "\\item 6\n",
       "\\item 6\n",
       "\\item 6\n",
       "\\item 4\n",
       "\\item 6\n",
       "\\item 6\n",
       "\\item 6\n",
       "\\item 8\n",
       "\\item 6\n",
       "\\item 6\n",
       "\\item 6\n",
       "\\item 6\n",
       "\\item 6\n",
       "\\item 6\n",
       "\\item 6\n",
       "\\item 6\n",
       "\\item 6\n",
       "\\item 6\n",
       "\\item 6\n",
       "\\item 6\n",
       "\\item 6\n",
       "\\item 6\n",
       "\\item 4\n",
       "\\item 6\n",
       "\\item 6\n",
       "\\item 6\n",
       "\\item 6\n",
       "\\item 6\n",
       "\\item 6\n",
       "\\item 6\n",
       "\\item 6\n",
       "\\item 6\n",
       "\\item 6\n",
       "\\item 6\n",
       "\\item 6\n",
       "\\item 6\n",
       "\\item 6\n",
       "\\item 6\n",
       "\\item 6\n",
       "\\item 6\n",
       "\\item 3\n",
       "\\item 3\n",
       "\\item 3\n",
       "\\item 3\n",
       "\\item 3\n",
       "\\item 3\n",
       "\\item 3\n",
       "\\item 3\n",
       "\\item 3\n",
       "\\item 3\n",
       "\\item 3\n",
       "\\item 3\n",
       "\\item 3\n",
       "\\item 3\n",
       "\\item 3\n",
       "\\item 3\n",
       "\\item 8\n",
       "\\item 3\n",
       "\\item 3\n",
       "\\item 3\n",
       "\\item 3\n",
       "\\item 3\n",
       "\\item 3\n",
       "\\item 3\n",
       "\\item 4\n",
       "\\item 3\n",
       "\\item 3\n",
       "\\item 3\n",
       "\\item 3\n",
       "\\item 3\n",
       "\\item 3\n",
       "\\item 3\n",
       "\\item 3\n",
       "\\item 3\n",
       "\\item 3\n",
       "\\item 3\n",
       "\\end{enumerate*}\n"
      ],
      "text/markdown": [
       "1. 9\n",
       "2. 9\n",
       "3. 9\n",
       "4. 9\n",
       "5. 9\n",
       "6. 9\n",
       "7. 9\n",
       "8. 9\n",
       "9. 9\n",
       "10. 9\n",
       "11. 9\n",
       "12. 9\n",
       "13. 9\n",
       "14. 9\n",
       "15. 9\n",
       "16. 9\n",
       "17. 9\n",
       "18. 6\n",
       "19. 9\n",
       "20. 9\n",
       "21. 9\n",
       "22. 9\n",
       "23. 9\n",
       "24. 8\n",
       "25. 9\n",
       "26. 9\n",
       "27. 8\n",
       "28. 9\n",
       "29. 8\n",
       "30. 9\n",
       "31. 9\n",
       "32. 9\n",
       "33. 9\n",
       "34. 9\n",
       "35. 8\n",
       "36. 9\n",
       "37. 9\n",
       "38. 9\n",
       "39. 9\n",
       "40. 9\n",
       "41. 4\n",
       "42. 4\n",
       "43. 6\n",
       "44. 8\n",
       "45. 6\n",
       "46. 6\n",
       "47. 6\n",
       "48. 4\n",
       "49. 4\n",
       "50. 4\n",
       "51. 8\n",
       "52. 6\n",
       "53. 6\n",
       "54. 6\n",
       "55. 6\n",
       "56. 4\n",
       "57. 6\n",
       "58. 6\n",
       "59. 6\n",
       "60. 8\n",
       "61. 6\n",
       "62. 6\n",
       "63. 6\n",
       "64. 6\n",
       "65. 6\n",
       "66. 6\n",
       "67. 6\n",
       "68. 6\n",
       "69. 6\n",
       "70. 6\n",
       "71. 6\n",
       "72. 6\n",
       "73. 6\n",
       "74. 6\n",
       "75. 4\n",
       "76. 6\n",
       "77. 6\n",
       "78. 6\n",
       "79. 6\n",
       "80. 6\n",
       "81. 6\n",
       "82. 6\n",
       "83. 6\n",
       "84. 6\n",
       "85. 6\n",
       "86. 6\n",
       "87. 6\n",
       "88. 6\n",
       "89. 6\n",
       "90. 6\n",
       "91. 6\n",
       "92. 6\n",
       "93. 3\n",
       "94. 3\n",
       "95. 3\n",
       "96. 3\n",
       "97. 3\n",
       "98. 3\n",
       "99. 3\n",
       "100. 3\n",
       "101. 3\n",
       "102. 3\n",
       "103. 3\n",
       "104. 3\n",
       "105. 3\n",
       "106. 3\n",
       "107. 3\n",
       "108. 3\n",
       "109. 8\n",
       "110. 3\n",
       "111. 3\n",
       "112. 3\n",
       "113. 3\n",
       "114. 3\n",
       "115. 3\n",
       "116. 3\n",
       "117. 4\n",
       "118. 3\n",
       "119. 3\n",
       "120. 3\n",
       "121. 3\n",
       "122. 3\n",
       "123. 3\n",
       "124. 3\n",
       "125. 3\n",
       "126. 3\n",
       "127. 3\n",
       "128. 3\n",
       "\n",
       "\n"
      ],
      "text/plain": [
       "  [1] 9 9 9 9 9 9 9 9 9 9 9 9 9 9 9 9 9 6 9 9 9 9 9 8 9 9 8 9 8 9 9 9 9 9 8 9 9\n",
       " [38] 9 9 9 4 4 6 8 6 6 6 4 4 4 8 6 6 6 6 4 6 6 6 8 6 6 6 6 6 6 6 6 6 6 6 6 6 6\n",
       " [75] 4 6 6 6 6 6 6 6 6 6 6 6 6 6 6 6 6 6 3 3 3 3 3 3 3 3 3 3 3 3 3 3 3 3 8 3 3\n",
       "[112] 3 3 3 3 3 4 3 3 3 3 3 3 3 3 3 3 3"
      ]
     },
     "metadata": {},
     "output_type": "display_data"
    }
   ],
   "source": [
    "wine_party@where"
   ]
  },
  {
   "cell_type": "markdown",
   "metadata": {},
   "source": [
    "* node of validation set"
   ]
  },
  {
   "cell_type": "code",
   "execution_count": 17,
   "metadata": {},
   "outputs": [
    {
     "data": {
      "text/html": [
       "<ol class=list-inline>\n",
       "\t<li>9</li>\n",
       "\t<li>8</li>\n",
       "\t<li>9</li>\n",
       "\t<li>9</li>\n",
       "\t<li>9</li>\n",
       "\t<li>6</li>\n",
       "\t<li>9</li>\n",
       "\t<li>8</li>\n",
       "\t<li>9</li>\n",
       "\t<li>8</li>\n",
       "\t<li>9</li>\n",
       "\t<li>8</li>\n",
       "\t<li>9</li>\n",
       "\t<li>9</li>\n",
       "\t<li>9</li>\n",
       "\t<li>9</li>\n",
       "\t<li>9</li>\n",
       "\t<li>9</li>\n",
       "\t<li>9</li>\n",
       "\t<li>6</li>\n",
       "\t<li>9</li>\n",
       "\t<li>9</li>\n",
       "\t<li>6</li>\n",
       "\t<li>6</li>\n",
       "\t<li>4</li>\n",
       "\t<li>6</li>\n",
       "\t<li>4</li>\n",
       "\t<li>6</li>\n",
       "\t<li>6</li>\n",
       "\t<li>6</li>\n",
       "\t<li>6</li>\n",
       "\t<li>6</li>\n",
       "\t<li>3</li>\n",
       "\t<li>6</li>\n",
       "\t<li>9</li>\n",
       "\t<li>6</li>\n",
       "\t<li>6</li>\n",
       "\t<li>6</li>\n",
       "\t<li>3</li>\n",
       "\t<li>3</li>\n",
       "\t<li>3</li>\n",
       "\t<li>4</li>\n",
       "\t<li>3</li>\n",
       "\t<li>3</li>\n",
       "\t<li>3</li>\n",
       "\t<li>3</li>\n",
       "\t<li>3</li>\n",
       "\t<li>3</li>\n",
       "\t<li>3</li>\n",
       "\t<li>3</li>\n",
       "</ol>\n"
      ],
      "text/latex": [
       "\\begin{enumerate*}\n",
       "\\item 9\n",
       "\\item 8\n",
       "\\item 9\n",
       "\\item 9\n",
       "\\item 9\n",
       "\\item 6\n",
       "\\item 9\n",
       "\\item 8\n",
       "\\item 9\n",
       "\\item 8\n",
       "\\item 9\n",
       "\\item 8\n",
       "\\item 9\n",
       "\\item 9\n",
       "\\item 9\n",
       "\\item 9\n",
       "\\item 9\n",
       "\\item 9\n",
       "\\item 9\n",
       "\\item 6\n",
       "\\item 9\n",
       "\\item 9\n",
       "\\item 6\n",
       "\\item 6\n",
       "\\item 4\n",
       "\\item 6\n",
       "\\item 4\n",
       "\\item 6\n",
       "\\item 6\n",
       "\\item 6\n",
       "\\item 6\n",
       "\\item 6\n",
       "\\item 3\n",
       "\\item 6\n",
       "\\item 9\n",
       "\\item 6\n",
       "\\item 6\n",
       "\\item 6\n",
       "\\item 3\n",
       "\\item 3\n",
       "\\item 3\n",
       "\\item 4\n",
       "\\item 3\n",
       "\\item 3\n",
       "\\item 3\n",
       "\\item 3\n",
       "\\item 3\n",
       "\\item 3\n",
       "\\item 3\n",
       "\\item 3\n",
       "\\end{enumerate*}\n"
      ],
      "text/markdown": [
       "1. 9\n",
       "2. 8\n",
       "3. 9\n",
       "4. 9\n",
       "5. 9\n",
       "6. 6\n",
       "7. 9\n",
       "8. 8\n",
       "9. 9\n",
       "10. 8\n",
       "11. 9\n",
       "12. 8\n",
       "13. 9\n",
       "14. 9\n",
       "15. 9\n",
       "16. 9\n",
       "17. 9\n",
       "18. 9\n",
       "19. 9\n",
       "20. 6\n",
       "21. 9\n",
       "22. 9\n",
       "23. 6\n",
       "24. 6\n",
       "25. 4\n",
       "26. 6\n",
       "27. 4\n",
       "28. 6\n",
       "29. 6\n",
       "30. 6\n",
       "31. 6\n",
       "32. 6\n",
       "33. 3\n",
       "34. 6\n",
       "35. 9\n",
       "36. 6\n",
       "37. 6\n",
       "38. 6\n",
       "39. 3\n",
       "40. 3\n",
       "41. 3\n",
       "42. 4\n",
       "43. 3\n",
       "44. 3\n",
       "45. 3\n",
       "46. 3\n",
       "47. 3\n",
       "48. 3\n",
       "49. 3\n",
       "50. 3\n",
       "\n",
       "\n"
      ],
      "text/plain": [
       " [1] 9 8 9 9 9 6 9 8 9 8 9 8 9 9 9 9 9 9 9 6 9 9 6 6 4 6 4 6 6 6 6 6 3 6 9 6 6 6\n",
       "[39] 3 3 3 4 3 3 3 3 3 3 3 3"
      ]
     },
     "metadata": {},
     "output_type": "display_data"
    }
   ],
   "source": [
    "wine_party@get_where(newdata=val_wine)"
   ]
  },
  {
   "cell_type": "markdown",
   "metadata": {},
   "source": [
    "- ### Visualization"
   ]
  },
  {
   "cell_type": "code",
   "execution_count": 18,
   "metadata": {},
   "outputs": [
    {
     "data": {
      "image/png": "[encoded data removed]",
      "text/plain": [
       "plot without title"
      ]
     },
     "metadata": {},
     "output_type": "display_data"
    }
   ],
   "source": [
    "plot(wine_party)"
   ]
  },
  {
   "cell_type": "code",
   "execution_count": 19,
   "metadata": {},
   "outputs": [
    {
     "data": {
      "image/png": "[encoded data removed]",
      "text/plain": [
       "plot without title"
      ]
     },
     "metadata": {},
     "output_type": "display_data"
    }
   ],
   "source": [
    "plot(wine_party, terminal_panel = node_barplot)"
   ]
  },
  {
   "cell_type": "code",
   "execution_count": 20,
   "metadata": {},
   "outputs": [
    {
     "data": {
      "image/png": "[encoded data removed]",
      "text/plain": [
       "plot without title"
      ]
     },
     "metadata": {},
     "output_type": "display_data"
    }
   ],
   "source": [
    "plot(mdl_party,type = \"simple\")"
   ]
  },
  {
   "cell_type": "code",
   "execution_count": 22,
   "metadata": {},
   "outputs": [
    {
     "data": {
      "image/png": "[encoded data removed]",
      "text/plain": [
       "plot without title"
      ]
     },
     "metadata": {},
     "output_type": "display_data"
    }
   ],
   "source": [
    "plot(mdl_party,terminal_panel = node_terminal)"
   ]
  },
  {
   "cell_type": "markdown",
   "metadata": {},
   "source": [
    "* ### Performance Check (Train Set)"
   ]
  },
  {
   "cell_type": "code",
   "execution_count": 23,
   "metadata": {},
   "outputs": [],
   "source": [
    "res_tr <- table(predict(wine_party), tr_wine$class)"
   ]
  },
  {
   "cell_type": "code",
   "execution_count": 24,
   "metadata": {},
   "outputs": [
    {
     "data": {
      "text/plain": [
       "   \n",
       "            1         2         3\n",
       "  1 0.3046875 0.0234375 0.0078125\n",
       "  2 0.0078125 0.3828125 0.0078125\n",
       "  3 0.0000000 0.0000000 0.2656250"
      ]
     },
     "metadata": {},
     "output_type": "display_data"
    }
   ],
   "source": [
    "res_tr / sum(res_tr)"
   ]
  },
  {
   "cell_type": "markdown",
   "metadata": {},
   "source": [
    "* Accuracy"
   ]
  },
  {
   "cell_type": "code",
   "execution_count": 26,
   "metadata": {},
   "outputs": [
    {
     "data": {
      "text/html": [
       "0.953125"
      ],
      "text/latex": [
       "0.953125"
      ],
      "text/markdown": [
       "0.953125"
      ],
      "text/plain": [
       "[1] 0.953125"
      ]
     },
     "metadata": {},
     "output_type": "display_data"
    }
   ],
   "source": [
    "sum(diag(res_tr))/sum(res_tr)"
   ]
  },
  {
   "cell_type": "markdown",
   "metadata": {},
   "source": [
    "* Precision"
   ]
  },
  {
   "cell_type": "code",
   "execution_count": 27,
   "metadata": {},
   "outputs": [
    {
     "data": {
      "text/html": [
       "0.906976744186046"
      ],
      "text/latex": [
       "0.906976744186046"
      ],
      "text/markdown": [
       "0.906976744186046"
      ],
      "text/plain": [
       "[1] 0.9069767"
      ]
     },
     "metadata": {},
     "output_type": "display_data"
    },
    {
     "data": {
      "text/html": [
       "0.96078431372549"
      ],
      "text/latex": [
       "0.96078431372549"
      ],
      "text/markdown": [
       "0.96078431372549"
      ],
      "text/plain": [
       "[1] 0.9607843"
      ]
     },
     "metadata": {},
     "output_type": "display_data"
    },
    {
     "data": {
      "text/html": [
       "1"
      ],
      "text/latex": [
       "1"
      ],
      "text/markdown": [
       "1"
      ],
      "text/plain": [
       "[1] 1"
      ]
     },
     "metadata": {},
     "output_type": "display_data"
    }
   ],
   "source": [
    "res_tr[1,1]/sum(res_tr[1,])\n",
    "res_tr[2,2]/sum(res_tr[2,])\n",
    "res_tr[3,3]/sum(res_tr[3,])"
   ]
  },
  {
   "cell_type": "markdown",
   "metadata": {},
   "source": [
    "* Detect Rate(Sensitivity)"
   ]
  },
  {
   "cell_type": "code",
   "execution_count": 28,
   "metadata": {},
   "outputs": [
    {
     "data": {
      "text/html": [
       "0.975"
      ],
      "text/latex": [
       "0.975"
      ],
      "text/markdown": [
       "0.975"
      ],
      "text/plain": [
       "[1] 0.975"
      ]
     },
     "metadata": {},
     "output_type": "display_data"
    },
    {
     "data": {
      "text/html": [
       "0.942307692307692"
      ],
      "text/latex": [
       "0.942307692307692"
      ],
      "text/markdown": [
       "0.942307692307692"
      ],
      "text/plain": [
       "[1] 0.9423077"
      ]
     },
     "metadata": {},
     "output_type": "display_data"
    },
    {
     "data": {
      "text/html": [
       "0.944444444444444"
      ],
      "text/latex": [
       "0.944444444444444"
      ],
      "text/markdown": [
       "0.944444444444444"
      ],
      "text/plain": [
       "[1] 0.9444444"
      ]
     },
     "metadata": {},
     "output_type": "display_data"
    }
   ],
   "source": [
    "res_tr[1,1]/sum(res_tr[,1])\n",
    "res_tr[2,2]/sum(res_tr[,2])\n",
    "res_tr[3,3]/sum(res_tr[,3])"
   ]
  },
  {
   "cell_type": "markdown",
   "metadata": {},
   "source": [
    "* ### Performance (Validation Set)"
   ]
  },
  {
   "cell_type": "code",
   "execution_count": 29,
   "metadata": {},
   "outputs": [
    {
     "data": {
      "text/plain": [
       "   \n",
       "       1    2    3\n",
       "  1 0.36 0.06 0.00\n",
       "  2 0.02 0.30 0.02\n",
       "  3 0.00 0.02 0.22"
      ]
     },
     "metadata": {},
     "output_type": "display_data"
    }
   ],
   "source": [
    "res_val<-table(predict(wine_party,newdata=val_wine),val_wine$class)\n",
    "res_val/sum(res_val)"
   ]
  },
  {
   "cell_type": "markdown",
   "metadata": {},
   "source": [
    "* Accuracy"
   ]
  },
  {
   "cell_type": "code",
   "execution_count": 30,
   "metadata": {},
   "outputs": [
    {
     "data": {
      "text/html": [
       "0.88"
      ],
      "text/latex": [
       "0.88"
      ],
      "text/markdown": [
       "0.88"
      ],
      "text/plain": [
       "[1] 0.88"
      ]
     },
     "metadata": {},
     "output_type": "display_data"
    }
   ],
   "source": [
    "sum(diag(res_val))/sum(res_val)"
   ]
  },
  {
   "cell_type": "markdown",
   "metadata": {},
   "source": [
    "* Precision"
   ]
  },
  {
   "cell_type": "code",
   "execution_count": 31,
   "metadata": {},
   "outputs": [
    {
     "data": {
      "text/html": [
       "0.857142857142857"
      ],
      "text/latex": [
       "0.857142857142857"
      ],
      "text/markdown": [
       "0.857142857142857"
      ],
      "text/plain": [
       "[1] 0.8571429"
      ]
     },
     "metadata": {},
     "output_type": "display_data"
    },
    {
     "data": {
      "text/html": [
       "0.882352941176471"
      ],
      "text/latex": [
       "0.882352941176471"
      ],
      "text/markdown": [
       "0.882352941176471"
      ],
      "text/plain": [
       "[1] 0.8823529"
      ]
     },
     "metadata": {},
     "output_type": "display_data"
    },
    {
     "data": {
      "text/html": [
       "0.916666666666667"
      ],
      "text/latex": [
       "0.916666666666667"
      ],
      "text/markdown": [
       "0.916666666666667"
      ],
      "text/plain": [
       "[1] 0.9166667"
      ]
     },
     "metadata": {},
     "output_type": "display_data"
    }
   ],
   "source": [
    "res_val[1,1]/sum(res_val[1,])\n",
    "res_val[2,2]/sum(res_val[2,])\n",
    "res_val[3,3]/sum(res_val[3,])"
   ]
  },
  {
   "cell_type": "markdown",
   "metadata": {},
   "source": [
    "* Detect Rate"
   ]
  },
  {
   "cell_type": "code",
   "execution_count": 32,
   "metadata": {},
   "outputs": [
    {
     "data": {
      "text/html": [
       "0.947368421052632"
      ],
      "text/latex": [
       "0.947368421052632"
      ],
      "text/markdown": [
       "0.947368421052632"
      ],
      "text/plain": [
       "[1] 0.9473684"
      ]
     },
     "metadata": {},
     "output_type": "display_data"
    },
    {
     "data": {
      "text/html": [
       "0.789473684210526"
      ],
      "text/latex": [
       "0.789473684210526"
      ],
      "text/markdown": [
       "0.789473684210526"
      ],
      "text/plain": [
       "[1] 0.7894737"
      ]
     },
     "metadata": {},
     "output_type": "display_data"
    },
    {
     "data": {
      "text/html": [
       "0.916666666666667"
      ],
      "text/latex": [
       "0.916666666666667"
      ],
      "text/markdown": [
       "0.916666666666667"
      ],
      "text/plain": [
       "[1] 0.9166667"
      ]
     },
     "metadata": {},
     "output_type": "display_data"
    }
   ],
   "source": [
    "res_val[1,1]/sum(res_val[,1])\n",
    "res_val[2,2]/sum(res_val[,2])\n",
    "res_val[3,3]/sum(res_val[,3])"
   ]
  }
 ],
 "metadata": {
  "kernelspec": {
   "display_name": "R",
   "language": "R",
   "name": "ir"
  },
  "language_info": {
   "codemirror_mode": "r",
   "file_extension": ".r",
   "mimetype": "text/x-r-source",
   "name": "R",
   "pygments_lexer": "r",
   "version": "3.4.3"
  }
 },
 "nbformat": 4,
 "nbformat_minor": 2
}
