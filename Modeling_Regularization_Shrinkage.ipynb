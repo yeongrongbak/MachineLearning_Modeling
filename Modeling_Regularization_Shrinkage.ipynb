{
 "cells": [
  {
   "cell_type": "markdown",
   "metadata": {},
   "source": [
    "# 정형화(Regularizaion)와 축소(Shrinkage)\n",
    "\n",
    "- 고차원 데이터를 다루게 되면서 과대 적합 방지가 매우 중요해짐\n",
    "- 정형화와 축소 방법을 사용해서 과대 적합을 해결할 수 있음"
   ]
  },
  {
   "cell_type": "markdown",
   "metadata": {},
   "source": [
    "## 1. 일래스틱 넷(Elastic Net)\n",
    "\n",
    "- 라쏘(Lasso)회귀와 능형(Ridge)회귀의 혼합 방법\n",
    "- 라쏘 회귀 : 변수 선택과 차원 축소를 위해 L1 페널티 사용(절대값)\n",
    "- 능형 회귀 : 더 안정된 예측을 위해서 L2 페널티 사용(제곱항)"
   ]
  },
  {
   "cell_type": "code",
   "execution_count": 2,
   "metadata": {},
   "outputs": [],
   "source": [
    "acs <- read.table(\"http://jaredlander.com/data/acs_ny.csv\", sep = \",\" , header=TRUE, stringsAsFactors=FALSE)"
   ]
  },
  {
   "cell_type": "code",
   "execution_count": 3,
   "metadata": {},
   "outputs": [],
   "source": [
    "testFrame <- data.frame(First=sample(1:10, 20, replace=T),\n",
    "                        Second=sample(1:20, 20, replace=T),\n",
    "                        Third=sample(1:10, 20, replace=T),\n",
    "                        Fourth=factor(rep(c(\"Alice\", \"Bob\", \"Charlie\", \"David\"), 5)),\n",
    "                        Fifth=ordered(rep(c(\"Edward\", \"Frank\", \"Georgia\", \"Hank\", \"Isaac\"), 4)),\n",
    "                        Sixth=rep(c(\"a\",\"b\"),10), stringsAsFactors=F)"
   ]
  },
  {
   "cell_type": "code",
   "execution_count": 4,
   "metadata": {},
   "outputs": [
    {
     "data": {
      "text/html": [
       "<table>\n",
       "<thead><tr><th scope=col>First</th><th scope=col>Second</th><th scope=col>Third</th><th scope=col>Fourth</th><th scope=col>Fifth</th><th scope=col>Sixth</th></tr></thead>\n",
       "<tbody>\n",
       "\t<tr><td>8      </td><td> 9     </td><td>7      </td><td>Alice  </td><td>Edward </td><td>a      </td></tr>\n",
       "\t<tr><td>6      </td><td> 9     </td><td>9      </td><td>Bob    </td><td>Frank  </td><td>b      </td></tr>\n",
       "\t<tr><td>7      </td><td>19     </td><td>3      </td><td>Charlie</td><td>Georgia</td><td>a      </td></tr>\n",
       "\t<tr><td>1      </td><td>11     </td><td>2      </td><td>David  </td><td>Hank   </td><td>b      </td></tr>\n",
       "\t<tr><td>7      </td><td> 2     </td><td>7      </td><td>Alice  </td><td>Isaac  </td><td>a      </td></tr>\n",
       "\t<tr><td>2      </td><td>15     </td><td>7      </td><td>Bob    </td><td>Edward </td><td>b      </td></tr>\n",
       "</tbody>\n",
       "</table>\n"
      ],
      "text/latex": [
       "\\begin{tabular}{r|llllll}\n",
       " First & Second & Third & Fourth & Fifth & Sixth\\\\\n",
       "\\hline\n",
       "\t 8       &  9      & 7       & Alice   & Edward  & a      \\\\\n",
       "\t 6       &  9      & 9       & Bob     & Frank   & b      \\\\\n",
       "\t 7       & 19      & 3       & Charlie & Georgia & a      \\\\\n",
       "\t 1       & 11      & 2       & David   & Hank    & b      \\\\\n",
       "\t 7       &  2      & 7       & Alice   & Isaac   & a      \\\\\n",
       "\t 2       & 15      & 7       & Bob     & Edward  & b      \\\\\n",
       "\\end{tabular}\n"
      ],
      "text/markdown": [
       "\n",
       "First | Second | Third | Fourth | Fifth | Sixth | \n",
       "|---|---|---|---|---|---|\n",
       "| 8       |  9      | 7       | Alice   | Edward  | a       | \n",
       "| 6       |  9      | 9       | Bob     | Frank   | b       | \n",
       "| 7       | 19      | 3       | Charlie | Georgia | a       | \n",
       "| 1       | 11      | 2       | David   | Hank    | b       | \n",
       "| 7       |  2      | 7       | Alice   | Isaac   | a       | \n",
       "| 2       | 15      | 7       | Bob     | Edward  | b       | \n",
       "\n",
       "\n"
      ],
      "text/plain": [
       "  First Second Third Fourth  Fifth   Sixth\n",
       "1 8      9     7     Alice   Edward  a    \n",
       "2 6      9     9     Bob     Frank   b    \n",
       "3 7     19     3     Charlie Georgia a    \n",
       "4 1     11     2     David   Hank    b    \n",
       "5 7      2     7     Alice   Isaac   a    \n",
       "6 2     15     7     Bob     Edward  b    "
      ]
     },
     "metadata": {},
     "output_type": "display_data"
    }
   ],
   "source": [
    "head(testFrame)"
   ]
  },
  {
   "cell_type": "code",
   "execution_count": 5,
   "metadata": {},
   "outputs": [
    {
     "data": {
      "text/html": [
       "<table>\n",
       "<thead><tr><th></th><th scope=col>(Intercept)</th><th scope=col>Second</th><th scope=col>FourthBob</th><th scope=col>FourthCharlie</th><th scope=col>FourthDavid</th><th scope=col>Fifth.L</th><th scope=col>Fifth.Q</th><th scope=col>Fifth.C</th><th scope=col>Fifth^4</th></tr></thead>\n",
       "<tbody>\n",
       "\t<tr><th scope=row>1</th><td>1            </td><td> 9           </td><td>0            </td><td>0            </td><td>0            </td><td>-6.324555e-01</td><td> 0.5345225   </td><td>-3.162278e-01</td><td> 0.1195229   </td></tr>\n",
       "\t<tr><th scope=row>2</th><td>1            </td><td> 9           </td><td>1            </td><td>0            </td><td>0            </td><td>-3.162278e-01</td><td>-0.2672612   </td><td> 6.324555e-01</td><td>-0.4780914   </td></tr>\n",
       "\t<tr><th scope=row>3</th><td>1            </td><td>19           </td><td>0            </td><td>1            </td><td>0            </td><td>-1.481950e-18</td><td>-0.5345225   </td><td> 1.786843e-17</td><td> 0.7171372   </td></tr>\n",
       "\t<tr><th scope=row>4</th><td>1            </td><td>11           </td><td>0            </td><td>0            </td><td>1            </td><td> 3.162278e-01</td><td>-0.2672612   </td><td>-6.324555e-01</td><td>-0.4780914   </td></tr>\n",
       "\t<tr><th scope=row>5</th><td>1            </td><td> 2           </td><td>0            </td><td>0            </td><td>0            </td><td> 6.324555e-01</td><td> 0.5345225   </td><td> 3.162278e-01</td><td> 0.1195229   </td></tr>\n",
       "\t<tr><th scope=row>6</th><td>1            </td><td>15           </td><td>1            </td><td>0            </td><td>0            </td><td>-6.324555e-01</td><td> 0.5345225   </td><td>-3.162278e-01</td><td> 0.1195229   </td></tr>\n",
       "</tbody>\n",
       "</table>\n"
      ],
      "text/latex": [
       "\\begin{tabular}{r|lllllllll}\n",
       "  & (Intercept) & Second & FourthBob & FourthCharlie & FourthDavid & Fifth.L & Fifth.Q & Fifth.C & Fifth\\textasciicircum{}4\\\\\n",
       "\\hline\n",
       "\t1 & 1             &  9            & 0             & 0             & 0             & -6.324555e-01 &  0.5345225    & -3.162278e-01 &  0.1195229   \\\\\n",
       "\t2 & 1             &  9            & 1             & 0             & 0             & -3.162278e-01 & -0.2672612    &  6.324555e-01 & -0.4780914   \\\\\n",
       "\t3 & 1             & 19            & 0             & 1             & 0             & -1.481950e-18 & -0.5345225    &  1.786843e-17 &  0.7171372   \\\\\n",
       "\t4 & 1             & 11            & 0             & 0             & 1             &  3.162278e-01 & -0.2672612    & -6.324555e-01 & -0.4780914   \\\\\n",
       "\t5 & 1             &  2            & 0             & 0             & 0             &  6.324555e-01 &  0.5345225    &  3.162278e-01 &  0.1195229   \\\\\n",
       "\t6 & 1             & 15            & 1             & 0             & 0             & -6.324555e-01 &  0.5345225    & -3.162278e-01 &  0.1195229   \\\\\n",
       "\\end{tabular}\n"
      ],
      "text/markdown": [
       "\n",
       "| <!--/--> | (Intercept) | Second | FourthBob | FourthCharlie | FourthDavid | Fifth.L | Fifth.Q | Fifth.C | Fifth^4 | \n",
       "|---|---|---|---|---|---|\n",
       "| 1 | 1             |  9            | 0             | 0             | 0             | -6.324555e-01 |  0.5345225    | -3.162278e-01 |  0.1195229    | \n",
       "| 2 | 1             |  9            | 1             | 0             | 0             | -3.162278e-01 | -0.2672612    |  6.324555e-01 | -0.4780914    | \n",
       "| 3 | 1             | 19            | 0             | 1             | 0             | -1.481950e-18 | -0.5345225    |  1.786843e-17 |  0.7171372    | \n",
       "| 4 | 1             | 11            | 0             | 0             | 1             |  3.162278e-01 | -0.2672612    | -6.324555e-01 | -0.4780914    | \n",
       "| 5 | 1             |  2            | 0             | 0             | 0             |  6.324555e-01 |  0.5345225    |  3.162278e-01 |  0.1195229    | \n",
       "| 6 | 1             | 15            | 1             | 0             | 0             | -6.324555e-01 |  0.5345225    | -3.162278e-01 |  0.1195229    | \n",
       "\n",
       "\n"
      ],
      "text/plain": [
       "  (Intercept) Second FourthBob FourthCharlie FourthDavid Fifth.L      \n",
       "1 1            9     0         0             0           -6.324555e-01\n",
       "2 1            9     1         0             0           -3.162278e-01\n",
       "3 1           19     0         1             0           -1.481950e-18\n",
       "4 1           11     0         0             1            3.162278e-01\n",
       "5 1            2     0         0             0            6.324555e-01\n",
       "6 1           15     1         0             0           -6.324555e-01\n",
       "  Fifth.Q    Fifth.C       Fifth^4   \n",
       "1  0.5345225 -3.162278e-01  0.1195229\n",
       "2 -0.2672612  6.324555e-01 -0.4780914\n",
       "3 -0.5345225  1.786843e-17  0.7171372\n",
       "4 -0.2672612 -6.324555e-01 -0.4780914\n",
       "5  0.5345225  3.162278e-01  0.1195229\n",
       "6  0.5345225 -3.162278e-01  0.1195229"
      ]
     },
     "metadata": {},
     "output_type": "display_data"
    }
   ],
   "source": [
    "head(model.matrix(First ~ Second + Fourth + Fifth, testFrame))"
   ]
  },
  {
   "cell_type": "markdown",
   "metadata": {},
   "source": [
    "- 팩터의 베이스 레벨에 대한 지표 변수를 만들지 않는 것은 대부분의 선형 모형에서 다중공선성을 피하기 위함이다.\n",
    "- 그러나 일래스틱 넷을 사용하려는 경우 예측 변수 행렬을 이렇게 처리하면 안된다.\n",
    "- 팩터의 모든 레벨을 반환하도록 하는 것이 가능하고 useful 패키지의 build.x 함수를 사용한다."
   ]
  },
  {
   "cell_type": "code",
   "execution_count": 6,
   "metadata": {},
   "outputs": [
    {
     "name": "stderr",
     "output_type": "stream",
     "text": [
      "Loading required package: ggplot2\n"
     ]
    }
   ],
   "source": [
    "library(\"useful\")"
   ]
  },
  {
   "cell_type": "code",
   "execution_count": 7,
   "metadata": {},
   "outputs": [
    {
     "data": {
      "text/html": [
       "<table>\n",
       "<thead><tr><th></th><th scope=col>(Intercept)</th><th scope=col>Second</th><th scope=col>FourthAlice</th><th scope=col>FourthBob</th><th scope=col>FourthCharlie</th><th scope=col>FourthDavid</th><th scope=col>FifthEdward</th><th scope=col>FifthFrank</th><th scope=col>FifthGeorgia</th><th scope=col>FifthHank</th><th scope=col>FifthIsaac</th></tr></thead>\n",
       "<tbody>\n",
       "\t<tr><th scope=row>1</th><td>1 </td><td> 9</td><td>1 </td><td>0 </td><td>0 </td><td>0 </td><td>1 </td><td>0 </td><td>0 </td><td>0 </td><td>0 </td></tr>\n",
       "\t<tr><th scope=row>2</th><td>1 </td><td> 9</td><td>0 </td><td>1 </td><td>0 </td><td>0 </td><td>0 </td><td>1 </td><td>0 </td><td>0 </td><td>0 </td></tr>\n",
       "\t<tr><th scope=row>3</th><td>1 </td><td>19</td><td>0 </td><td>0 </td><td>1 </td><td>0 </td><td>0 </td><td>0 </td><td>1 </td><td>0 </td><td>0 </td></tr>\n",
       "\t<tr><th scope=row>4</th><td>1 </td><td>11</td><td>0 </td><td>0 </td><td>0 </td><td>1 </td><td>0 </td><td>0 </td><td>0 </td><td>1 </td><td>0 </td></tr>\n",
       "\t<tr><th scope=row>5</th><td>1 </td><td> 2</td><td>1 </td><td>0 </td><td>0 </td><td>0 </td><td>0 </td><td>0 </td><td>0 </td><td>0 </td><td>1 </td></tr>\n",
       "\t<tr><th scope=row>6</th><td>1 </td><td>15</td><td>0 </td><td>1 </td><td>0 </td><td>0 </td><td>1 </td><td>0 </td><td>0 </td><td>0 </td><td>0 </td></tr>\n",
       "</tbody>\n",
       "</table>\n"
      ],
      "text/latex": [
       "\\begin{tabular}{r|lllllllllll}\n",
       "  & (Intercept) & Second & FourthAlice & FourthBob & FourthCharlie & FourthDavid & FifthEdward & FifthFrank & FifthGeorgia & FifthHank & FifthIsaac\\\\\n",
       "\\hline\n",
       "\t1 & 1  &  9 & 1  & 0  & 0  & 0  & 1  & 0  & 0  & 0  & 0 \\\\\n",
       "\t2 & 1  &  9 & 0  & 1  & 0  & 0  & 0  & 1  & 0  & 0  & 0 \\\\\n",
       "\t3 & 1  & 19 & 0  & 0  & 1  & 0  & 0  & 0  & 1  & 0  & 0 \\\\\n",
       "\t4 & 1  & 11 & 0  & 0  & 0  & 1  & 0  & 0  & 0  & 1  & 0 \\\\\n",
       "\t5 & 1  &  2 & 1  & 0  & 0  & 0  & 0  & 0  & 0  & 0  & 1 \\\\\n",
       "\t6 & 1  & 15 & 0  & 1  & 0  & 0  & 1  & 0  & 0  & 0  & 0 \\\\\n",
       "\\end{tabular}\n"
      ],
      "text/markdown": [
       "\n",
       "| <!--/--> | (Intercept) | Second | FourthAlice | FourthBob | FourthCharlie | FourthDavid | FifthEdward | FifthFrank | FifthGeorgia | FifthHank | FifthIsaac | \n",
       "|---|---|---|---|---|---|\n",
       "| 1 | 1  |  9 | 1  | 0  | 0  | 0  | 1  | 0  | 0  | 0  | 0  | \n",
       "| 2 | 1  |  9 | 0  | 1  | 0  | 0  | 0  | 1  | 0  | 0  | 0  | \n",
       "| 3 | 1  | 19 | 0  | 0  | 1  | 0  | 0  | 0  | 1  | 0  | 0  | \n",
       "| 4 | 1  | 11 | 0  | 0  | 0  | 1  | 0  | 0  | 0  | 1  | 0  | \n",
       "| 5 | 1  |  2 | 1  | 0  | 0  | 0  | 0  | 0  | 0  | 0  | 1  | \n",
       "| 6 | 1  | 15 | 0  | 1  | 0  | 0  | 1  | 0  | 0  | 0  | 0  | \n",
       "\n",
       "\n"
      ],
      "text/plain": [
       "  (Intercept) Second FourthAlice FourthBob FourthCharlie FourthDavid\n",
       "1 1            9     1           0         0             0          \n",
       "2 1            9     0           1         0             0          \n",
       "3 1           19     0           0         1             0          \n",
       "4 1           11     0           0         0             1          \n",
       "5 1            2     1           0         0             0          \n",
       "6 1           15     0           1         0             0          \n",
       "  FifthEdward FifthFrank FifthGeorgia FifthHank FifthIsaac\n",
       "1 1           0          0            0         0         \n",
       "2 0           1          0            0         0         \n",
       "3 0           0          1            0         0         \n",
       "4 0           0          0            1         0         \n",
       "5 0           0          0            0         1         \n",
       "6 1           0          0            0         0         "
      ]
     },
     "metadata": {},
     "output_type": "display_data"
    }
   ],
   "source": [
    "head(build.x(First ~ Second + Fourth + Fifth , testFrame, contrast = FALSE))"
   ]
  },
  {
   "cell_type": "code",
   "execution_count": 9,
   "metadata": {},
   "outputs": [
    {
     "data": {
      "text/html": [
       "<table>\n",
       "<thead><tr><th></th><th scope=col>(Intercept)</th><th scope=col>Second</th><th scope=col>FourthAlice</th><th scope=col>FourthBob</th><th scope=col>FourthCharlie</th><th scope=col>FourthDavid</th><th scope=col>Fifth.L</th><th scope=col>Fifth.Q</th><th scope=col>Fifth.C</th><th scope=col>Fifth^4</th></tr></thead>\n",
       "<tbody>\n",
       "\t<tr><th scope=row>1</th><td>1            </td><td> 9           </td><td>1            </td><td>0            </td><td>0            </td><td>0            </td><td>-6.324555e-01</td><td> 0.5345225   </td><td>-3.162278e-01</td><td> 0.1195229   </td></tr>\n",
       "\t<tr><th scope=row>2</th><td>1            </td><td> 9           </td><td>0            </td><td>1            </td><td>0            </td><td>0            </td><td>-3.162278e-01</td><td>-0.2672612   </td><td> 6.324555e-01</td><td>-0.4780914   </td></tr>\n",
       "\t<tr><th scope=row>3</th><td>1            </td><td>19           </td><td>0            </td><td>0            </td><td>1            </td><td>0            </td><td>-1.481950e-18</td><td>-0.5345225   </td><td> 1.786843e-17</td><td> 0.7171372   </td></tr>\n",
       "\t<tr><th scope=row>4</th><td>1            </td><td>11           </td><td>0            </td><td>0            </td><td>0            </td><td>1            </td><td> 3.162278e-01</td><td>-0.2672612   </td><td>-6.324555e-01</td><td>-0.4780914   </td></tr>\n",
       "\t<tr><th scope=row>5</th><td>1            </td><td> 2           </td><td>1            </td><td>0            </td><td>0            </td><td>0            </td><td> 6.324555e-01</td><td> 0.5345225   </td><td> 3.162278e-01</td><td> 0.1195229   </td></tr>\n",
       "\t<tr><th scope=row>6</th><td>1            </td><td>15           </td><td>0            </td><td>1            </td><td>0            </td><td>0            </td><td>-6.324555e-01</td><td> 0.5345225   </td><td>-3.162278e-01</td><td> 0.1195229   </td></tr>\n",
       "</tbody>\n",
       "</table>\n"
      ],
      "text/latex": [
       "\\begin{tabular}{r|llllllllll}\n",
       "  & (Intercept) & Second & FourthAlice & FourthBob & FourthCharlie & FourthDavid & Fifth.L & Fifth.Q & Fifth.C & Fifth\\textasciicircum{}4\\\\\n",
       "\\hline\n",
       "\t1 & 1             &  9            & 1             & 0             & 0             & 0             & -6.324555e-01 &  0.5345225    & -3.162278e-01 &  0.1195229   \\\\\n",
       "\t2 & 1             &  9            & 0             & 1             & 0             & 0             & -3.162278e-01 & -0.2672612    &  6.324555e-01 & -0.4780914   \\\\\n",
       "\t3 & 1             & 19            & 0             & 0             & 1             & 0             & -1.481950e-18 & -0.5345225    &  1.786843e-17 &  0.7171372   \\\\\n",
       "\t4 & 1             & 11            & 0             & 0             & 0             & 1             &  3.162278e-01 & -0.2672612    & -6.324555e-01 & -0.4780914   \\\\\n",
       "\t5 & 1             &  2            & 1             & 0             & 0             & 0             &  6.324555e-01 &  0.5345225    &  3.162278e-01 &  0.1195229   \\\\\n",
       "\t6 & 1             & 15            & 0             & 1             & 0             & 0             & -6.324555e-01 &  0.5345225    & -3.162278e-01 &  0.1195229   \\\\\n",
       "\\end{tabular}\n"
      ],
      "text/markdown": [
       "\n",
       "| <!--/--> | (Intercept) | Second | FourthAlice | FourthBob | FourthCharlie | FourthDavid | Fifth.L | Fifth.Q | Fifth.C | Fifth^4 | \n",
       "|---|---|---|---|---|---|\n",
       "| 1 | 1             |  9            | 1             | 0             | 0             | 0             | -6.324555e-01 |  0.5345225    | -3.162278e-01 |  0.1195229    | \n",
       "| 2 | 1             |  9            | 0             | 1             | 0             | 0             | -3.162278e-01 | -0.2672612    |  6.324555e-01 | -0.4780914    | \n",
       "| 3 | 1             | 19            | 0             | 0             | 1             | 0             | -1.481950e-18 | -0.5345225    |  1.786843e-17 |  0.7171372    | \n",
       "| 4 | 1             | 11            | 0             | 0             | 0             | 1             |  3.162278e-01 | -0.2672612    | -6.324555e-01 | -0.4780914    | \n",
       "| 5 | 1             |  2            | 1             | 0             | 0             | 0             |  6.324555e-01 |  0.5345225    |  3.162278e-01 |  0.1195229    | \n",
       "| 6 | 1             | 15            | 0             | 1             | 0             | 0             | -6.324555e-01 |  0.5345225    | -3.162278e-01 |  0.1195229    | \n",
       "\n",
       "\n"
      ],
      "text/plain": [
       "  (Intercept) Second FourthAlice FourthBob FourthCharlie FourthDavid\n",
       "1 1            9     1           0         0             0          \n",
       "2 1            9     0           1         0             0          \n",
       "3 1           19     0           0         1             0          \n",
       "4 1           11     0           0         0             1          \n",
       "5 1            2     1           0         0             0          \n",
       "6 1           15     0           1         0             0          \n",
       "  Fifth.L       Fifth.Q    Fifth.C       Fifth^4   \n",
       "1 -6.324555e-01  0.5345225 -3.162278e-01  0.1195229\n",
       "2 -3.162278e-01 -0.2672612  6.324555e-01 -0.4780914\n",
       "3 -1.481950e-18 -0.5345225  1.786843e-17  0.7171372\n",
       "4  3.162278e-01 -0.2672612 -6.324555e-01 -0.4780914\n",
       "5  6.324555e-01  0.5345225  3.162278e-01  0.1195229\n",
       "6 -6.324555e-01  0.5345225 -3.162278e-01  0.1195229"
      ]
     },
     "metadata": {},
     "output_type": "display_data"
    }
   ],
   "source": [
    "head(build.x(First ~ Second + Fourth + Fifth , testFrame, contrast = c(Fourth=FALSE, Fifth=TRUE)))"
   ]
  },
  {
   "cell_type": "markdown",
   "metadata": {},
   "source": [
    "- acs 데이터를 활용해서 모형 설정"
   ]
  },
  {
   "cell_type": "code",
   "execution_count": 10,
   "metadata": {},
   "outputs": [
    {
     "data": {
      "text/html": [
       "<table>\n",
       "<thead><tr><th scope=col>Acres</th><th scope=col>FamilyIncome</th><th scope=col>FamilyType</th><th scope=col>NumBedrooms</th><th scope=col>NumChildren</th><th scope=col>NumPeople</th><th scope=col>NumRooms</th><th scope=col>NumUnits</th><th scope=col>NumVehicles</th><th scope=col>NumWorkers</th><th scope=col>OwnRent</th><th scope=col>YearBuilt</th><th scope=col>HouseCosts</th><th scope=col>ElectricBill</th><th scope=col>FoodStamp</th><th scope=col>HeatingFuel</th><th scope=col>Insurance</th><th scope=col>Language</th><th scope=col>Income</th></tr></thead>\n",
       "<tbody>\n",
       "\t<tr><td>1-10           </td><td>150            </td><td>Married        </td><td>4              </td><td>1              </td><td>3              </td><td>9              </td><td>Single detached</td><td>1              </td><td>0              </td><td>Mortgage       </td><td>1950-1959      </td><td>1800           </td><td> 90            </td><td>No             </td><td>Gas            </td><td>2500           </td><td>English        </td><td>FALSE          </td></tr>\n",
       "\t<tr><td>1-10           </td><td>180            </td><td>Female Head    </td><td>3              </td><td>2              </td><td>4              </td><td>6              </td><td>Single detached</td><td>2              </td><td>0              </td><td>Rented         </td><td>Before 1939    </td><td> 850           </td><td> 90            </td><td>No             </td><td>Oil            </td><td>   0           </td><td>English        </td><td>FALSE          </td></tr>\n",
       "\t<tr><td>1-10           </td><td>280            </td><td>Female Head    </td><td>4              </td><td>0              </td><td>2              </td><td>8              </td><td>Single detached</td><td>3              </td><td>1              </td><td>Mortgage       </td><td>2000-2004      </td><td>2600           </td><td>260            </td><td>No             </td><td>Oil            </td><td>6600           </td><td>Other European </td><td>FALSE          </td></tr>\n",
       "\t<tr><td>1-10           </td><td>330            </td><td>Female Head    </td><td>2              </td><td>1              </td><td>2              </td><td>4              </td><td>Single detached</td><td>1              </td><td>0              </td><td>Rented         </td><td>1950-1959      </td><td>1800           </td><td>140            </td><td>No             </td><td>Oil            </td><td>   0           </td><td>English        </td><td>FALSE          </td></tr>\n",
       "\t<tr><td>1-10           </td><td>330            </td><td>Male Head      </td><td>3              </td><td>1              </td><td>2              </td><td>5              </td><td>Single attached</td><td>1              </td><td>0              </td><td>Mortgage       </td><td>Before 1939    </td><td> 860           </td><td>150            </td><td>No             </td><td>Gas            </td><td> 660           </td><td>Spanish        </td><td>FALSE          </td></tr>\n",
       "\t<tr><td>1-10           </td><td>480            </td><td>Male Head      </td><td>0              </td><td>3              </td><td>4              </td><td>1              </td><td>Single detached</td><td>0              </td><td>0              </td><td>Rented         </td><td>Before 1939    </td><td> 700           </td><td>140            </td><td>No             </td><td>Gas            </td><td>   0           </td><td>English        </td><td>FALSE          </td></tr>\n",
       "</tbody>\n",
       "</table>\n"
      ],
      "text/latex": [
       "\\begin{tabular}{r|lllllllllllllllllll}\n",
       " Acres & FamilyIncome & FamilyType & NumBedrooms & NumChildren & NumPeople & NumRooms & NumUnits & NumVehicles & NumWorkers & OwnRent & YearBuilt & HouseCosts & ElectricBill & FoodStamp & HeatingFuel & Insurance & Language & Income\\\\\n",
       "\\hline\n",
       "\t 1-10            & 150             & Married         & 4               & 1               & 3               & 9               & Single detached & 1               & 0               & Mortgage        & 1950-1959       & 1800            &  90             & No              & Gas             & 2500            & English         & FALSE          \\\\\n",
       "\t 1-10            & 180             & Female Head     & 3               & 2               & 4               & 6               & Single detached & 2               & 0               & Rented          & Before 1939     &  850            &  90             & No              & Oil             &    0            & English         & FALSE          \\\\\n",
       "\t 1-10            & 280             & Female Head     & 4               & 0               & 2               & 8               & Single detached & 3               & 1               & Mortgage        & 2000-2004       & 2600            & 260             & No              & Oil             & 6600            & Other European  & FALSE          \\\\\n",
       "\t 1-10            & 330             & Female Head     & 2               & 1               & 2               & 4               & Single detached & 1               & 0               & Rented          & 1950-1959       & 1800            & 140             & No              & Oil             &    0            & English         & FALSE          \\\\\n",
       "\t 1-10            & 330             & Male Head       & 3               & 1               & 2               & 5               & Single attached & 1               & 0               & Mortgage        & Before 1939     &  860            & 150             & No              & Gas             &  660            & Spanish         & FALSE          \\\\\n",
       "\t 1-10            & 480             & Male Head       & 0               & 3               & 4               & 1               & Single detached & 0               & 0               & Rented          & Before 1939     &  700            & 140             & No              & Gas             &    0            & English         & FALSE          \\\\\n",
       "\\end{tabular}\n"
      ],
      "text/markdown": [
       "\n",
       "Acres | FamilyIncome | FamilyType | NumBedrooms | NumChildren | NumPeople | NumRooms | NumUnits | NumVehicles | NumWorkers | OwnRent | YearBuilt | HouseCosts | ElectricBill | FoodStamp | HeatingFuel | Insurance | Language | Income | \n",
       "|---|---|---|---|---|---|\n",
       "| 1-10            | 150             | Married         | 4               | 1               | 3               | 9               | Single detached | 1               | 0               | Mortgage        | 1950-1959       | 1800            |  90             | No              | Gas             | 2500            | English         | FALSE           | \n",
       "| 1-10            | 180             | Female Head     | 3               | 2               | 4               | 6               | Single detached | 2               | 0               | Rented          | Before 1939     |  850            |  90             | No              | Oil             |    0            | English         | FALSE           | \n",
       "| 1-10            | 280             | Female Head     | 4               | 0               | 2               | 8               | Single detached | 3               | 1               | Mortgage        | 2000-2004       | 2600            | 260             | No              | Oil             | 6600            | Other European  | FALSE           | \n",
       "| 1-10            | 330             | Female Head     | 2               | 1               | 2               | 4               | Single detached | 1               | 0               | Rented          | 1950-1959       | 1800            | 140             | No              | Oil             |    0            | English         | FALSE           | \n",
       "| 1-10            | 330             | Male Head       | 3               | 1               | 2               | 5               | Single attached | 1               | 0               | Mortgage        | Before 1939     |  860            | 150             | No              | Gas             |  660            | Spanish         | FALSE           | \n",
       "| 1-10            | 480             | Male Head       | 0               | 3               | 4               | 1               | Single detached | 0               | 0               | Rented          | Before 1939     |  700            | 140             | No              | Gas             |    0            | English         | FALSE           | \n",
       "\n",
       "\n"
      ],
      "text/plain": [
       "  Acres FamilyIncome FamilyType  NumBedrooms NumChildren NumPeople NumRooms\n",
       "1 1-10  150          Married     4           1           3         9       \n",
       "2 1-10  180          Female Head 3           2           4         6       \n",
       "3 1-10  280          Female Head 4           0           2         8       \n",
       "4 1-10  330          Female Head 2           1           2         4       \n",
       "5 1-10  330          Male Head   3           1           2         5       \n",
       "6 1-10  480          Male Head   0           3           4         1       \n",
       "  NumUnits        NumVehicles NumWorkers OwnRent  YearBuilt   HouseCosts\n",
       "1 Single detached 1           0          Mortgage 1950-1959   1800      \n",
       "2 Single detached 2           0          Rented   Before 1939  850      \n",
       "3 Single detached 3           1          Mortgage 2000-2004   2600      \n",
       "4 Single detached 1           0          Rented   1950-1959   1800      \n",
       "5 Single attached 1           0          Mortgage Before 1939  860      \n",
       "6 Single detached 0           0          Rented   Before 1939  700      \n",
       "  ElectricBill FoodStamp HeatingFuel Insurance Language       Income\n",
       "1  90          No        Gas         2500      English        FALSE \n",
       "2  90          No        Oil            0      English        FALSE \n",
       "3 260          No        Oil         6600      Other European FALSE \n",
       "4 140          No        Oil            0      English        FALSE \n",
       "5 150          No        Gas          660      Spanish        FALSE \n",
       "6 140          No        Gas            0      English        FALSE "
      ]
     },
     "metadata": {},
     "output_type": "display_data"
    }
   ],
   "source": [
    "acs$Income <- with(acs, FamilyIncome >= 150000) # 이진 변수 생성\n",
    "head(acs)"
   ]
  },
  {
   "cell_type": "markdown",
   "metadata": {},
   "source": [
    "- 예측 행렬 만들기"
   ]
  },
  {
   "cell_type": "code",
   "execution_count": 11,
   "metadata": {},
   "outputs": [],
   "source": [
    "acsX <- build.x(Income ~ NumBedrooms + NumChildren + NumPeople +\n",
    "               NumRooms + NumUnits + NumVehicles + NumWorkers +\n",
    "               OwnRent + YearBuilt + ElectricBill + FoodStamp +\n",
    "               HeatingFuel + Insurance + Language - 1,\n",
    "               data = acs , contrasts=FALSE) # glmnet 함수가 자동으로 절편으로 추가하기 때문에 절편을 넣지 않는다."
   ]
  },
  {
   "cell_type": "code",
   "execution_count": 12,
   "metadata": {},
   "outputs": [
    {
     "data": {
      "text/html": [
       "'matrix'"
      ],
      "text/latex": [
       "'matrix'"
      ],
      "text/markdown": [
       "'matrix'"
      ],
      "text/plain": [
       "[1] \"matrix\""
      ]
     },
     "metadata": {},
     "output_type": "display_data"
    }
   ],
   "source": [
    "class(acsX)"
   ]
  },
  {
   "cell_type": "code",
   "execution_count": 13,
   "metadata": {},
   "outputs": [
    {
     "data": {
      "text/html": [
       "<ol class=list-inline>\n",
       "\t<li>22745</li>\n",
       "\t<li>44</li>\n",
       "</ol>\n"
      ],
      "text/latex": [
       "\\begin{enumerate*}\n",
       "\\item 22745\n",
       "\\item 44\n",
       "\\end{enumerate*}\n"
      ],
      "text/markdown": [
       "1. 22745\n",
       "2. 44\n",
       "\n",
       "\n"
      ],
      "text/plain": [
       "[1] 22745    44"
      ]
     },
     "metadata": {},
     "output_type": "display_data"
    }
   ],
   "source": [
    "dim(acsX)"
   ]
  },
  {
   "cell_type": "code",
   "execution_count": 14,
   "metadata": {},
   "outputs": [
    {
     "data": {
      "text/html": [
       "<table>\n",
       "<thead><tr><th></th><th scope=col>NumBedrooms</th><th scope=col>NumChildren</th><th scope=col>NumPeople</th><th scope=col>NumRooms</th><th scope=col>NumUnitsMobile home</th><th scope=col>NumUnitsSingle attached</th></tr></thead>\n",
       "<tbody>\n",
       "\t<tr><th scope=row>1</th><td>4</td><td>1</td><td>3</td><td>9</td><td>0</td><td>0</td></tr>\n",
       "\t<tr><th scope=row>2</th><td>3</td><td>2</td><td>4</td><td>6</td><td>0</td><td>0</td></tr>\n",
       "\t<tr><th scope=row>3</th><td>4</td><td>0</td><td>2</td><td>8</td><td>0</td><td>0</td></tr>\n",
       "\t<tr><th scope=row>4</th><td>2</td><td>1</td><td>2</td><td>4</td><td>0</td><td>0</td></tr>\n",
       "\t<tr><th scope=row>5</th><td>3</td><td>1</td><td>2</td><td>5</td><td>0</td><td>1</td></tr>\n",
       "</tbody>\n",
       "</table>\n"
      ],
      "text/latex": [
       "\\begin{tabular}{r|llllll}\n",
       "  & NumBedrooms & NumChildren & NumPeople & NumRooms & NumUnitsMobile home & NumUnitsSingle attached\\\\\n",
       "\\hline\n",
       "\t1 & 4 & 1 & 3 & 9 & 0 & 0\\\\\n",
       "\t2 & 3 & 2 & 4 & 6 & 0 & 0\\\\\n",
       "\t3 & 4 & 0 & 2 & 8 & 0 & 0\\\\\n",
       "\t4 & 2 & 1 & 2 & 4 & 0 & 0\\\\\n",
       "\t5 & 3 & 1 & 2 & 5 & 0 & 1\\\\\n",
       "\\end{tabular}\n"
      ],
      "text/markdown": [
       "\n",
       "| <!--/--> | NumBedrooms | NumChildren | NumPeople | NumRooms | NumUnitsMobile home | NumUnitsSingle attached | \n",
       "|---|---|---|---|---|\n",
       "| 1 | 4 | 1 | 3 | 9 | 0 | 0 | \n",
       "| 2 | 3 | 2 | 4 | 6 | 0 | 0 | \n",
       "| 3 | 4 | 0 | 2 | 8 | 0 | 0 | \n",
       "| 4 | 2 | 1 | 2 | 4 | 0 | 0 | \n",
       "| 5 | 3 | 1 | 2 | 5 | 0 | 1 | \n",
       "\n",
       "\n"
      ],
      "text/plain": [
       "  NumBedrooms NumChildren NumPeople NumRooms NumUnitsMobile home\n",
       "1 4           1           3         9        0                  \n",
       "2 3           2           4         6        0                  \n",
       "3 4           0           2         8        0                  \n",
       "4 2           1           2         4        0                  \n",
       "5 3           1           2         5        0                  \n",
       "  NumUnitsSingle attached\n",
       "1 0                      \n",
       "2 0                      \n",
       "3 0                      \n",
       "4 0                      \n",
       "5 1                      "
      ]
     },
     "metadata": {},
     "output_type": "display_data"
    }
   ],
   "source": [
    "topleft(acsX, c=6)"
   ]
  },
  {
   "cell_type": "code",
   "execution_count": 16,
   "metadata": {},
   "outputs": [
    {
     "data": {
      "text/html": [
       "<table>\n",
       "<thead><tr><th></th><th scope=col>Insurance</th><th scope=col>LanguageAsian Pacific</th><th scope=col>LanguageEnglish</th><th scope=col>LanguageOther</th><th scope=col>LanguageOther European</th><th scope=col>LanguageSpanish</th></tr></thead>\n",
       "<tbody>\n",
       "\t<tr><th scope=row>1</th><td>2500</td><td>0   </td><td>1   </td><td>0   </td><td>0   </td><td>0   </td></tr>\n",
       "\t<tr><th scope=row>2</th><td>   0</td><td>0   </td><td>1   </td><td>0   </td><td>0   </td><td>0   </td></tr>\n",
       "\t<tr><th scope=row>3</th><td>6600</td><td>0   </td><td>0   </td><td>0   </td><td>1   </td><td>0   </td></tr>\n",
       "\t<tr><th scope=row>4</th><td>   0</td><td>0   </td><td>1   </td><td>0   </td><td>0   </td><td>0   </td></tr>\n",
       "\t<tr><th scope=row>5</th><td> 660</td><td>0   </td><td>0   </td><td>0   </td><td>0   </td><td>1   </td></tr>\n",
       "</tbody>\n",
       "</table>\n"
      ],
      "text/latex": [
       "\\begin{tabular}{r|llllll}\n",
       "  & Insurance & LanguageAsian Pacific & LanguageEnglish & LanguageOther & LanguageOther European & LanguageSpanish\\\\\n",
       "\\hline\n",
       "\t1 & 2500 & 0    & 1    & 0    & 0    & 0   \\\\\n",
       "\t2 &    0 & 0    & 1    & 0    & 0    & 0   \\\\\n",
       "\t3 & 6600 & 0    & 0    & 0    & 1    & 0   \\\\\n",
       "\t4 &    0 & 0    & 1    & 0    & 0    & 0   \\\\\n",
       "\t5 &  660 & 0    & 0    & 0    & 0    & 1   \\\\\n",
       "\\end{tabular}\n"
      ],
      "text/markdown": [
       "\n",
       "| <!--/--> | Insurance | LanguageAsian Pacific | LanguageEnglish | LanguageOther | LanguageOther European | LanguageSpanish | \n",
       "|---|---|---|---|---|\n",
       "| 1 | 2500 | 0    | 1    | 0    | 0    | 0    | \n",
       "| 2 |    0 | 0    | 1    | 0    | 0    | 0    | \n",
       "| 3 | 6600 | 0    | 0    | 0    | 1    | 0    | \n",
       "| 4 |    0 | 0    | 1    | 0    | 0    | 0    | \n",
       "| 5 |  660 | 0    | 0    | 0    | 0    | 1    | \n",
       "\n",
       "\n"
      ],
      "text/plain": [
       "  Insurance LanguageAsian Pacific LanguageEnglish LanguageOther\n",
       "1 2500      0                     1               0            \n",
       "2    0      0                     1               0            \n",
       "3 6600      0                     0               0            \n",
       "4    0      0                     1               0            \n",
       "5  660      0                     0               0            \n",
       "  LanguageOther European LanguageSpanish\n",
       "1 0                      0              \n",
       "2 0                      0              \n",
       "3 1                      0              \n",
       "4 0                      0              \n",
       "5 0                      1              "
      ]
     },
     "metadata": {},
     "output_type": "display_data"
    }
   ],
   "source": [
    "topright(acsX, c=6)"
   ]
  },
  {
   "cell_type": "markdown",
   "metadata": {},
   "source": [
    "- 응답 행렬 만들기"
   ]
  },
  {
   "cell_type": "code",
   "execution_count": 17,
   "metadata": {},
   "outputs": [],
   "source": [
    "acsY <- build.y(Income ~ NumBedrooms + NumChildren + NumPeople +\n",
    "               NumRooms + NumUnits + NumVehicles + NumWorkers +\n",
    "               OwnRent + YearBuilt + ElectricBill + FoodStamp +\n",
    "               HeatingFuel + Insurance + Language - 1,\n",
    "               data = acs)"
   ]
  },
  {
   "cell_type": "code",
   "execution_count": 18,
   "metadata": {},
   "outputs": [
    {
     "data": {
      "text/html": [
       "<ol class=list-inline>\n",
       "\t<li>FALSE</li>\n",
       "\t<li>FALSE</li>\n",
       "\t<li>FALSE</li>\n",
       "\t<li>FALSE</li>\n",
       "\t<li>FALSE</li>\n",
       "\t<li>FALSE</li>\n",
       "</ol>\n"
      ],
      "text/latex": [
       "\\begin{enumerate*}\n",
       "\\item FALSE\n",
       "\\item FALSE\n",
       "\\item FALSE\n",
       "\\item FALSE\n",
       "\\item FALSE\n",
       "\\item FALSE\n",
       "\\end{enumerate*}\n"
      ],
      "text/markdown": [
       "1. FALSE\n",
       "2. FALSE\n",
       "3. FALSE\n",
       "4. FALSE\n",
       "5. FALSE\n",
       "6. FALSE\n",
       "\n",
       "\n"
      ],
      "text/plain": [
       "[1] FALSE FALSE FALSE FALSE FALSE FALSE"
      ]
     },
     "metadata": {},
     "output_type": "display_data"
    }
   ],
   "source": [
    "head(acsY)"
   ]
  },
  {
   "cell_type": "code",
   "execution_count": 19,
   "metadata": {},
   "outputs": [
    {
     "data": {
      "text/html": [
       "<ol class=list-inline>\n",
       "\t<li>TRUE</li>\n",
       "\t<li>TRUE</li>\n",
       "\t<li>TRUE</li>\n",
       "\t<li>TRUE</li>\n",
       "\t<li>TRUE</li>\n",
       "\t<li>TRUE</li>\n",
       "</ol>\n"
      ],
      "text/latex": [
       "\\begin{enumerate*}\n",
       "\\item TRUE\n",
       "\\item TRUE\n",
       "\\item TRUE\n",
       "\\item TRUE\n",
       "\\item TRUE\n",
       "\\item TRUE\n",
       "\\end{enumerate*}\n"
      ],
      "text/markdown": [
       "1. TRUE\n",
       "2. TRUE\n",
       "3. TRUE\n",
       "4. TRUE\n",
       "5. TRUE\n",
       "6. TRUE\n",
       "\n",
       "\n"
      ],
      "text/plain": [
       "[1] TRUE TRUE TRUE TRUE TRUE TRUE"
      ]
     },
     "metadata": {},
     "output_type": "display_data"
    }
   ],
   "source": [
    "tail(acsY)"
   ]
  },
  {
   "cell_type": "markdown",
   "metadata": {},
   "source": [
    "- glmnet 패키지의 cv.glmnet 함수를 사용해서 교차 타당성을 계산\n",
    "- 여기서 가장 중요한 정보\n",
    "    - 교차 타당성에 대한 것\n",
    "    - 교차 타당성 오차를 최소화 하는 람다 값\n",
    "- 약간 덜 정확하더라도 더 단순한 모형을 선택하는 것이 좋다    \n"
   ]
  },
  {
   "cell_type": "code",
   "execution_count": 20,
   "metadata": {},
   "outputs": [
    {
     "name": "stderr",
     "output_type": "stream",
     "text": [
      "Loading required package: Matrix\n",
      "Loading required package: foreach\n",
      "Loaded glmnet 2.0-13\n",
      "\n"
     ]
    }
   ],
   "source": [
    "library(glmnet)"
   ]
  },
  {
   "cell_type": "code",
   "execution_count": 21,
   "metadata": {},
   "outputs": [],
   "source": [
    "set.seed(1863561)"
   ]
  },
  {
   "cell_type": "code",
   "execution_count": 22,
   "metadata": {},
   "outputs": [],
   "source": [
    "acsCV1 <- cv.glmnet(x=acsX, y=acsY, family = \"binomial\", nfold=5)"
   ]
  },
  {
   "cell_type": "code",
   "execution_count": 23,
   "metadata": {},
   "outputs": [
    {
     "data": {
      "text/html": [
       "0.000525829949014838"
      ],
      "text/latex": [
       "0.000525829949014838"
      ],
      "text/markdown": [
       "0.000525829949014838"
      ],
      "text/plain": [
       "[1] 0.0005258299"
      ]
     },
     "metadata": {},
     "output_type": "display_data"
    }
   ],
   "source": [
    "acsCV1$lambda.min"
   ]
  },
  {
   "cell_type": "code",
   "execution_count": 24,
   "metadata": {},
   "outputs": [
    {
     "data": {
      "text/html": [
       "0.0064826773814393"
      ],
      "text/latex": [
       "0.0064826773814393"
      ],
      "text/markdown": [
       "0.0064826773814393"
      ],
      "text/plain": [
       "[1] 0.006482677"
      ]
     },
     "metadata": {},
     "output_type": "display_data"
    }
   ],
   "source": [
    "acsCV1$lambda.1se"
   ]
  },
  {
   "cell_type": "markdown",
   "metadata": {},
   "source": [
    "- 왼쪽에 있는 수직 점선은 오차가 최소가 되는 지점의 람다 값\n",
    "- 오른쪽 수직 점선은 최솟값의 1 표준편차 이내에 있는 두 번째로 큰 람다 값"
   ]
  },
  {
   "cell_type": "code",
   "execution_count": 25,
   "metadata": {},
   "outputs": [
    {
     "data": {
      "image/png": "[encoded data removed]",
      "text/plain": [
       "plot without title"
      ]
     },
     "metadata": {},
     "output_type": "display_data"
    }
   ],
   "source": [
    "plot(acsCV1)"
   ]
  },
  {
   "cell_type": "markdown",
   "metadata": {},
   "source": [
    "- 계수를 추출하는 것은 coef 함수를 사용하지만 특정 람다 값을 지정해줘야 한다."
   ]
  },
  {
   "cell_type": "code",
   "execution_count": 26,
   "metadata": {},
   "outputs": [
    {
     "data": {
      "text/plain": [
       "45 x 1 sparse Matrix of class \"dgCMatrix\"\n",
       "                                    1\n",
       "(Intercept)             -5.0552170103\n",
       "NumBedrooms              0.0542621380\n",
       "NumChildren              .           \n",
       "NumPeople                .           \n",
       "NumRooms                 0.1102021934\n",
       "NumUnitsMobile home     -0.8960712560\n",
       "NumUnitsSingle attached  .           \n",
       "NumUnitsSingle detached  .           \n",
       "NumVehicles              0.1283171343\n",
       "NumWorkers               0.4806697219\n",
       "OwnRentMortgage          .           \n",
       "OwnRentOutright          0.2574766773\n",
       "OwnRentRented           -0.1790627645\n",
       "YearBuilt15              .           \n",
       "YearBuilt1940-1949      -0.0253908040\n",
       "YearBuilt1950-1959       .           \n",
       "YearBuilt1960-1969       .           \n",
       "YearBuilt1970-1979      -0.0063336086\n",
       "YearBuilt1980-1989       0.0147761442\n",
       "YearBuilt1990-1999       .           \n",
       "YearBuilt2000-2004       .           \n",
       "YearBuilt2005            .           \n",
       "YearBuilt2006            .           \n",
       "YearBuilt2007            .           \n",
       "YearBuilt2008            .           \n",
       "YearBuilt2009            .           \n",
       "YearBuilt2010            .           \n",
       "YearBuiltBefore 1939    -0.1829643904\n",
       "ElectricBill             0.0018200312\n",
       "FoodStampNo              0.7071289660\n",
       "FoodStampYes             .           \n",
       "HeatingFuelCoal         -0.2635263281\n",
       "HeatingFuelElectricity   .           \n",
       "HeatingFuelGas           .           \n",
       "HeatingFuelNone          .           \n",
       "HeatingFuelOil           .           \n",
       "HeatingFuelOther         .           \n",
       "HeatingFuelSolar         .           \n",
       "HeatingFuelWood         -0.7454315355\n",
       "Insurance                0.0004973315\n",
       "LanguageAsian Pacific    0.3606176925\n",
       "LanguageEnglish          .           \n",
       "LanguageOther            .           \n",
       "LanguageOther European   0.0389641675\n",
       "LanguageSpanish          .           "
      ]
     },
     "metadata": {},
     "output_type": "display_data"
    }
   ],
   "source": [
    "coef(acsCV1, s=\"lambda.1se\")"
   ]
  },
  {
   "cell_type": "markdown",
   "metadata": {},
   "source": [
    "- 라쏘 회귀에 대한 유의성 검정을 위해 lars 패키지를 사용한다\n",
    "- 람다 경로를 따라서 모형에 들어가는 변수를 시각화 할 수 있다."
   ]
  },
  {
   "cell_type": "code",
   "execution_count": 28,
   "metadata": {},
   "outputs": [
    {
     "data": {
      "image/png": "[encoded data removed]",
      "text/plain": [
       "plot without title"
      ]
     },
     "metadata": {},
     "output_type": "display_data"
    }
   ],
   "source": [
    "plot(acsCV1$glmnet.fit, xvar=\"lambda\")\n",
    "abline(v= log(c(acsCV1$lambda.min, acsCV1$lambda.1se)),lty=2)"
   ]
  },
  {
   "cell_type": "markdown",
   "metadata": {},
   "source": [
    "- 알파 = 0으로 지정하면 능형(Ridge)회귀를 사용한 결과를 반환한다.\n",
    "- 이 경우 변수들이 모형에 모두 유지되는 대신 0에 가깝게 축소된다."
   ]
  },
  {
   "cell_type": "code",
   "execution_count": 29,
   "metadata": {},
   "outputs": [],
   "source": [
    "set.seed(71623)\n",
    "acsCV2 <- cv.glmnet(x=acsX, y=acsY, family=\"binomial\",\n",
    "                   nfold = 5, alpha = 0)"
   ]
  },
  {
   "cell_type": "code",
   "execution_count": 30,
   "metadata": {},
   "outputs": [
    {
     "data": {
      "text/html": [
       "0.0139665050348562"
      ],
      "text/latex": [
       "0.0139665050348562"
      ],
      "text/markdown": [
       "0.0139665050348562"
      ],
      "text/plain": [
       "[1] 0.01396651"
      ]
     },
     "metadata": {},
     "output_type": "display_data"
    },
    {
     "data": {
      "text/html": [
       "0.0468101752991749"
      ],
      "text/latex": [
       "0.0468101752991749"
      ],
      "text/markdown": [
       "0.0468101752991749"
      ],
      "text/plain": [
       "[1] 0.04681018"
      ]
     },
     "metadata": {},
     "output_type": "display_data"
    }
   ],
   "source": [
    "acsCV2$lambda.min\n",
    "acsCV2$lambda.1se"
   ]
  },
  {
   "cell_type": "code",
   "execution_count": 31,
   "metadata": {},
   "outputs": [
    {
     "data": {
      "text/plain": [
       "45 x 1 sparse Matrix of class \"dgCMatrix\"\n",
       "                                    1\n",
       "(Intercept)             -4.8197810188\n",
       "NumBedrooms              0.1027963294\n",
       "NumChildren              0.0308893447\n",
       "NumPeople               -0.0203037177\n",
       "NumRooms                 0.0918136969\n",
       "NumUnitsMobile home     -0.8470874369\n",
       "NumUnitsSingle attached  0.1714879712\n",
       "NumUnitsSingle detached  0.0841095530\n",
       "NumVehicles              0.1583881396\n",
       "NumWorkers               0.3811651456\n",
       "OwnRentMortgage          0.1985621193\n",
       "OwnRentOutright          0.6480126218\n",
       "OwnRentRented           -0.2548147427\n",
       "YearBuilt15             -0.6828640400\n",
       "YearBuilt1940-1949      -0.1082928305\n",
       "YearBuilt1950-1959       0.0602009151\n",
       "YearBuilt1960-1969       0.0081133932\n",
       "YearBuilt1970-1979      -0.0816541923\n",
       "YearBuilt1980-1989       0.1593567244\n",
       "YearBuilt1990-1999       0.1218212609\n",
       "YearBuilt2000-2004       0.1768690849\n",
       "YearBuilt2005            0.2923210334\n",
       "YearBuilt2006            0.2309044444\n",
       "YearBuilt2007            0.3765019705\n",
       "YearBuilt2008           -0.0648999685\n",
       "YearBuilt2009            0.2382560699\n",
       "YearBuilt2010            0.3804282473\n",
       "YearBuiltBefore 1939    -0.1648659906\n",
       "ElectricBill             0.0018576432\n",
       "FoodStampNo              0.3886474609\n",
       "FoodStampYes            -0.3886013004\n",
       "HeatingFuelCoal         -0.7005075763\n",
       "HeatingFuelElectricity  -0.1370927269\n",
       "HeatingFuelGas           0.0873505398\n",
       "HeatingFuelNone         -0.5983944720\n",
       "HeatingFuelOil           0.1241958119\n",
       "HeatingFuelOther        -0.1872564710\n",
       "HeatingFuelSolar        -0.0870480957\n",
       "HeatingFuelWood         -0.6699727752\n",
       "Insurance                0.0003881588\n",
       "LanguageAsian Pacific    0.3982023046\n",
       "LanguageEnglish         -0.0851389569\n",
       "LanguageOther            0.1804675114\n",
       "LanguageOther European   0.0964194255\n",
       "LanguageSpanish         -0.1274688978"
      ]
     },
     "metadata": {},
     "output_type": "display_data"
    }
   ],
   "source": [
    "coef(acsCV2, s=\"lambda.1se\")"
   ]
  },
  {
   "cell_type": "code",
   "execution_count": 32,
   "metadata": {},
   "outputs": [
    {
     "data": {
      "image/png": "[encoded data removed]",
      "text/plain": [
       "plot without title"
      ]
     },
     "metadata": {},
     "output_type": "display_data"
    }
   ],
   "source": [
    "plot(acsCV2)"
   ]
  },
  {
   "cell_type": "code",
   "execution_count": 33,
   "metadata": {},
   "outputs": [
    {
     "data": {
      "image/png": "[encoded data removed]",
      "text/plain": [
       "plot without title"
      ]
     },
     "metadata": {},
     "output_type": "display_data"
    }
   ],
   "source": [
    "plot(acsCV2$glmnet, xvar=\"lambda\")\n",
    "abline(v=log(c(acsCV2$lambda.min, acsCV2$lambda.1se)),lty=2)"
   ]
  },
  {
   "cell_type": "markdown",
   "metadata": {},
   "source": [
    "- 최적의 알파 값을 찾기 위해서는 여러 알파 값에 대해 cv.glmnet 함수를 반복 실행해야 한다.\n",
    "- 코드를 병렬로 처리하는 방법 이용"
   ]
  },
  {
   "cell_type": "code",
   "execution_count": 34,
   "metadata": {},
   "outputs": [],
   "source": [
    "library(parallel)"
   ]
  },
  {
   "cell_type": "code",
   "execution_count": 35,
   "metadata": {},
   "outputs": [
    {
     "name": "stderr",
     "output_type": "stream",
     "text": [
      "Loading required package: iterators\n"
     ]
    }
   ],
   "source": [
    "library(doParallel)"
   ]
  },
  {
   "cell_type": "markdown",
   "metadata": {},
   "source": [
    "- 폴드 멤버십 정보를 담을 벡터 생성\n",
    "- foreach가 순회할 일련의 알파 값을 지정\n",
    "- 일반적으로 라쏘 방향으로 기울게 하는 것이 좋다고 알려져 있음(알파는 0.5보다 크게 지정)"
   ]
  },
  {
   "cell_type": "code",
   "execution_count": 36,
   "metadata": {},
   "outputs": [],
   "source": [
    "set.seed(2834673)"
   ]
  },
  {
   "cell_type": "code",
   "execution_count": 37,
   "metadata": {},
   "outputs": [],
   "source": [
    "# 폴드 만들기\n",
    "# 실행될 때마다 관찰값들이 같은 폴드에 있도록 지정\n",
    "\n",
    "theFolds <- sample(rep(x=1:5, length.out=nrow(acsX)))"
   ]
  },
  {
   "cell_type": "code",
   "execution_count": 38,
   "metadata": {},
   "outputs": [],
   "source": [
    "# 알파 값 지정\n",
    "\n",
    "alphas <- seq(from = 0.5, to = 1 , by =0.05)"
   ]
  },
  {
   "cell_type": "markdown",
   "metadata": {},
   "source": [
    "- 병렬 처리 이전에 makeCluster와 registerDoParallel 함수로 하나의 클러스터를 시작하고 등록\n",
    "\n",
    "\n",
    "- 처리를 마치면 stopCluster 함수를 사용해 클러스트를 멈춘다\n",
    "\n",
    "\n",
    "- .errorhandling = \"remove\" 로 정하면 어떤 오류가 발생했을 때 순회를 건너뛰게 한다.\n",
    "\n",
    "\n",
    "- .inorder = FALSE로 정하면 결과를 결합하는 순서가 중요하지 않아서 반환되는 대로 결합한다.\n",
    "\n",
    "\n",
    "- 여러 개의 인자를 한꺼번에 취하므로 .multicombine = TRUE로 설정해 속도를 올릴 수 있다.\n",
    "\n",
    "\n",
    "- .packages 인자에 glmnet 패키지를 지정해 각각의 워커마다 이 패키지를 로딩한다\n",
    "\n",
    "\n",
    "- %dopar% 연산자는 foreach 함수에 병렬로 처리할 것이라는 것을 알려준다\n",
    "\n",
    "\n",
    "- .export를 통해서 acsX, acsY, alphas, theFolds 같은 객체들을 명시적으로 로드하도록 한다.\n"
   ]
  },
  {
   "cell_type": "code",
   "execution_count": 39,
   "metadata": {},
   "outputs": [],
   "source": [
    "set.seed(5127151)"
   ]
  },
  {
   "cell_type": "code",
   "execution_count": 40,
   "metadata": {},
   "outputs": [],
   "source": [
    "cl <- makeCluster(2) # 2개의 워커를 가진 한 클러스터 시작"
   ]
  },
  {
   "cell_type": "code",
   "execution_count": 41,
   "metadata": {},
   "outputs": [],
   "source": [
    "registerDoParallel(cl) # 워커 등록"
   ]
  },
  {
   "cell_type": "code",
   "execution_count": 42,
   "metadata": {},
   "outputs": [],
   "source": [
    "before <- Sys.time() # 시간 트래킹"
   ]
  },
  {
   "cell_type": "code",
   "execution_count": 45,
   "metadata": {},
   "outputs": [
    {
     "name": "stderr",
     "output_type": "stream",
     "text": [
      "Warning message in e$fun(obj, substitute(ex), parent.frame(), e$data):\n",
      "\"already exporting variable(s): acsX, acsY, alphas, theFolds\""
     ]
    }
   ],
   "source": [
    "# foreach 루프 설정\n",
    "# 인자들 지정\n",
    "\n",
    "acsDouble <- foreach(i=1:length(alphas), .errorhandling=\"remove\",\n",
    "                    .inorder=FALSE, .multicombine=TRUE,\n",
    "                    .export=c(\"acsX\", \"acsY\", \"alphas\", \"theFolds\"),\n",
    "                    .packages=\"glmnet\") %dopar%\n",
    "                    {\n",
    "            print(alphas[i])\n",
    "            cv.glmnet(x=acsX, y=acsY, family=\"binomial\", nfolds=5,\n",
    "                     foldid=theFolds, alpha=alphas[i])\n",
    "                    }"
   ]
  },
  {
   "cell_type": "code",
   "execution_count": 46,
   "metadata": {},
   "outputs": [],
   "source": [
    "# 타이머 종료\n",
    "after <- Sys.time()"
   ]
  },
  {
   "cell_type": "code",
   "execution_count": 47,
   "metadata": {},
   "outputs": [],
   "source": [
    "# 일을 마친 다음 클러스터 종료\n",
    "stopCluster(cl)"
   ]
  },
  {
   "cell_type": "code",
   "execution_count": 48,
   "metadata": {},
   "outputs": [
    {
     "data": {
      "text/plain": [
       "Time difference of 3.54586 mins"
      ]
     },
     "metadata": {},
     "output_type": "display_data"
    }
   ],
   "source": [
    "# 시간 계산\n",
    "after - before"
   ]
  },
  {
   "cell_type": "code",
   "execution_count": 49,
   "metadata": {},
   "outputs": [
    {
     "data": {
      "text/html": [
       "<ol class=list-inline>\n",
       "\t<li>'cv.glmnet'</li>\n",
       "\t<li>'cv.glmnet'</li>\n",
       "\t<li>'cv.glmnet'</li>\n",
       "\t<li>'cv.glmnet'</li>\n",
       "\t<li>'cv.glmnet'</li>\n",
       "\t<li>'cv.glmnet'</li>\n",
       "\t<li>'cv.glmnet'</li>\n",
       "\t<li>'cv.glmnet'</li>\n",
       "\t<li>'cv.glmnet'</li>\n",
       "\t<li>'cv.glmnet'</li>\n",
       "\t<li>'cv.glmnet'</li>\n",
       "</ol>\n"
      ],
      "text/latex": [
       "\\begin{enumerate*}\n",
       "\\item 'cv.glmnet'\n",
       "\\item 'cv.glmnet'\n",
       "\\item 'cv.glmnet'\n",
       "\\item 'cv.glmnet'\n",
       "\\item 'cv.glmnet'\n",
       "\\item 'cv.glmnet'\n",
       "\\item 'cv.glmnet'\n",
       "\\item 'cv.glmnet'\n",
       "\\item 'cv.glmnet'\n",
       "\\item 'cv.glmnet'\n",
       "\\item 'cv.glmnet'\n",
       "\\end{enumerate*}\n"
      ],
      "text/markdown": [
       "1. 'cv.glmnet'\n",
       "2. 'cv.glmnet'\n",
       "3. 'cv.glmnet'\n",
       "4. 'cv.glmnet'\n",
       "5. 'cv.glmnet'\n",
       "6. 'cv.glmnet'\n",
       "7. 'cv.glmnet'\n",
       "8. 'cv.glmnet'\n",
       "9. 'cv.glmnet'\n",
       "10. 'cv.glmnet'\n",
       "11. 'cv.glmnet'\n",
       "\n",
       "\n"
      ],
      "text/plain": [
       " [1] \"cv.glmnet\" \"cv.glmnet\" \"cv.glmnet\" \"cv.glmnet\" \"cv.glmnet\" \"cv.glmnet\"\n",
       " [7] \"cv.glmnet\" \"cv.glmnet\" \"cv.glmnet\" \"cv.glmnet\" \"cv.glmnet\""
      ]
     },
     "metadata": {},
     "output_type": "display_data"
    }
   ],
   "source": [
    "# 리스트의 각 요소 클래스 체크\n",
    "sapply(acsDouble, class)"
   ]
  },
  {
   "cell_type": "code",
   "execution_count": 50,
   "metadata": {},
   "outputs": [],
   "source": [
    "# cv.glmnet 객체에 있는 정보를 추출하는 함수 정의\n",
    "extractGlmnetInfo <- function(object){\n",
    "    # 람다 찾기\n",
    "    lambdaMin <- object$lambda.min\n",
    "    lambda1se <- object$lambda.1se\n",
    "    \n",
    "    # 이들 람다가 어느 경로에 있는지 파악하기\n",
    "    whichMin <- which(object$lambda == lambdaMin)\n",
    "    which1se <- which(object$lambda == lambda1se)\n",
    "    \n",
    "    # 선택된 람다와 해당하는 오차값을 데이터 프레임의 한 행으로 만들기\n",
    "    data.frame(lambda.min = lambdaMin, error.min = object$cvm[whichMin],\n",
    "              lambda.1se = lambda1se, error.1se = object$cvm[which1se])\n",
    "}"
   ]
  },
  {
   "cell_type": "code",
   "execution_count": 51,
   "metadata": {},
   "outputs": [],
   "source": [
    "# 만든 함수를 리스트의 각 요소에 적용하기\n",
    "# 그것들을 묶어서 하나의 데이터 프레임으로 만들기\n",
    "\n",
    "alphaInfo <- Reduce(rbind, lapply(acsDouble, extractGlmnetInfo))"
   ]
  },
  {
   "cell_type": "code",
   "execution_count": 52,
   "metadata": {},
   "outputs": [],
   "source": [
    "# plyr 패키지의 ldply 함수를 사용할 수도 있다.\n",
    "\n",
    "alphaInfo2 <- plyr::ldply(acsDouble, extractGlmnetInfo)"
   ]
  },
  {
   "cell_type": "code",
   "execution_count": 53,
   "metadata": {},
   "outputs": [
    {
     "data": {
      "text/html": [
       "TRUE"
      ],
      "text/latex": [
       "TRUE"
      ],
      "text/markdown": [
       "TRUE"
      ],
      "text/plain": [
       "[1] TRUE"
      ]
     },
     "metadata": {},
     "output_type": "display_data"
    }
   ],
   "source": [
    "identical(alphaInfo, alphaInfo2)"
   ]
  },
  {
   "cell_type": "code",
   "execution_count": 54,
   "metadata": {},
   "outputs": [],
   "source": [
    "# alphas 값을 사용해 정리\n",
    "\n",
    "alphaInfo$Alpha <- alphas"
   ]
  },
  {
   "cell_type": "code",
   "execution_count": 55,
   "metadata": {},
   "outputs": [
    {
     "data": {
      "text/html": [
       "<table>\n",
       "<thead><tr><th scope=col>lambda.min</th><th scope=col>error.min</th><th scope=col>lambda.1se</th><th scope=col>error.1se</th><th scope=col>Alpha</th></tr></thead>\n",
       "<tbody>\n",
       "\t<tr><td>0.0009582333</td><td>0.8220268   </td><td>0.008142621 </td><td>0.8275240   </td><td>0.50        </td></tr>\n",
       "\t<tr><td>0.0009560545</td><td>0.8220229   </td><td>0.007402382 </td><td>0.8273831   </td><td>0.55        </td></tr>\n",
       "\t<tr><td>0.0008763832</td><td>0.8220198   </td><td>0.006785517 </td><td>0.8272666   </td><td>0.60        </td></tr>\n",
       "\t<tr><td>0.0008089692</td><td>0.8220180   </td><td>0.006263554 </td><td>0.8271680   </td><td>0.65        </td></tr>\n",
       "\t<tr><td>0.0008244253</td><td>0.8220170   </td><td>0.005816158 </td><td>0.8270837   </td><td>0.70        </td></tr>\n",
       "\t<tr><td>0.0007694636</td><td>0.8220153   </td><td>0.005428414 </td><td>0.8270087   </td><td>0.75        </td></tr>\n",
       "\t<tr><td>0.0007213721</td><td>0.8220140   </td><td>0.005585323 </td><td>0.8276055   </td><td>0.80        </td></tr>\n",
       "\t<tr><td>0.0006789385</td><td>0.8220131   </td><td>0.005256774 </td><td>0.8275457   </td><td>0.85        </td></tr>\n",
       "\t<tr><td>0.0006412197</td><td>0.8220125   </td><td>0.004964731 </td><td>0.8274930   </td><td>0.90        </td></tr>\n",
       "\t<tr><td>0.0006074713</td><td>0.8220120   </td><td>0.004703430 </td><td>0.8274462   </td><td>0.95        </td></tr>\n",
       "\t<tr><td>0.0005770977</td><td>0.8220121   </td><td>0.004468258 </td><td>0.8274054   </td><td>1.00        </td></tr>\n",
       "</tbody>\n",
       "</table>\n"
      ],
      "text/latex": [
       "\\begin{tabular}{r|lllll}\n",
       " lambda.min & error.min & lambda.1se & error.1se & Alpha\\\\\n",
       "\\hline\n",
       "\t 0.0009582333 & 0.8220268    & 0.008142621  & 0.8275240    & 0.50        \\\\\n",
       "\t 0.0009560545 & 0.8220229    & 0.007402382  & 0.8273831    & 0.55        \\\\\n",
       "\t 0.0008763832 & 0.8220198    & 0.006785517  & 0.8272666    & 0.60        \\\\\n",
       "\t 0.0008089692 & 0.8220180    & 0.006263554  & 0.8271680    & 0.65        \\\\\n",
       "\t 0.0008244253 & 0.8220170    & 0.005816158  & 0.8270837    & 0.70        \\\\\n",
       "\t 0.0007694636 & 0.8220153    & 0.005428414  & 0.8270087    & 0.75        \\\\\n",
       "\t 0.0007213721 & 0.8220140    & 0.005585323  & 0.8276055    & 0.80        \\\\\n",
       "\t 0.0006789385 & 0.8220131    & 0.005256774  & 0.8275457    & 0.85        \\\\\n",
       "\t 0.0006412197 & 0.8220125    & 0.004964731  & 0.8274930    & 0.90        \\\\\n",
       "\t 0.0006074713 & 0.8220120    & 0.004703430  & 0.8274462    & 0.95        \\\\\n",
       "\t 0.0005770977 & 0.8220121    & 0.004468258  & 0.8274054    & 1.00        \\\\\n",
       "\\end{tabular}\n"
      ],
      "text/markdown": [
       "\n",
       "lambda.min | error.min | lambda.1se | error.1se | Alpha | \n",
       "|---|---|---|---|---|---|---|---|---|---|---|\n",
       "| 0.0009582333 | 0.8220268    | 0.008142621  | 0.8275240    | 0.50         | \n",
       "| 0.0009560545 | 0.8220229    | 0.007402382  | 0.8273831    | 0.55         | \n",
       "| 0.0008763832 | 0.8220198    | 0.006785517  | 0.8272666    | 0.60         | \n",
       "| 0.0008089692 | 0.8220180    | 0.006263554  | 0.8271680    | 0.65         | \n",
       "| 0.0008244253 | 0.8220170    | 0.005816158  | 0.8270837    | 0.70         | \n",
       "| 0.0007694636 | 0.8220153    | 0.005428414  | 0.8270087    | 0.75         | \n",
       "| 0.0007213721 | 0.8220140    | 0.005585323  | 0.8276055    | 0.80         | \n",
       "| 0.0006789385 | 0.8220131    | 0.005256774  | 0.8275457    | 0.85         | \n",
       "| 0.0006412197 | 0.8220125    | 0.004964731  | 0.8274930    | 0.90         | \n",
       "| 0.0006074713 | 0.8220120    | 0.004703430  | 0.8274462    | 0.95         | \n",
       "| 0.0005770977 | 0.8220121    | 0.004468258  | 0.8274054    | 1.00         | \n",
       "\n",
       "\n"
      ],
      "text/plain": [
       "   lambda.min   error.min lambda.1se  error.1se Alpha\n",
       "1  0.0009582333 0.8220268 0.008142621 0.8275240 0.50 \n",
       "2  0.0009560545 0.8220229 0.007402382 0.8273831 0.55 \n",
       "3  0.0008763832 0.8220198 0.006785517 0.8272666 0.60 \n",
       "4  0.0008089692 0.8220180 0.006263554 0.8271680 0.65 \n",
       "5  0.0008244253 0.8220170 0.005816158 0.8270837 0.70 \n",
       "6  0.0007694636 0.8220153 0.005428414 0.8270087 0.75 \n",
       "7  0.0007213721 0.8220140 0.005585323 0.8276055 0.80 \n",
       "8  0.0006789385 0.8220131 0.005256774 0.8275457 0.85 \n",
       "9  0.0006412197 0.8220125 0.004964731 0.8274930 0.90 \n",
       "10 0.0006074713 0.8220120 0.004703430 0.8274462 0.95 \n",
       "11 0.0005770977 0.8220121 0.004468258 0.8274054 1.00 "
      ]
     },
     "metadata": {},
     "output_type": "display_data"
    }
   ],
   "source": [
    "alphaInfo"
   ]
  },
  {
   "cell_type": "code",
   "execution_count": 56,
   "metadata": {},
   "outputs": [],
   "source": [
    "## 플롯팅에 사용된 정보를 담을 데이터 프레임 준비\n",
    "\n",
    "library(reshape2)"
   ]
  },
  {
   "cell_type": "code",
   "execution_count": 57,
   "metadata": {},
   "outputs": [],
   "source": [
    "library(stringr)"
   ]
  },
  {
   "cell_type": "code",
   "execution_count": 58,
   "metadata": {},
   "outputs": [],
   "source": [
    "# 데이터를 롱폼으로 변환\n",
    "\n",
    "alphaMelt <- melt(alphaInfo, id.vars=\"Alpha\", value.name=\"Value\",\n",
    "                 variable.name = \"Measure\")"
   ]
  },
  {
   "cell_type": "code",
   "execution_count": 59,
   "metadata": {},
   "outputs": [],
   "source": [
    "alphaMelt$Type <- str_extract(string=alphaMelt$Measure,\n",
    "                             pattern=\"(min)|(1se)\")"
   ]
  },
  {
   "cell_type": "code",
   "execution_count": 60,
   "metadata": {},
   "outputs": [],
   "source": [
    "# 일부 정리 작업\n",
    "\n",
    "alphaMelt$Measure <- str_replace(string=alphaMelt$Measure,\n",
    "                                pattern=\"\\\\.(min|1se)\",\n",
    "                                replacement=\"\")"
   ]
  },
  {
   "cell_type": "code",
   "execution_count": 61,
   "metadata": {},
   "outputs": [],
   "source": [
    "alphaCast <- dcast(alphaMelt, Alpha + Type ~ Measure,\n",
    "                  value.var=\"Value\")"
   ]
  },
  {
   "cell_type": "markdown",
   "metadata": {},
   "source": [
    "- 상단(1se) 기준으로 최적 알파는 0.75\n",
    "- 하단(min) 기준으로 최적 알파는 0.95"
   ]
  },
  {
   "cell_type": "code",
   "execution_count": 62,
   "metadata": {},
   "outputs": [
    {
     "data": {},
     "metadata": {},
     "output_type": "display_data"
    },
    {
     "data": {
      "image/png": "[encoded data removed]",
      "text/plain": [
       "plot without title"
      ]
     },
     "metadata": {},
     "output_type": "display_data"
    }
   ],
   "source": [
    "ggplot(alphaCast, aes(x=Alpha, y=error)) +\n",
    "geom_line(aes(group=Type))+\n",
    "facet_wrap(~Type, scales =\"free_y\", ncol=1)+\n",
    "geom_point(aes(size=lambda))"
   ]
  },
  {
   "cell_type": "markdown",
   "metadata": {},
   "source": [
    "- 알파 = 0.75 를 이용해서 다시 모형을 적합"
   ]
  },
  {
   "cell_type": "code",
   "execution_count": 63,
   "metadata": {},
   "outputs": [],
   "source": [
    "set.seed(5127151)\n",
    "acsCV3 <- cv.glmnet(x=acsX, y=acsY, family = \"binomial\", nfolds=5,\n",
    "                   alpha = alphaInfo$Alpha[which.min(\n",
    "                   alphaInfo$error.1se)])"
   ]
  },
  {
   "cell_type": "code",
   "execution_count": 64,
   "metadata": {},
   "outputs": [
    {
     "data": {
      "image/png": "[encoded data removed]",
      "text/plain": [
       "plot without title"
      ]
     },
     "metadata": {},
     "output_type": "display_data"
    }
   ],
   "source": [
    "plot(acsCV3)"
   ]
  },
  {
   "cell_type": "code",
   "execution_count": 65,
   "metadata": {},
   "outputs": [
    {
     "data": {
      "image/png": "[encoded data removed]",
      "text/plain": [
       "plot without title"
      ]
     },
     "metadata": {},
     "output_type": "display_data"
    }
   ],
   "source": [
    "plot(acsCV3$glmnet.fit, xvar=\"lambda\")\n",
    "abline(v=log(c(acsCV3$lambda.min, acsCV3$lambda.1se)), lty=2)"
   ]
  },
  {
   "cell_type": "code",
   "execution_count": 66,
   "metadata": {},
   "outputs": [],
   "source": [
    "theCoef <- as.matrix(coef(acsCV3, s=\"lambda.1se\"))"
   ]
  },
  {
   "cell_type": "code",
   "execution_count": 67,
   "metadata": {},
   "outputs": [],
   "source": [
    "coefDF <- data.frame(Value=theCoef, Coefficient=rownames(theCoef))"
   ]
  },
  {
   "cell_type": "code",
   "execution_count": 68,
   "metadata": {},
   "outputs": [],
   "source": [
    "coefDF <- coefDF[nonzeroCoef(coef(acsCV3, s=\"lambda.1se\")),]"
   ]
  },
  {
   "cell_type": "code",
   "execution_count": 69,
   "metadata": {},
   "outputs": [
    {
     "data": {},
     "metadata": {},
     "output_type": "display_data"
    },
    {
     "data": {
      "image/png": "[encoded data removed]",
      "text/plain": [
       "plot without title"
      ]
     },
     "metadata": {},
     "output_type": "display_data"
    }
   ],
   "source": [
    "ggplot(coefDF, aes(x=X1, y=reorder(Coefficient,X1)))+\n",
    "geom_vline(xintercept=0, color=\"grey\", linetype=2)+\n",
    "geom_point(color=\"blue\")+\n",
    "labs(x=\"Value\", y=\"Coefficient\", title=\"Coefficient Plot\")"
   ]
  },
  {
   "cell_type": "markdown",
   "metadata": {},
   "source": [
    "## 2. 베이즈 축소(Bayesian Shrinkage)\n",
    "\n",
    "- 모형이 충분하지 않은 열의 수와 몇 개의 변수들로 구성된 데이터에 적용할 때 특히 유효"
   ]
  },
  {
   "cell_type": "code",
   "execution_count": 1,
   "metadata": {},
   "outputs": [],
   "source": [
    "load(\"ideo.rdata\")"
   ]
  },
  {
   "cell_type": "code",
   "execution_count": 2,
   "metadata": {},
   "outputs": [
    {
     "data": {
      "text/html": [
       "<table>\n",
       "<thead><tr><th scope=col>Year</th><th scope=col>Vote</th><th scope=col>Age</th><th scope=col>Gender</th><th scope=col>Race</th><th scope=col>Education</th><th scope=col>Income</th><th scope=col>Religion</th></tr></thead>\n",
       "<tbody>\n",
       "\t<tr><td>1948                                 </td><td>democrat                             </td><td>NA                                   </td><td>male                                 </td><td>white                                </td><td>grade school of less (0-8 grades)    </td><td>34 to 67 percentile                  </td><td>protestant                           </td></tr>\n",
       "\t<tr><td>1948                                 </td><td>republican                           </td><td>NA                                   </td><td>female                               </td><td>white                                </td><td>high school (12 grades or fewer, incl</td><td>96 to 100 percentile                 </td><td>protestant                           </td></tr>\n",
       "\t<tr><td>1948                                 </td><td>democrat                             </td><td>NA                                   </td><td>female                               </td><td>white                                </td><td>high school (12 grades or fewer, incl</td><td>68 to 95 percentile                  </td><td>catholic (roman catholic)            </td></tr>\n",
       "\t<tr><td>1948                                 </td><td>republican                           </td><td>NA                                   </td><td>female                               </td><td>white                                </td><td>some college(13 grades or more,but no</td><td>96 to 100 percentile                 </td><td>protestant                           </td></tr>\n",
       "\t<tr><td>1948                                 </td><td>democrat                             </td><td>NA                                   </td><td>male                                 </td><td>white                                </td><td>some college(13 grades or more,but no</td><td>68 to 95 percentile                  </td><td>catholic (roman catholic)            </td></tr>\n",
       "\t<tr><td>1948                                 </td><td>republican                           </td><td>NA                                   </td><td>female                               </td><td>white                                </td><td>high school (12 grades or fewer, incl</td><td>96 to 100 percentile                 </td><td>protestant                           </td></tr>\n",
       "</tbody>\n",
       "</table>\n"
      ],
      "text/latex": [
       "\\begin{tabular}{r|llllllll}\n",
       " Year & Vote & Age & Gender & Race & Education & Income & Religion\\\\\n",
       "\\hline\n",
       "\t 1948                                  & democrat                              & NA                                    & male                                  & white                                 & grade school of less (0-8 grades)     & 34 to 67 percentile                   & protestant                           \\\\\n",
       "\t 1948                                  & republican                            & NA                                    & female                                & white                                 & high school (12 grades or fewer, incl & 96 to 100 percentile                  & protestant                           \\\\\n",
       "\t 1948                                  & democrat                              & NA                                    & female                                & white                                 & high school (12 grades or fewer, incl & 68 to 95 percentile                   & catholic (roman catholic)            \\\\\n",
       "\t 1948                                  & republican                            & NA                                    & female                                & white                                 & some college(13 grades or more,but no & 96 to 100 percentile                  & protestant                           \\\\\n",
       "\t 1948                                  & democrat                              & NA                                    & male                                  & white                                 & some college(13 grades or more,but no & 68 to 95 percentile                   & catholic (roman catholic)            \\\\\n",
       "\t 1948                                  & republican                            & NA                                    & female                                & white                                 & high school (12 grades or fewer, incl & 96 to 100 percentile                  & protestant                           \\\\\n",
       "\\end{tabular}\n"
      ],
      "text/markdown": [
       "\n",
       "Year | Vote | Age | Gender | Race | Education | Income | Religion | \n",
       "|---|---|---|---|---|---|\n",
       "| 1948                                  | democrat                              | NA                                    | male                                  | white                                 | grade school of less (0-8 grades)     | 34 to 67 percentile                   | protestant                            | \n",
       "| 1948                                  | republican                            | NA                                    | female                                | white                                 | high school (12 grades or fewer, incl | 96 to 100 percentile                  | protestant                            | \n",
       "| 1948                                  | democrat                              | NA                                    | female                                | white                                 | high school (12 grades or fewer, incl | 68 to 95 percentile                   | catholic (roman catholic)             | \n",
       "| 1948                                  | republican                            | NA                                    | female                                | white                                 | some college(13 grades or more,but no | 96 to 100 percentile                  | protestant                            | \n",
       "| 1948                                  | democrat                              | NA                                    | male                                  | white                                 | some college(13 grades or more,but no | 68 to 95 percentile                   | catholic (roman catholic)             | \n",
       "| 1948                                  | republican                            | NA                                    | female                                | white                                 | high school (12 grades or fewer, incl | 96 to 100 percentile                  | protestant                            | \n",
       "\n",
       "\n"
      ],
      "text/plain": [
       "  Year Vote       Age Gender Race  Education                            \n",
       "1 1948 democrat   NA  male   white grade school of less (0-8 grades)    \n",
       "2 1948 republican NA  female white high school (12 grades or fewer, incl\n",
       "3 1948 democrat   NA  female white high school (12 grades or fewer, incl\n",
       "4 1948 republican NA  female white some college(13 grades or more,but no\n",
       "5 1948 democrat   NA  male   white some college(13 grades or more,but no\n",
       "6 1948 republican NA  female white high school (12 grades or fewer, incl\n",
       "  Income               Religion                 \n",
       "1 34 to 67 percentile  protestant               \n",
       "2 96 to 100 percentile protestant               \n",
       "3 68 to 95 percentile  catholic (roman catholic)\n",
       "4 96 to 100 percentile protestant               \n",
       "5 68 to 95 percentile  catholic (roman catholic)\n",
       "6 96 to 100 percentile protestant               "
      ]
     },
     "metadata": {},
     "output_type": "display_data"
    }
   ],
   "source": [
    "head(ideo)"
   ]
  },
  {
   "cell_type": "code",
   "execution_count": 3,
   "metadata": {},
   "outputs": [
    {
     "name": "stderr",
     "output_type": "stream",
     "text": [
      "\n",
      "Attaching package: 'dplyr'\n",
      "\n",
      "The following objects are masked from 'package:stats':\n",
      "\n",
      "    filter, lag\n",
      "\n",
      "The following objects are masked from 'package:base':\n",
      "\n",
      "    intersect, setdiff, setequal, union\n",
      "\n"
     ]
    }
   ],
   "source": [
    "library(dplyr)"
   ]
  },
  {
   "cell_type": "code",
   "execution_count": 4,
   "metadata": {},
   "outputs": [],
   "source": [
    "results <- ideo %>%\n",
    "group_by(Year) %>%\n",
    "# 세부 그룹에 모형을 적합\n",
    "do(Model = glm(Vote ~ Race + Income + Gender + Education,\n",
    "              data = .,\n",
    "              family=binomial(link=\"logit\")))"
   ]
  },
  {
   "cell_type": "code",
   "execution_count": 5,
   "metadata": {},
   "outputs": [],
   "source": [
    "# 모형은 list-column으로 존재한다.\n",
    "# 해당 열에 이름을 준다\n",
    "names(results$Model) <- as.character(results$Year)"
   ]
  },
  {
   "cell_type": "code",
   "execution_count": 7,
   "metadata": {},
   "outputs": [
    {
     "name": "stderr",
     "output_type": "stream",
     "text": [
      "Loading required package: ggplot2\n"
     ]
    }
   ],
   "source": [
    "library(coefplot)"
   ]
  },
  {
   "cell_type": "code",
   "execution_count": 8,
   "metadata": {},
   "outputs": [],
   "source": [
    "voteInfo <- multiplot(results$Model,\n",
    "                     coefficients = \"Raceblack\", plot=FALSE)"
   ]
  },
  {
   "cell_type": "code",
   "execution_count": 9,
   "metadata": {},
   "outputs": [
    {
     "data": {
      "text/html": [
       "<table>\n",
       "<thead><tr><th scope=col>Value</th><th scope=col>Coefficient</th><th scope=col>HighInner</th><th scope=col>LowInner</th><th scope=col>HighOuter</th><th scope=col>LowOuter</th><th scope=col>Model</th></tr></thead>\n",
       "<tbody>\n",
       "\t<tr><td>  0.07119541</td><td>Raceblack   </td><td>  0.6297813 </td><td>  -0.4873905</td><td>  1.1883673 </td><td>  -1.045976 </td><td>1948        </td></tr>\n",
       "\t<tr><td> -1.68490828</td><td>Raceblack   </td><td> -1.3175506 </td><td>  -2.0522659</td><td> -0.9501930 </td><td>  -2.419624 </td><td>1952        </td></tr>\n",
       "\t<tr><td> -0.89178359</td><td>Raceblack   </td><td> -0.5857195 </td><td>  -1.1978476</td><td> -0.2796555 </td><td>  -1.503912 </td><td>1956        </td></tr>\n",
       "\t<tr><td> -1.07674848</td><td>Raceblack   </td><td> -0.7099648 </td><td>  -1.4435322</td><td> -0.3431811 </td><td>  -1.810316 </td><td>1960        </td></tr>\n",
       "\t<tr><td>-16.85751152</td><td>Raceblack   </td><td>382.1171424 </td><td>-415.8321655</td><td>781.0917963 </td><td>-814.806819 </td><td>1964        </td></tr>\n",
       "\t<tr><td> -3.65505395</td><td>Raceblack   </td><td> -3.0580572 </td><td>  -4.2520507</td><td> -2.4610605 </td><td>  -4.849047 </td><td>1968        </td></tr>\n",
       "</tbody>\n",
       "</table>\n"
      ],
      "text/latex": [
       "\\begin{tabular}{r|lllllll}\n",
       " Value & Coefficient & HighInner & LowInner & HighOuter & LowOuter & Model\\\\\n",
       "\\hline\n",
       "\t   0.07119541 & Raceblack    &   0.6297813  &   -0.4873905 &   1.1883673  &   -1.045976  & 1948        \\\\\n",
       "\t  -1.68490828 & Raceblack    &  -1.3175506  &   -2.0522659 &  -0.9501930  &   -2.419624  & 1952        \\\\\n",
       "\t  -0.89178359 & Raceblack    &  -0.5857195  &   -1.1978476 &  -0.2796555  &   -1.503912  & 1956        \\\\\n",
       "\t  -1.07674848 & Raceblack    &  -0.7099648  &   -1.4435322 &  -0.3431811  &   -1.810316  & 1960        \\\\\n",
       "\t -16.85751152 & Raceblack    & 382.1171424  & -415.8321655 & 781.0917963  & -814.806819  & 1964        \\\\\n",
       "\t  -3.65505395 & Raceblack    &  -3.0580572  &   -4.2520507 &  -2.4610605  &   -4.849047  & 1968        \\\\\n",
       "\\end{tabular}\n"
      ],
      "text/markdown": [
       "\n",
       "Value | Coefficient | HighInner | LowInner | HighOuter | LowOuter | Model | \n",
       "|---|---|---|---|---|---|\n",
       "|   0.07119541 | Raceblack    |   0.6297813  |   -0.4873905 |   1.1883673  |   -1.045976  | 1948         | \n",
       "|  -1.68490828 | Raceblack    |  -1.3175506  |   -2.0522659 |  -0.9501930  |   -2.419624  | 1952         | \n",
       "|  -0.89178359 | Raceblack    |  -0.5857195  |   -1.1978476 |  -0.2796555  |   -1.503912  | 1956         | \n",
       "|  -1.07674848 | Raceblack    |  -0.7099648  |   -1.4435322 |  -0.3431811  |   -1.810316  | 1960         | \n",
       "| -16.85751152 | Raceblack    | 382.1171424  | -415.8321655 | 781.0917963  | -814.806819  | 1964         | \n",
       "|  -3.65505395 | Raceblack    |  -3.0580572  |   -4.2520507 |  -2.4610605  |   -4.849047  | 1968         | \n",
       "\n",
       "\n"
      ],
      "text/plain": [
       "  Value        Coefficient HighInner   LowInner     HighOuter   LowOuter   \n",
       "1   0.07119541 Raceblack     0.6297813   -0.4873905   1.1883673   -1.045976\n",
       "2  -1.68490828 Raceblack    -1.3175506   -2.0522659  -0.9501930   -2.419624\n",
       "3  -0.89178359 Raceblack    -0.5857195   -1.1978476  -0.2796555   -1.503912\n",
       "4  -1.07674848 Raceblack    -0.7099648   -1.4435322  -0.3431811   -1.810316\n",
       "5 -16.85751152 Raceblack   382.1171424 -415.8321655 781.0917963 -814.806819\n",
       "6  -3.65505395 Raceblack    -3.0580572   -4.2520507  -2.4610605   -4.849047\n",
       "  Model\n",
       "1 1948 \n",
       "2 1952 \n",
       "3 1956 \n",
       "4 1960 \n",
       "5 1964 \n",
       "6 1968 "
      ]
     },
     "metadata": {},
     "output_type": "display_data"
    }
   ],
   "source": [
    "head(voteInfo)"
   ]
  },
  {
   "cell_type": "code",
   "execution_count": 10,
   "metadata": {},
   "outputs": [
    {
     "name": "stderr",
     "output_type": "stream",
     "text": [
      "Warning message:\n",
      "\"Ignoring unknown aesthetics: xmin, xmax\""
     ]
    },
    {
     "data": {},
     "metadata": {},
     "output_type": "display_data"
    },
    {
     "data": {
      "image/png": "[encoded data removed]",
      "text/plain": [
       "plot without title"
      ]
     },
     "metadata": {},
     "output_type": "display_data"
    }
   ],
   "source": [
    "multiplot(results$Model,\n",
    "         coefficients = \"Raceblack\", secret.weapon = TRUE) +\n",
    "coord_flip(xlim=c(-20, 10))"
   ]
  },
  {
   "cell_type": "markdown",
   "metadata": {},
   "source": [
    "- 1964년 모형은 다른 모형에 비해 추정값에 문제가 있어보인다\n",
    "- 이러한 문제를 해결하기 위해 모형의 계수에 사전 확률을 부여"
   ]
  },
  {
   "cell_type": "code",
   "execution_count": 13,
   "metadata": {},
   "outputs": [
    {
     "name": "stderr",
     "output_type": "stream",
     "text": [
      "also installing the dependencies 'minqa', 'nloptr', 'lme4', 'abind', 'coda'\n",
      "\n"
     ]
    },
    {
     "name": "stdout",
     "output_type": "stream",
     "text": [
      "package 'minqa' successfully unpacked and MD5 sums checked\n",
      "package 'nloptr' successfully unpacked and MD5 sums checked\n",
      "package 'lme4' successfully unpacked and MD5 sums checked\n",
      "package 'abind' successfully unpacked and MD5 sums checked\n",
      "package 'coda' successfully unpacked and MD5 sums checked\n",
      "package 'arm' successfully unpacked and MD5 sums checked\n",
      "\n",
      "The downloaded binary packages are in\n",
      "\tC:\\Users\\student\\AppData\\Local\\Temp\\RtmpYnwduq\\downloaded_packages\n"
     ]
    }
   ],
   "source": [
    "install.packages(\"arm\")"
   ]
  },
  {
   "cell_type": "code",
   "execution_count": 14,
   "metadata": {},
   "outputs": [],
   "source": [
    "resultsB <- ideo %>%\n",
    "group_by(Year) %>%\n",
    "do(Model = arm::bayesglm(Vote ~ Race + Income + Gender + Education,\n",
    "                        data= .,\n",
    "                        family = binomial(link = \"logit\"),\n",
    "                        prior.scale = 2.5, prior.df = 1))\n",
    "names(resultsB$Model) <- as.character(resultsB$Year)"
   ]
  },
  {
   "cell_type": "code",
   "execution_count": 16,
   "metadata": {},
   "outputs": [
    {
     "name": "stderr",
     "output_type": "stream",
     "text": [
      "Warning message:\n",
      "\"Ignoring unknown aesthetics: xmin, xmax\""
     ]
    },
    {
     "data": {},
     "metadata": {},
     "output_type": "display_data"
    },
    {
     "data": {
      "image/png": "[encoded data removed]",
      "text/plain": [
       "plot without title"
      ]
     },
     "metadata": {},
     "output_type": "display_data"
    }
   ],
   "source": [
    "multiplot(resultsB$Model, coefficients = \"Raceblack\", secret.weapon=T)"
   ]
  }
 ],
 "metadata": {
  "kernelspec": {
   "display_name": "R",
   "language": "R",
   "name": "ir"
  },
  "language_info": {
   "codemirror_mode": "r",
   "file_extension": ".r",
   "mimetype": "text/x-r-source",
   "name": "R",
   "pygments_lexer": "r",
   "version": "3.4.3"
  }
 },
 "nbformat": 4,
 "nbformat_minor": 2
}
