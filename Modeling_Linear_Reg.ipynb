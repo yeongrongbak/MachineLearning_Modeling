{
 "cells": [
  {
   "cell_type": "markdown",
   "metadata": {},
   "source": [
    "# 선형 모형"
   ]
  },
  {
   "cell_type": "markdown",
   "metadata": {},
   "source": [
    "## 1. 단순 선형 회귀\n",
    "\n",
    "- 두 변수와의 관계 결정\n",
    "- 예측하고자 하는 결과 변수(=반응변수)와, 예측에 사용되는 입력 변수(=예측 변수)로 나뉜다."
   ]
  },
  {
   "cell_type": "code",
   "execution_count": 3,
   "metadata": {},
   "outputs": [
    {
     "name": "stderr",
     "output_type": "stream",
     "text": [
      "also installing the dependencies 'checkmate', 'Formula', 'latticeExtra', 'acepack', 'htmlTable', 'HistData', 'Hmisc'\n",
      "\n"
     ]
    },
    {
     "name": "stdout",
     "output_type": "stream",
     "text": [
      "package 'checkmate' successfully unpacked and MD5 sums checked\n",
      "package 'Formula' successfully unpacked and MD5 sums checked\n",
      "package 'latticeExtra' successfully unpacked and MD5 sums checked\n",
      "package 'acepack' successfully unpacked and MD5 sums checked\n",
      "package 'htmlTable' successfully unpacked and MD5 sums checked\n",
      "package 'HistData' successfully unpacked and MD5 sums checked\n",
      "package 'Hmisc' successfully unpacked and MD5 sums checked\n",
      "package 'UsingR' successfully unpacked and MD5 sums checked\n",
      "\n",
      "The downloaded binary packages are in\n",
      "\tC:\\Users\\student\\AppData\\Local\\Temp\\RtmpU7F2Ck\\downloaded_packages\n"
     ]
    }
   ],
   "source": [
    "install.packages(\"UsingR\")"
   ]
  },
  {
   "cell_type": "code",
   "execution_count": 4,
   "metadata": {},
   "outputs": [],
   "source": [
    "data(father.son, package=\"UsingR\")"
   ]
  },
  {
   "cell_type": "code",
   "execution_count": 6,
   "metadata": {},
   "outputs": [
    {
     "name": "stdout",
     "output_type": "stream",
     "text": [
      "package 'ggplot2' successfully unpacked and MD5 sums checked\n",
      "\n",
      "The downloaded binary packages are in\n",
      "\tC:\\Users\\student\\AppData\\Local\\Temp\\RtmpU7F2Ck\\downloaded_packages\n"
     ]
    }
   ],
   "source": [
    "install.packages(\"ggplot2\")"
   ]
  },
  {
   "cell_type": "code",
   "execution_count": 10,
   "metadata": {},
   "outputs": [],
   "source": [
    "library(ggplot2)"
   ]
  },
  {
   "cell_type": "code",
   "execution_count": 8,
   "metadata": {},
   "outputs": [
    {
     "data": {
      "text/html": [
       "<table>\n",
       "<thead><tr><th scope=col>fheight</th><th scope=col>sheight</th></tr></thead>\n",
       "<tbody>\n",
       "\t<tr><td>65.04851</td><td>59.77827</td></tr>\n",
       "\t<tr><td>63.25094</td><td>63.21404</td></tr>\n",
       "\t<tr><td>64.95532</td><td>63.34242</td></tr>\n",
       "\t<tr><td>65.75250</td><td>62.79238</td></tr>\n",
       "\t<tr><td>61.13723</td><td>64.28113</td></tr>\n",
       "\t<tr><td>63.02254</td><td>64.24221</td></tr>\n",
       "</tbody>\n",
       "</table>\n"
      ],
      "text/latex": [
       "\\begin{tabular}{r|ll}\n",
       " fheight & sheight\\\\\n",
       "\\hline\n",
       "\t 65.04851 & 59.77827\\\\\n",
       "\t 63.25094 & 63.21404\\\\\n",
       "\t 64.95532 & 63.34242\\\\\n",
       "\t 65.75250 & 62.79238\\\\\n",
       "\t 61.13723 & 64.28113\\\\\n",
       "\t 63.02254 & 64.24221\\\\\n",
       "\\end{tabular}\n"
      ],
      "text/markdown": [
       "\n",
       "fheight | sheight | \n",
       "|---|---|---|---|---|---|\n",
       "| 65.04851 | 59.77827 | \n",
       "| 63.25094 | 63.21404 | \n",
       "| 64.95532 | 63.34242 | \n",
       "| 65.75250 | 62.79238 | \n",
       "| 61.13723 | 64.28113 | \n",
       "| 63.02254 | 64.24221 | \n",
       "\n",
       "\n"
      ],
      "text/plain": [
       "  fheight  sheight \n",
       "1 65.04851 59.77827\n",
       "2 63.25094 63.21404\n",
       "3 64.95532 63.34242\n",
       "4 65.75250 62.79238\n",
       "5 61.13723 64.28113\n",
       "6 63.02254 64.24221"
      ]
     },
     "metadata": {},
     "output_type": "display_data"
    }
   ],
   "source": [
    "head(father.son)"
   ]
  },
  {
   "cell_type": "code",
   "execution_count": 12,
   "metadata": {},
   "outputs": [
    {
     "data": {},
     "metadata": {},
     "output_type": "display_data"
    },
    {
     "data": {
      "image/png": "[encoded data removed]",
      "text/plain": [
       "plot without title"
      ]
     },
     "metadata": {},
     "output_type": "display_data"
    }
   ],
   "source": [
    "ggplot(father.son, aes(x=fheight, y=sheight))+\n",
    "geom_point()+\n",
    "geom_smooth(method='lm')+\n",
    "labs(x='Fathers', y='Sons')"
   ]
  },
  {
   "cell_type": "markdown",
   "metadata": {},
   "source": [
    "* 실제로 회귀를 계산할 때에는 lm 함수를 사용한다."
   ]
  },
  {
   "cell_type": "code",
   "execution_count": 13,
   "metadata": {},
   "outputs": [],
   "source": [
    "heightsLM <- lm(sheight ~ fheight, data=father.son)"
   ]
  },
  {
   "cell_type": "code",
   "execution_count": 14,
   "metadata": {},
   "outputs": [
    {
     "data": {
      "text/plain": [
       "\n",
       "Call:\n",
       "lm(formula = sheight ~ fheight, data = father.son)\n",
       "\n",
       "Coefficients:\n",
       "(Intercept)      fheight  \n",
       "    33.8866       0.5141  \n"
      ]
     },
     "metadata": {},
     "output_type": "display_data"
    }
   ],
   "source": [
    "heightsLM"
   ]
  },
  {
   "cell_type": "code",
   "execution_count": 15,
   "metadata": {},
   "outputs": [
    {
     "data": {
      "text/plain": [
       "\n",
       "Call:\n",
       "lm(formula = sheight ~ fheight, data = father.son)\n",
       "\n",
       "Residuals:\n",
       "    Min      1Q  Median      3Q     Max \n",
       "-8.8772 -1.5144 -0.0079  1.6285  8.9685 \n",
       "\n",
       "Coefficients:\n",
       "            Estimate Std. Error t value Pr(>|t|)    \n",
       "(Intercept) 33.88660    1.83235   18.49   <2e-16 ***\n",
       "fheight      0.51409    0.02705   19.01   <2e-16 ***\n",
       "---\n",
       "Signif. codes:  0 '***' 0.001 '**' 0.01 '*' 0.05 '.' 0.1 ' ' 1\n",
       "\n",
       "Residual standard error: 2.437 on 1076 degrees of freedom\n",
       "Multiple R-squared:  0.2513,\tAdjusted R-squared:  0.2506 \n",
       "F-statistic: 361.2 on 1 and 1076 DF,  p-value: < 2.2e-16\n"
      ]
     },
     "metadata": {},
     "output_type": "display_data"
    }
   ],
   "source": [
    "summary(heightsLM)"
   ]
  },
  {
   "cell_type": "markdown",
   "metadata": {},
   "source": [
    "### 1.1 분산분석 대신 회귀 사용\n",
    "\n",
    "- 분산분석 대신 회귀를 사용할 수 있다."
   ]
  },
  {
   "cell_type": "code",
   "execution_count": 16,
   "metadata": {},
   "outputs": [
    {
     "name": "stdout",
     "output_type": "stream",
     "text": [
      "package 'reshape2' successfully unpacked and MD5 sums checked\n",
      "\n",
      "The downloaded binary packages are in\n",
      "\tC:\\Users\\student\\AppData\\Local\\Temp\\RtmpU7F2Ck\\downloaded_packages\n"
     ]
    }
   ],
   "source": [
    "install.packages(\"reshape2\")"
   ]
  },
  {
   "cell_type": "code",
   "execution_count": 17,
   "metadata": {},
   "outputs": [
    {
     "data": {
      "text/html": [
       "<table>\n",
       "<thead><tr><th scope=col>total_bill</th><th scope=col>tip</th><th scope=col>sex</th><th scope=col>smoker</th><th scope=col>day</th><th scope=col>time</th><th scope=col>size</th></tr></thead>\n",
       "<tbody>\n",
       "\t<tr><td>16.99 </td><td>1.01  </td><td>Female</td><td>No    </td><td>Sun   </td><td>Dinner</td><td>2     </td></tr>\n",
       "\t<tr><td>10.34 </td><td>1.66  </td><td>Male  </td><td>No    </td><td>Sun   </td><td>Dinner</td><td>3     </td></tr>\n",
       "\t<tr><td>21.01 </td><td>3.50  </td><td>Male  </td><td>No    </td><td>Sun   </td><td>Dinner</td><td>3     </td></tr>\n",
       "\t<tr><td>23.68 </td><td>3.31  </td><td>Male  </td><td>No    </td><td>Sun   </td><td>Dinner</td><td>2     </td></tr>\n",
       "\t<tr><td>24.59 </td><td>3.61  </td><td>Female</td><td>No    </td><td>Sun   </td><td>Dinner</td><td>4     </td></tr>\n",
       "\t<tr><td>25.29 </td><td>4.71  </td><td>Male  </td><td>No    </td><td>Sun   </td><td>Dinner</td><td>4     </td></tr>\n",
       "</tbody>\n",
       "</table>\n"
      ],
      "text/latex": [
       "\\begin{tabular}{r|lllllll}\n",
       " total\\_bill & tip & sex & smoker & day & time & size\\\\\n",
       "\\hline\n",
       "\t 16.99  & 1.01   & Female & No     & Sun    & Dinner & 2     \\\\\n",
       "\t 10.34  & 1.66   & Male   & No     & Sun    & Dinner & 3     \\\\\n",
       "\t 21.01  & 3.50   & Male   & No     & Sun    & Dinner & 3     \\\\\n",
       "\t 23.68  & 3.31   & Male   & No     & Sun    & Dinner & 2     \\\\\n",
       "\t 24.59  & 3.61   & Female & No     & Sun    & Dinner & 4     \\\\\n",
       "\t 25.29  & 4.71   & Male   & No     & Sun    & Dinner & 4     \\\\\n",
       "\\end{tabular}\n"
      ],
      "text/markdown": [
       "\n",
       "total_bill | tip | sex | smoker | day | time | size | \n",
       "|---|---|---|---|---|---|\n",
       "| 16.99  | 1.01   | Female | No     | Sun    | Dinner | 2      | \n",
       "| 10.34  | 1.66   | Male   | No     | Sun    | Dinner | 3      | \n",
       "| 21.01  | 3.50   | Male   | No     | Sun    | Dinner | 3      | \n",
       "| 23.68  | 3.31   | Male   | No     | Sun    | Dinner | 2      | \n",
       "| 24.59  | 3.61   | Female | No     | Sun    | Dinner | 4      | \n",
       "| 25.29  | 4.71   | Male   | No     | Sun    | Dinner | 4      | \n",
       "\n",
       "\n"
      ],
      "text/plain": [
       "  total_bill tip  sex    smoker day time   size\n",
       "1 16.99      1.01 Female No     Sun Dinner 2   \n",
       "2 10.34      1.66 Male   No     Sun Dinner 3   \n",
       "3 21.01      3.50 Male   No     Sun Dinner 3   \n",
       "4 23.68      3.31 Male   No     Sun Dinner 2   \n",
       "5 24.59      3.61 Female No     Sun Dinner 4   \n",
       "6 25.29      4.71 Male   No     Sun Dinner 4   "
      ]
     },
     "metadata": {},
     "output_type": "display_data"
    }
   ],
   "source": [
    "data(tips, package = \"reshape2\")\n",
    "head(tips)"
   ]
  },
  {
   "cell_type": "markdown",
   "metadata": {},
   "source": [
    "* 모형에 절편을 포함시키지 않게 하기 위해 day - 1 로 지정한다.\n",
    "* 카테고리형 변수 day의 각 레벨에 대해 각 계수를 구한다."
   ]
  },
  {
   "cell_type": "code",
   "execution_count": 18,
   "metadata": {},
   "outputs": [],
   "source": [
    "tipsAnova <- aov(tip ~ day -1, data=tips)"
   ]
  },
  {
   "cell_type": "code",
   "execution_count": 19,
   "metadata": {},
   "outputs": [],
   "source": [
    "tipsLM <- lm(tip ~ day -1, data=tips)"
   ]
  },
  {
   "cell_type": "code",
   "execution_count": 21,
   "metadata": {},
   "outputs": [
    {
     "data": {
      "text/plain": [
       "           Df Sum Sq Mean Sq F value Pr(>F)    \n",
       "day         4 2203.0   550.8   290.1 <2e-16 ***\n",
       "Residuals 240  455.7     1.9                   \n",
       "---\n",
       "Signif. codes:  0 '***' 0.001 '**' 0.01 '*' 0.05 '.' 0.1 ' ' 1"
      ]
     },
     "metadata": {},
     "output_type": "display_data"
    }
   ],
   "source": [
    "summary(tipsAnova)"
   ]
  },
  {
   "cell_type": "code",
   "execution_count": 20,
   "metadata": {},
   "outputs": [
    {
     "data": {
      "text/plain": [
       "\n",
       "Call:\n",
       "lm(formula = tip ~ day - 1, data = tips)\n",
       "\n",
       "Residuals:\n",
       "    Min      1Q  Median      3Q     Max \n",
       "-2.2451 -0.9931 -0.2347  0.5382  7.0069 \n",
       "\n",
       "Coefficients:\n",
       "        Estimate Std. Error t value Pr(>|t|)    \n",
       "dayFri    2.7347     0.3161   8.651 7.46e-16 ***\n",
       "daySat    2.9931     0.1477  20.261  < 2e-16 ***\n",
       "daySun    3.2551     0.1581  20.594  < 2e-16 ***\n",
       "dayThur   2.7715     0.1750  15.837  < 2e-16 ***\n",
       "---\n",
       "Signif. codes:  0 '***' 0.001 '**' 0.01 '*' 0.05 '.' 0.1 ' ' 1\n",
       "\n",
       "Residual standard error: 1.378 on 240 degrees of freedom\n",
       "Multiple R-squared:  0.8286,\tAdjusted R-squared:  0.8257 \n",
       "F-statistic: 290.1 on 4 and 240 DF,  p-value: < 2.2e-16\n"
      ]
     },
     "metadata": {},
     "output_type": "display_data"
    }
   ],
   "source": [
    "summary(tipsLM)"
   ]
  },
  {
   "cell_type": "markdown",
   "metadata": {},
   "source": [
    "## 2. 다중회귀\n",
    "\n",
    "- 복수의 예측 변수로 확장"
   ]
  },
  {
   "cell_type": "code",
   "execution_count": 22,
   "metadata": {},
   "outputs": [],
   "source": [
    "housing <- read.table(\"https://www.jaredlander.com/data/housing.csv\",\n",
    "                     sep = \",\" , header = TRUE,\n",
    "                     stringsAsFactors = FALSE)"
   ]
  },
  {
   "cell_type": "code",
   "execution_count": 23,
   "metadata": {},
   "outputs": [],
   "source": [
    "names(housing) <- c(\"Neighborhood\", \"Class\", \"Units\", \"YearBuilt\",\n",
    "                   \"SqFt\", \"Income\", \"IncomePerSqFt\", \"Expense\",\n",
    "                   \"ExpensePerSqFt\", \"NetIncome\", \"Value\",\n",
    "                   \"ValuePerSqFt\", \"Boro\")"
   ]
  },
  {
   "cell_type": "markdown",
   "metadata": {},
   "source": [
    "- 데이터의 반응 변수 : 평방 피트 당 가격 (Value for square foot)"
   ]
  },
  {
   "cell_type": "code",
   "execution_count": 30,
   "metadata": {},
   "outputs": [
    {
     "data": {
      "text/html": [
       "<table>\n",
       "<thead><tr><th scope=col>Neighborhood</th><th scope=col>Class</th><th scope=col>Units</th><th scope=col>YearBuilt</th><th scope=col>SqFt</th><th scope=col>Income</th><th scope=col>IncomePerSqFt</th><th scope=col>Expense</th><th scope=col>ExpensePerSqFt</th><th scope=col>NetIncome</th><th scope=col>Value</th><th scope=col>ValuePerSqFt</th><th scope=col>Boro</th></tr></thead>\n",
       "<tbody>\n",
       "\t<tr><td>FINANCIAL     </td><td>R9-CONDOMINIUM</td><td> 42           </td><td>1920          </td><td> 36500        </td><td> 1332615      </td><td>36.51         </td><td> 342005       </td><td> 9.37         </td><td>  990610      </td><td> 7300000      </td><td>200.00        </td><td>Manhattan     </td></tr>\n",
       "\t<tr><td>FINANCIAL     </td><td>R4-CONDOMINIUM</td><td> 78           </td><td>1985          </td><td>126420        </td><td> 6633257      </td><td>52.47         </td><td>1762295       </td><td>13.94         </td><td> 4870962      </td><td>30690000      </td><td>242.76        </td><td>Manhattan     </td></tr>\n",
       "\t<tr><td>FINANCIAL     </td><td>RR-CONDOMINIUM</td><td>500           </td><td>  NA          </td><td>554174        </td><td>17310000      </td><td>31.24         </td><td>3543000       </td><td> 6.39         </td><td>13767000      </td><td>90970000      </td><td>164.15        </td><td>Manhattan     </td></tr>\n",
       "\t<tr><td>FINANCIAL     </td><td>R4-CONDOMINIUM</td><td>282           </td><td>1930          </td><td>249076        </td><td>11776313      </td><td>47.28         </td><td>2784670       </td><td>11.18         </td><td> 8991643      </td><td>67556006      </td><td>271.23        </td><td>Manhattan     </td></tr>\n",
       "\t<tr><td>TRIBECA       </td><td>R4-CONDOMINIUM</td><td>239           </td><td>1985          </td><td>219495        </td><td>10004582      </td><td>45.58         </td><td>2783197       </td><td>12.68         </td><td> 7221385      </td><td>54320996      </td><td>247.48        </td><td>Manhattan     </td></tr>\n",
       "\t<tr><td>TRIBECA       </td><td>R4-CONDOMINIUM</td><td>133           </td><td>1986          </td><td>139719        </td><td> 5127687      </td><td>36.70         </td><td>1497788       </td><td>10.72         </td><td> 3629899      </td><td>26737996      </td><td>191.37        </td><td>Manhattan     </td></tr>\n",
       "</tbody>\n",
       "</table>\n"
      ],
      "text/latex": [
       "\\begin{tabular}{r|lllllllllllll}\n",
       " Neighborhood & Class & Units & YearBuilt & SqFt & Income & IncomePerSqFt & Expense & ExpensePerSqFt & NetIncome & Value & ValuePerSqFt & Boro\\\\\n",
       "\\hline\n",
       "\t FINANCIAL      & R9-CONDOMINIUM &  42            & 1920           &  36500         &  1332615       & 36.51          &  342005        &  9.37          &   990610       &  7300000       & 200.00         & Manhattan     \\\\\n",
       "\t FINANCIAL      & R4-CONDOMINIUM &  78            & 1985           & 126420         &  6633257       & 52.47          & 1762295        & 13.94          &  4870962       & 30690000       & 242.76         & Manhattan     \\\\\n",
       "\t FINANCIAL      & RR-CONDOMINIUM & 500            &   NA           & 554174         & 17310000       & 31.24          & 3543000        &  6.39          & 13767000       & 90970000       & 164.15         & Manhattan     \\\\\n",
       "\t FINANCIAL      & R4-CONDOMINIUM & 282            & 1930           & 249076         & 11776313       & 47.28          & 2784670        & 11.18          &  8991643       & 67556006       & 271.23         & Manhattan     \\\\\n",
       "\t TRIBECA        & R4-CONDOMINIUM & 239            & 1985           & 219495         & 10004582       & 45.58          & 2783197        & 12.68          &  7221385       & 54320996       & 247.48         & Manhattan     \\\\\n",
       "\t TRIBECA        & R4-CONDOMINIUM & 133            & 1986           & 139719         &  5127687       & 36.70          & 1497788        & 10.72          &  3629899       & 26737996       & 191.37         & Manhattan     \\\\\n",
       "\\end{tabular}\n"
      ],
      "text/markdown": [
       "\n",
       "Neighborhood | Class | Units | YearBuilt | SqFt | Income | IncomePerSqFt | Expense | ExpensePerSqFt | NetIncome | Value | ValuePerSqFt | Boro | \n",
       "|---|---|---|---|---|---|\n",
       "| FINANCIAL      | R9-CONDOMINIUM |  42            | 1920           |  36500         |  1332615       | 36.51          |  342005        |  9.37          |   990610       |  7300000       | 200.00         | Manhattan      | \n",
       "| FINANCIAL      | R4-CONDOMINIUM |  78            | 1985           | 126420         |  6633257       | 52.47          | 1762295        | 13.94          |  4870962       | 30690000       | 242.76         | Manhattan      | \n",
       "| FINANCIAL      | RR-CONDOMINIUM | 500            |   NA           | 554174         | 17310000       | 31.24          | 3543000        |  6.39          | 13767000       | 90970000       | 164.15         | Manhattan      | \n",
       "| FINANCIAL      | R4-CONDOMINIUM | 282            | 1930           | 249076         | 11776313       | 47.28          | 2784670        | 11.18          |  8991643       | 67556006       | 271.23         | Manhattan      | \n",
       "| TRIBECA        | R4-CONDOMINIUM | 239            | 1985           | 219495         | 10004582       | 45.58          | 2783197        | 12.68          |  7221385       | 54320996       | 247.48         | Manhattan      | \n",
       "| TRIBECA        | R4-CONDOMINIUM | 133            | 1986           | 139719         |  5127687       | 36.70          | 1497788        | 10.72          |  3629899       | 26737996       | 191.37         | Manhattan      | \n",
       "\n",
       "\n"
      ],
      "text/plain": [
       "  Neighborhood Class          Units YearBuilt SqFt   Income   IncomePerSqFt\n",
       "1 FINANCIAL    R9-CONDOMINIUM  42   1920       36500  1332615 36.51        \n",
       "2 FINANCIAL    R4-CONDOMINIUM  78   1985      126420  6633257 52.47        \n",
       "3 FINANCIAL    RR-CONDOMINIUM 500     NA      554174 17310000 31.24        \n",
       "4 FINANCIAL    R4-CONDOMINIUM 282   1930      249076 11776313 47.28        \n",
       "5 TRIBECA      R4-CONDOMINIUM 239   1985      219495 10004582 45.58        \n",
       "6 TRIBECA      R4-CONDOMINIUM 133   1986      139719  5127687 36.70        \n",
       "  Expense ExpensePerSqFt NetIncome Value    ValuePerSqFt Boro     \n",
       "1  342005  9.37            990610   7300000 200.00       Manhattan\n",
       "2 1762295 13.94           4870962  30690000 242.76       Manhattan\n",
       "3 3543000  6.39          13767000  90970000 164.15       Manhattan\n",
       "4 2784670 11.18           8991643  67556006 271.23       Manhattan\n",
       "5 2783197 12.68           7221385  54320996 247.48       Manhattan\n",
       "6 1497788 10.72           3629899  26737996 191.37       Manhattan"
      ]
     },
     "metadata": {},
     "output_type": "display_data"
    }
   ],
   "source": [
    "head(housing)"
   ]
  },
  {
   "cell_type": "markdown",
   "metadata": {},
   "source": [
    "- 반응 변수의 히스토그램 생성"
   ]
  },
  {
   "cell_type": "code",
   "execution_count": 25,
   "metadata": {
    "scrolled": true
   },
   "outputs": [
    {
     "data": {},
     "metadata": {},
     "output_type": "display_data"
    },
    {
     "data": {
      "image/png": "[encoded data removed]",
      "text/plain": [
       "plot without title"
      ]
     },
     "metadata": {},
     "output_type": "display_data"
    }
   ],
   "source": [
    "ggplot(housing, aes(x=ValuePerSqFt))+\n",
    "geom_histogram(binwidth=10) + labs(x=\"Value per Square Foot\")"
   ]
  },
  {
   "cell_type": "markdown",
   "metadata": {},
   "source": [
    "- 지역구별로 플롯팅"
   ]
  },
  {
   "cell_type": "code",
   "execution_count": 26,
   "metadata": {},
   "outputs": [
    {
     "data": {},
     "metadata": {},
     "output_type": "display_data"
    },
    {
     "data": {
      "image/png": "[encoded data removed]",
      "text/plain": [
       "plot without title"
      ]
     },
     "metadata": {},
     "output_type": "display_data"
    }
   ],
   "source": [
    "ggplot(housing, aes(x=ValuePerSqFt, fill=Boro))+\n",
    "geom_histogram(binwidth=10) + labs(x=\"Value per Square Foot\")"
   ]
  },
  {
   "cell_type": "markdown",
   "metadata": {},
   "source": [
    "- 지역구별로 패시팅"
   ]
  },
  {
   "cell_type": "code",
   "execution_count": 28,
   "metadata": {},
   "outputs": [
    {
     "data": {},
     "metadata": {},
     "output_type": "display_data"
    },
    {
     "data": {
      "image/png": "[encoded data removed]",
      "text/plain": [
       "plot without title"
      ]
     },
     "metadata": {},
     "output_type": "display_data"
    }
   ],
   "source": [
    "ggplot(housing, aes(x=ValuePerSqFt, fill=Boro))+\n",
    "geom_histogram(binwidth=10) + labs(x=\"Value per Square Foot\")+\n",
    "facet_wrap(~Boro)"
   ]
  },
  {
   "cell_type": "markdown",
   "metadata": {},
   "source": [
    "- 면적(평방피트)과 세대의 개수에 대해 히스토그램 생성\n",
    "    - 위 2개의 그래프가 너무 심하게 오른쪽으로 치우쳐 있어서 1,000단위 이상 되는것들을 제외해 플롯팅"
   ]
  },
  {
   "cell_type": "code",
   "execution_count": 36,
   "metadata": {},
   "outputs": [],
   "source": [
    "p11 <- ggplot(housing, aes(x=SqFt)) + geom_histogram()\n",
    "p22 <- ggplot(housing, aes(x=Units)) + geom_histogram()\n",
    "p33 <- ggplot(housing[housing$Units < 1000, ], aes(x=SqFt)) + geom_histogram()\n",
    "p44 <- ggplot(housing[housing$Units < 1000, ], aes(x=Units)) + geom_histogram()"
   ]
  },
  {
   "cell_type": "code",
   "execution_count": 37,
   "metadata": {},
   "outputs": [
    {
     "name": "stderr",
     "output_type": "stream",
     "text": [
      "`stat_bin()` using `bins = 30`. Pick better value with `binwidth`.\n",
      "`stat_bin()` using `bins = 30`. Pick better value with `binwidth`.\n",
      "`stat_bin()` using `bins = 30`. Pick better value with `binwidth`.\n",
      "`stat_bin()` using `bins = 30`. Pick better value with `binwidth`.\n"
     ]
    },
    {
     "data": {
      "image/png": "[encoded data removed]",
      "text/plain": [
       "plot without title"
      ]
     },
     "metadata": {},
     "output_type": "display_data"
    }
   ],
   "source": [
    "gridExtra::grid.arrange(p11, p22, p33, p44, nrow=2)"
   ]
  },
  {
   "cell_type": "markdown",
   "metadata": {},
   "source": [
    "- 평방피트당 가격을 면적과 세대수에 따라 산점도 생성"
   ]
  },
  {
   "cell_type": "code",
   "execution_count": 38,
   "metadata": {},
   "outputs": [],
   "source": [
    "pa <- ggplot(housing, aes(x=SqFt, y=ValuePerSqFt)) + geom_point()\n",
    "pb <- ggplot(housing, aes(x=Units, y=ValuePerSqFt)) + geom_point()\n",
    "pc <- ggplot(housing[housing$Units <1000,], aes(x=SqFt, y=ValuePerSqFt))+ geom_point()\n",
    "pd <- ggplot(housing[housing$Units <1000,], aes(x=Units, y=ValuePerSqFt))+ geom_point()"
   ]
  },
  {
   "cell_type": "code",
   "execution_count": 39,
   "metadata": {},
   "outputs": [
    {
     "data": {
      "image/png": "[encoded data removed]",
      "text/plain": [
       "plot without title"
      ]
     },
     "metadata": {},
     "output_type": "display_data"
    }
   ],
   "source": [
    "gridExtra::grid.arrange(pa,pb,pc,pd, nrow=2)"
   ]
  },
  {
   "cell_type": "markdown",
   "metadata": {},
   "source": [
    "- 이상치를 몇 개나 제거할 것인가?"
   ]
  },
  {
   "cell_type": "code",
   "execution_count": 40,
   "metadata": {},
   "outputs": [
    {
     "data": {
      "text/html": [
       "6"
      ],
      "text/latex": [
       "6"
      ],
      "text/markdown": [
       "6"
      ],
      "text/plain": [
       "[1] 6"
      ]
     },
     "metadata": {},
     "output_type": "display_data"
    }
   ],
   "source": [
    "sum(housing$Units >= 1000)"
   ]
  },
  {
   "cell_type": "code",
   "execution_count": 41,
   "metadata": {},
   "outputs": [],
   "source": [
    "housing <- housing[housing$Units < 1000,]"
   ]
  },
  {
   "cell_type": "markdown",
   "metadata": {},
   "source": [
    "- 로그 변환 적용"
   ]
  },
  {
   "cell_type": "code",
   "execution_count": 47,
   "metadata": {},
   "outputs": [],
   "source": [
    "pa <- ggplot(housing, aes(x=SqFt, y=ValuePerSqFt)) + geom_point()\n",
    "pb <- ggplot(housing, aes(x=log(SqFt), y=ValuePerSqFt)) + geom_point()\n",
    "pc <- ggplot(housing, aes(x=SqFt, y=log(ValuePerSqFt)))+ geom_point()\n",
    "pd <- ggplot(housing, aes(x=log(SqFt), y=log(ValuePerSqFt)))+ geom_point()"
   ]
  },
  {
   "cell_type": "code",
   "execution_count": 48,
   "metadata": {},
   "outputs": [
    {
     "data": {
      "image/png": "[encoded data removed]",
      "text/plain": [
       "plot without title"
      ]
     },
     "metadata": {},
     "output_type": "display_data"
    }
   ],
   "source": [
    "gridExtra::grid.arrange(pa,pb,pc,pd, nrow=2)"
   ]
  },
  {
   "cell_type": "markdown",
   "metadata": {},
   "source": [
    "- Modeling"
   ]
  },
  {
   "cell_type": "code",
   "execution_count": 49,
   "metadata": {},
   "outputs": [],
   "source": [
    "house1 <- lm(ValuePerSqFt ~ Units + SqFt + Boro , data=housing)"
   ]
  },
  {
   "cell_type": "code",
   "execution_count": 50,
   "metadata": {},
   "outputs": [
    {
     "data": {
      "text/plain": [
       "\n",
       "Call:\n",
       "lm(formula = ValuePerSqFt ~ Units + SqFt + Boro, data = housing)\n",
       "\n",
       "Residuals:\n",
       "     Min       1Q   Median       3Q      Max \n",
       "-168.458  -22.680    1.493   26.290  261.761 \n",
       "\n",
       "Coefficients:\n",
       "                    Estimate Std. Error t value Pr(>|t|)    \n",
       "(Intercept)        4.430e+01  5.342e+00   8.293  < 2e-16 ***\n",
       "Units             -1.532e-01  2.421e-02  -6.330 2.88e-10 ***\n",
       "SqFt               2.070e-04  2.129e-05   9.723  < 2e-16 ***\n",
       "BoroBrooklyn       3.258e+01  5.561e+00   5.858 5.28e-09 ***\n",
       "BoroManhattan      1.274e+02  5.459e+00  23.343  < 2e-16 ***\n",
       "BoroQueens         3.011e+01  5.711e+00   5.272 1.46e-07 ***\n",
       "BoroStaten Island -7.114e+00  1.001e+01  -0.711    0.477    \n",
       "---\n",
       "Signif. codes:  0 '***' 0.001 '**' 0.01 '*' 0.05 '.' 0.1 ' ' 1\n",
       "\n",
       "Residual standard error: 43.2 on 2613 degrees of freedom\n",
       "Multiple R-squared:  0.6034,\tAdjusted R-squared:  0.6025 \n",
       "F-statistic: 662.6 on 6 and 2613 DF,  p-value: < 2.2e-16\n"
      ]
     },
     "metadata": {},
     "output_type": "display_data"
    }
   ],
   "source": [
    "summary(house1)"
   ]
  },
  {
   "cell_type": "code",
   "execution_count": 51,
   "metadata": {},
   "outputs": [
    {
     "data": {
      "text/html": [
       "<dl class=dl-horizontal>\n",
       "\t<dt>(Intercept)</dt>\n",
       "\t\t<dd>44.3032519235236</dd>\n",
       "\t<dt>Units</dt>\n",
       "\t\t<dd>-0.153240515228955</dd>\n",
       "\t<dt>SqFt</dt>\n",
       "\t\t<dd>0.000206972692120916</dd>\n",
       "\t<dt>BoroBrooklyn</dt>\n",
       "\t\t<dd>32.5755390898098</dd>\n",
       "\t<dt>BoroManhattan</dt>\n",
       "\t\t<dd>127.425866295847</dd>\n",
       "\t<dt>BoroQueens</dt>\n",
       "\t\t<dd>30.109995862802</dd>\n",
       "\t<dt>BoroStaten Island</dt>\n",
       "\t\t<dd>-7.1136880429955</dd>\n",
       "</dl>\n"
      ],
      "text/latex": [
       "\\begin{description*}\n",
       "\\item[(Intercept)] 44.3032519235236\n",
       "\\item[Units] -0.153240515228955\n",
       "\\item[SqFt] 0.000206972692120916\n",
       "\\item[BoroBrooklyn] 32.5755390898098\n",
       "\\item[BoroManhattan] 127.425866295847\n",
       "\\item[BoroQueens] 30.109995862802\n",
       "\\item[BoroStaten Island] -7.1136880429955\n",
       "\\end{description*}\n"
      ],
      "text/markdown": [
       "(Intercept)\n",
       ":   44.3032519235236Units\n",
       ":   -0.153240515228955SqFt\n",
       ":   0.000206972692120916BoroBrooklyn\n",
       ":   32.5755390898098BoroManhattan\n",
       ":   127.425866295847BoroQueens\n",
       ":   30.109995862802BoroStaten Island\n",
       ":   -7.1136880429955\n",
       "\n"
      ],
      "text/plain": [
       "      (Intercept)             Units              SqFt      BoroBrooklyn \n",
       "     4.430325e+01     -1.532405e-01      2.069727e-04      3.257554e+01 \n",
       "    BoroManhattan        BoroQueens BoroStaten Island \n",
       "     1.274259e+02      3.011000e+01     -7.113688e+00 "
      ]
     },
     "metadata": {},
     "output_type": "display_data"
    }
   ],
   "source": [
    "coef(house1)"
   ]
  },
  {
   "cell_type": "code",
   "execution_count": 52,
   "metadata": {},
   "outputs": [
    {
     "name": "stderr",
     "output_type": "stream",
     "text": [
      "also installing the dependency 'useful'\n",
      "\n"
     ]
    },
    {
     "name": "stdout",
     "output_type": "stream",
     "text": [
      "package 'useful' successfully unpacked and MD5 sums checked\n",
      "package 'coefplot' successfully unpacked and MD5 sums checked\n",
      "\n",
      "The downloaded binary packages are in\n",
      "\tC:\\Users\\student\\AppData\\Local\\Temp\\RtmpU7F2Ck\\downloaded_packages\n"
     ]
    }
   ],
   "source": [
    "install.packages(\"coefplot\")"
   ]
  },
  {
   "cell_type": "code",
   "execution_count": 53,
   "metadata": {},
   "outputs": [],
   "source": [
    "library(coefplot)"
   ]
  },
  {
   "cell_type": "code",
   "execution_count": 54,
   "metadata": {},
   "outputs": [
    {
     "name": "stderr",
     "output_type": "stream",
     "text": [
      "Warning message:\n",
      "\"Ignoring unknown aesthetics: xmin, xmax\""
     ]
    },
    {
     "data": {},
     "metadata": {},
     "output_type": "display_data"
    },
    {
     "data": {
      "image/png": "[encoded data removed]",
      "text/plain": [
       "plot without title"
      ]
     },
     "metadata": {},
     "output_type": "display_data"
    }
   ],
   "source": [
    "coefplot(house1)"
   ]
  },
  {
   "cell_type": "markdown",
   "metadata": {},
   "source": [
    "- 상호작용 항을 고려\n",
    "    - 상호작용과 개별 효과를 동시 적용 : '*'\n",
    "    - 상호작용 만 적용 : ':'"
   ]
  },
  {
   "cell_type": "code",
   "execution_count": 55,
   "metadata": {},
   "outputs": [],
   "source": [
    "house2 <- lm(ValuePerSqFt ~ Units * SqFt + Boro, data=housing)\n",
    "house3 <- lm(ValuePerSqFt ~ Units : SqFt + Boro, data=housing)"
   ]
  },
  {
   "cell_type": "code",
   "execution_count": 56,
   "metadata": {},
   "outputs": [
    {
     "name": "stderr",
     "output_type": "stream",
     "text": [
      "Warning message:\n",
      "\"Ignoring unknown aesthetics: xmin, xmax\""
     ]
    },
    {
     "data": {},
     "metadata": {},
     "output_type": "display_data"
    },
    {
     "name": "stderr",
     "output_type": "stream",
     "text": [
      "Warning message:\n",
      "\"Ignoring unknown aesthetics: xmin, xmax\""
     ]
    },
    {
     "data": {},
     "metadata": {},
     "output_type": "display_data"
    },
    {
     "data": {
      "image/png": "[encoded data removed]",
      "text/plain": [
       "plot without title"
      ]
     },
     "metadata": {},
     "output_type": "display_data"
    },
    {
     "data": {
      "image/png": "[encoded data removed]",
      "text/plain": [
       "plot without title"
      ]
     },
     "metadata": {},
     "output_type": "display_data"
    }
   ],
   "source": [
    "coefplot(house2)\n",
    "coefplot(house3)"
   ]
  },
  {
   "cell_type": "markdown",
   "metadata": {},
   "source": [
    "* 3개 변수의 상호작용을 모두 고려"
   ]
  },
  {
   "cell_type": "code",
   "execution_count": 57,
   "metadata": {},
   "outputs": [],
   "source": [
    "house4 <- lm(ValuePerSqFt ~ SqFt*Units*Income, housing)"
   ]
  },
  {
   "cell_type": "code",
   "execution_count": 60,
   "metadata": {},
   "outputs": [
    {
     "data": {
      "text/html": [
       "<dl class=dl-horizontal>\n",
       "\t<dt>(Intercept)</dt>\n",
       "\t\t<dd>111.643265995091</dd>\n",
       "\t<dt>SqFt</dt>\n",
       "\t\t<dd>-0.00169468760895081</dd>\n",
       "\t<dt>Units</dt>\n",
       "\t\t<dd>0.00714261076383913</dd>\n",
       "\t<dt>Income</dt>\n",
       "\t\t<dd>7.25082950286442e-05</dd>\n",
       "\t<dt>SqFt:Units</dt>\n",
       "\t\t<dd>3.15809387221057e-06</dd>\n",
       "\t<dt>SqFt:Income</dt>\n",
       "\t\t<dd>-5.12952160549141e-11</dd>\n",
       "\t<dt>Units:Income</dt>\n",
       "\t\t<dd>-1.27923551776451e-07</dd>\n",
       "\t<dt>SqFt:Units:Income</dt>\n",
       "\t\t<dd>9.10731204919267e-14</dd>\n",
       "</dl>\n"
      ],
      "text/latex": [
       "\\begin{description*}\n",
       "\\item[(Intercept)] 111.643265995091\n",
       "\\item[SqFt] -0.00169468760895081\n",
       "\\item[Units] 0.00714261076383913\n",
       "\\item[Income] 7.25082950286442e-05\n",
       "\\item[SqFt:Units] 3.15809387221057e-06\n",
       "\\item[SqFt:Income] -5.12952160549141e-11\n",
       "\\item[Units:Income] -1.27923551776451e-07\n",
       "\\item[SqFt:Units:Income] 9.10731204919267e-14\n",
       "\\end{description*}\n"
      ],
      "text/markdown": [
       "(Intercept)\n",
       ":   111.643265995091SqFt\n",
       ":   -0.00169468760895081Units\n",
       ":   0.00714261076383913Income\n",
       ":   7.25082950286442e-05SqFt:Units\n",
       ":   3.15809387221057e-06SqFt:Income\n",
       ":   -5.12952160549141e-11Units:Income\n",
       ":   -1.27923551776451e-07SqFt:Units:Income\n",
       ":   9.10731204919267e-14\n",
       "\n"
      ],
      "text/plain": [
       "      (Intercept)              SqFt             Units            Income \n",
       "     1.116433e+02     -1.694688e-03      7.142611e-03      7.250830e-05 \n",
       "       SqFt:Units       SqFt:Income      Units:Income SqFt:Units:Income \n",
       "     3.158094e-06     -5.129522e-11     -1.279236e-07      9.107312e-14 "
      ]
     },
     "metadata": {},
     "output_type": "display_data"
    }
   ],
   "source": [
    "house4$coefficients"
   ]
  },
  {
   "cell_type": "markdown",
   "metadata": {},
   "source": [
    "* 어느 모형에서도 SqFt, Units은 통계적으로 유의해 보이지 않는다\n",
    "    * But, Boro 변수는 0 or 1 , Units 변수는 1 ~ 818 , SqFt 변수는 478 ~ 925 값을 가진다\n",
    "    * 이 변수들을 표준화 하는 방법으로 해결할 수 있다."
   ]
  },
  {
   "cell_type": "code",
   "execution_count": 61,
   "metadata": {},
   "outputs": [],
   "source": [
    "house1.b <- lm(ValuePerSqFt ~ scale(Units) + scale(SqFt) + Boro, data=housing)"
   ]
  },
  {
   "cell_type": "code",
   "execution_count": 62,
   "metadata": {},
   "outputs": [
    {
     "name": "stderr",
     "output_type": "stream",
     "text": [
      "Warning message:\n",
      "\"Ignoring unknown aesthetics: xmin, xmax\""
     ]
    },
    {
     "data": {},
     "metadata": {},
     "output_type": "display_data"
    },
    {
     "data": {
      "image/png": "[encoded data removed]",
      "text/plain": [
       "plot without title"
      ]
     },
     "metadata": {},
     "output_type": "display_data"
    }
   ],
   "source": [
    "coefplot(house1.b, sort='mag')"
   ]
  },
  {
   "cell_type": "markdown",
   "metadata": {},
   "source": [
    "- 여러 모형 중 최적의 것을 찾는다"
   ]
  },
  {
   "cell_type": "code",
   "execution_count": 63,
   "metadata": {},
   "outputs": [
    {
     "name": "stderr",
     "output_type": "stream",
     "text": [
      "Warning message:\n",
      "\"Ignoring unknown aesthetics: xmin, xmax\""
     ]
    },
    {
     "data": {},
     "metadata": {},
     "output_type": "display_data"
    },
    {
     "data": {
      "image/png": "[encoded data removed]",
      "text/plain": [
       "plot without title"
      ]
     },
     "metadata": {},
     "output_type": "display_data"
    }
   ],
   "source": [
    "multiplot(house1, house2, house3)"
   ]
  },
  {
   "cell_type": "markdown",
   "metadata": {},
   "source": [
    "- 새로운 데이터를 활용해서 예측(Prediction)을 수행한다"
   ]
  },
  {
   "cell_type": "code",
   "execution_count": 64,
   "metadata": {},
   "outputs": [],
   "source": [
    "housingNew <- read.table(\"http://www.jaredlander.com/data/housingNew.csv\",\n",
    "                        sep=\",\", header=TRUE, stringsAsFactors=FALSE)"
   ]
  },
  {
   "cell_type": "code",
   "execution_count": 65,
   "metadata": {},
   "outputs": [],
   "source": [
    "housingPredict <- predict(house1, newdata=housingNew, se.fit=TRUE,\n",
    "                         interval=\"prediction\", level=.95) # 95% 신뢰구간을 통한 새데이터 예측"
   ]
  },
  {
   "cell_type": "markdown",
   "metadata": {},
   "source": [
    "- 표준 에러에 기반해 예측된 양 끝단의 값을 확인한다."
   ]
  },
  {
   "cell_type": "code",
   "execution_count": 67,
   "metadata": {},
   "outputs": [
    {
     "data": {
      "text/html": [
       "<table>\n",
       "<thead><tr><th></th><th scope=col>fit</th><th scope=col>lwr</th><th scope=col>upr</th></tr></thead>\n",
       "<tbody>\n",
       "\t<tr><th scope=row>1</th><td> 74.00645 </td><td>-10.813887</td><td>158.8268  </td></tr>\n",
       "\t<tr><th scope=row>2</th><td> 82.04988 </td><td> -2.728506</td><td>166.8283  </td></tr>\n",
       "\t<tr><th scope=row>3</th><td>166.65975 </td><td> 81.808078</td><td>251.5114  </td></tr>\n",
       "\t<tr><th scope=row>4</th><td>169.00970 </td><td> 84.222648</td><td>253.7968  </td></tr>\n",
       "\t<tr><th scope=row>5</th><td> 80.00129 </td><td> -4.777303</td><td>164.7799  </td></tr>\n",
       "\t<tr><th scope=row>6</th><td> 47.87795 </td><td>-37.480170</td><td>133.2361  </td></tr>\n",
       "</tbody>\n",
       "</table>\n"
      ],
      "text/latex": [
       "\\begin{tabular}{r|lll}\n",
       "  & fit & lwr & upr\\\\\n",
       "\\hline\n",
       "\t1 &  74.00645  & -10.813887 & 158.8268  \\\\\n",
       "\t2 &  82.04988  &  -2.728506 & 166.8283  \\\\\n",
       "\t3 & 166.65975  &  81.808078 & 251.5114  \\\\\n",
       "\t4 & 169.00970  &  84.222648 & 253.7968  \\\\\n",
       "\t5 &  80.00129  &  -4.777303 & 164.7799  \\\\\n",
       "\t6 &  47.87795  & -37.480170 & 133.2361  \\\\\n",
       "\\end{tabular}\n"
      ],
      "text/markdown": [
       "\n",
       "| <!--/--> | fit | lwr | upr | \n",
       "|---|---|---|---|---|---|\n",
       "| 1 |  74.00645  | -10.813887 | 158.8268   | \n",
       "| 2 |  82.04988  |  -2.728506 | 166.8283   | \n",
       "| 3 | 166.65975  |  81.808078 | 251.5114   | \n",
       "| 4 | 169.00970  |  84.222648 | 253.7968   | \n",
       "| 5 |  80.00129  |  -4.777303 | 164.7799   | \n",
       "| 6 |  47.87795  | -37.480170 | 133.2361   | \n",
       "\n",
       "\n"
      ],
      "text/plain": [
       "  fit       lwr        upr     \n",
       "1  74.00645 -10.813887 158.8268\n",
       "2  82.04988  -2.728506 166.8283\n",
       "3 166.65975  81.808078 251.5114\n",
       "4 169.00970  84.222648 253.7968\n",
       "5  80.00129  -4.777303 164.7799\n",
       "6  47.87795 -37.480170 133.2361"
      ]
     },
     "metadata": {},
     "output_type": "display_data"
    }
   ],
   "source": [
    "head(housingPredict$fit)"
   ]
  },
  {
   "cell_type": "markdown",
   "metadata": {},
   "source": [
    "- 예측에 대한 표준오차를 확인한다."
   ]
  },
  {
   "cell_type": "code",
   "execution_count": 68,
   "metadata": {},
   "outputs": [
    {
     "data": {
      "text/html": [
       "<dl class=dl-horizontal>\n",
       "\t<dt>1</dt>\n",
       "\t\t<dd>2.11850930898229</dd>\n",
       "\t<dt>2</dt>\n",
       "\t\t<dd>1.62406349506852</dd>\n",
       "\t<dt>3</dt>\n",
       "\t\t<dd>2.42300556340957</dd>\n",
       "\t<dt>4</dt>\n",
       "\t\t<dd>1.73779893696055</dd>\n",
       "\t<dt>5</dt>\n",
       "\t\t<dd>1.62692338741603</dd>\n",
       "\t<dt>6</dt>\n",
       "\t\t<dd>5.31881329624136</dd>\n",
       "</dl>\n"
      ],
      "text/latex": [
       "\\begin{description*}\n",
       "\\item[1] 2.11850930898229\n",
       "\\item[2] 1.62406349506852\n",
       "\\item[3] 2.42300556340957\n",
       "\\item[4] 1.73779893696055\n",
       "\\item[5] 1.62692338741603\n",
       "\\item[6] 5.31881329624136\n",
       "\\end{description*}\n"
      ],
      "text/markdown": [
       "1\n",
       ":   2.118509308982292\n",
       ":   1.624063495068523\n",
       ":   2.423005563409574\n",
       ":   1.737798936960555\n",
       ":   1.626923387416036\n",
       ":   5.31881329624136\n",
       "\n"
      ],
      "text/plain": [
       "       1        2        3        4        5        6 \n",
       "2.118509 1.624063 2.423006 1.737799 1.626923 5.318813 "
      ]
     },
     "metadata": {},
     "output_type": "display_data"
    }
   ],
   "source": [
    "head(housingPredict$se.fit)"
   ]
  }
 ],
 "metadata": {
  "kernelspec": {
   "display_name": "R",
   "language": "R",
   "name": "ir"
  },
  "language_info": {
   "codemirror_mode": "r",
   "file_extension": ".r",
   "mimetype": "text/x-r-source",
   "name": "R",
   "pygments_lexer": "r",
   "version": "3.4.3"
  }
 },
 "nbformat": 4,
 "nbformat_minor": 2
}
