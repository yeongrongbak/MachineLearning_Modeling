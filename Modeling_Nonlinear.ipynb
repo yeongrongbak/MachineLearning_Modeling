{
 "cells": [
  {
   "cell_type": "markdown",
   "metadata": {},
   "source": [
    "# 비선형 모형\n",
    "\n",
    "- 비선형 최소 제곱, 스플라인, 의사결정 나무, 랜덤포레스트, 일반화 가법 모형(GAM)"
   ]
  },
  {
   "cell_type": "markdown",
   "metadata": {},
   "source": [
    "## 스플라인\n",
    "\n",
    "- 변수 x를 변형시켜 만들어진 N개의 함수들의 선형 조합으로 만들어지는 함수\n",
    "- 평활 파라미터 람다가 작으면 울퉁불퉁한 평활 곡선이 되고, 크면 매끄러운 곡선이 된다"
   ]
  },
  {
   "cell_type": "code",
   "execution_count": 1,
   "metadata": {},
   "outputs": [],
   "source": [
    "data(diamonds, package=\"ggplot2\")"
   ]
  },
  {
   "cell_type": "code",
   "execution_count": 2,
   "metadata": {},
   "outputs": [],
   "source": [
    "diaSpline1 <- smooth.spline(x=diamonds$carat, y=diamonds$price)"
   ]
  },
  {
   "cell_type": "code",
   "execution_count": 4,
   "metadata": {},
   "outputs": [],
   "source": [
    "diaSpline2 <- smooth.spline(x=diamonds$carat, y=diamonds$price, df=2)"
   ]
  },
  {
   "cell_type": "code",
   "execution_count": 5,
   "metadata": {},
   "outputs": [],
   "source": [
    "diaSpline3 <- smooth.spline(x=diamonds$carat, y=diamonds$price, df=10)"
   ]
  },
  {
   "cell_type": "code",
   "execution_count": 6,
   "metadata": {},
   "outputs": [],
   "source": [
    "diaSpline4 <- smooth.spline(x=diamonds$carat, y=diamonds$price, df=20)"
   ]
  },
  {
   "cell_type": "code",
   "execution_count": 7,
   "metadata": {},
   "outputs": [],
   "source": [
    "diaSpline5 <- smooth.spline(x=diamonds$carat, y=diamonds$price, df=50)"
   ]
  },
  {
   "cell_type": "code",
   "execution_count": 8,
   "metadata": {},
   "outputs": [],
   "source": [
    "diaSpline6 <- smooth.spline(x=diamonds$carat, y=diamonds$price, df=100)"
   ]
  },
  {
   "cell_type": "markdown",
   "metadata": {},
   "source": [
    "- 자유도를 낮추면 직선에 가깝게 되고, 자유도를 높이면 곡선 형태를 보인다"
   ]
  },
  {
   "cell_type": "code",
   "execution_count": 9,
   "metadata": {},
   "outputs": [],
   "source": [
    "get.spline.info <- function(object){\n",
    "    data.frame(x=object$x, y=object$y, df=object$df)\n",
    "}"
   ]
  },
  {
   "cell_type": "code",
   "execution_count": 10,
   "metadata": {},
   "outputs": [],
   "source": [
    "library(plyr)"
   ]
  },
  {
   "cell_type": "code",
   "execution_count": 11,
   "metadata": {},
   "outputs": [],
   "source": [
    "library(ggplot2)"
   ]
  },
  {
   "cell_type": "code",
   "execution_count": 12,
   "metadata": {},
   "outputs": [],
   "source": [
    "splineDF <- ldply(list(diaSpline1, diaSpline2, diaSpline3, diaSpline4, diaSpline5, diaSpline6), get.spline.info)"
   ]
  },
  {
   "cell_type": "code",
   "execution_count": 13,
   "metadata": {},
   "outputs": [
    {
     "data": {
      "text/html": [
       "<table>\n",
       "<thead><tr><th scope=col>x</th><th scope=col>y</th><th scope=col>df</th></tr></thead>\n",
       "<tbody>\n",
       "\t<tr><td>0.20    </td><td>361.9112</td><td>101.9053</td></tr>\n",
       "\t<tr><td>0.21    </td><td>397.1761</td><td>101.9053</td></tr>\n",
       "\t<tr><td>0.22    </td><td>437.9095</td><td>101.9053</td></tr>\n",
       "\t<tr><td>0.23    </td><td>479.9756</td><td>101.9053</td></tr>\n",
       "\t<tr><td>0.24    </td><td>517.0467</td><td>101.9053</td></tr>\n",
       "\t<tr><td>0.25    </td><td>542.2470</td><td>101.9053</td></tr>\n",
       "</tbody>\n",
       "</table>\n"
      ],
      "text/latex": [
       "\\begin{tabular}{r|lll}\n",
       " x & y & df\\\\\n",
       "\\hline\n",
       "\t 0.20     & 361.9112 & 101.9053\\\\\n",
       "\t 0.21     & 397.1761 & 101.9053\\\\\n",
       "\t 0.22     & 437.9095 & 101.9053\\\\\n",
       "\t 0.23     & 479.9756 & 101.9053\\\\\n",
       "\t 0.24     & 517.0467 & 101.9053\\\\\n",
       "\t 0.25     & 542.2470 & 101.9053\\\\\n",
       "\\end{tabular}\n"
      ],
      "text/markdown": [
       "\n",
       "x | y | df | \n",
       "|---|---|---|---|---|---|\n",
       "| 0.20     | 361.9112 | 101.9053 | \n",
       "| 0.21     | 397.1761 | 101.9053 | \n",
       "| 0.22     | 437.9095 | 101.9053 | \n",
       "| 0.23     | 479.9756 | 101.9053 | \n",
       "| 0.24     | 517.0467 | 101.9053 | \n",
       "| 0.25     | 542.2470 | 101.9053 | \n",
       "\n",
       "\n"
      ],
      "text/plain": [
       "  x    y        df      \n",
       "1 0.20 361.9112 101.9053\n",
       "2 0.21 397.1761 101.9053\n",
       "3 0.22 437.9095 101.9053\n",
       "4 0.23 479.9756 101.9053\n",
       "5 0.24 517.0467 101.9053\n",
       "6 0.25 542.2470 101.9053"
      ]
     },
     "metadata": {},
     "output_type": "display_data"
    }
   ],
   "source": [
    "head(splineDF)"
   ]
  },
  {
   "cell_type": "code",
   "execution_count": 15,
   "metadata": {},
   "outputs": [],
   "source": [
    "g <- ggplot(diamonds, aes(x=carat, y=price)) + geom_point()"
   ]
  },
  {
   "cell_type": "code",
   "execution_count": 17,
   "metadata": {},
   "outputs": [
    {
     "data": {},
     "metadata": {},
     "output_type": "display_data"
    },
    {
     "data": {
      "image/png": "[encoded data removed]",
      "text/plain": [
       "plot without title"
      ]
     },
     "metadata": {},
     "output_type": "display_data"
    }
   ],
   "source": [
    "g + geom_line(data=splineDF,\n",
    "             aes(x=x, y=y, color=factor(round(df,0)), group=df)) +\n",
    "scale_color_discrete(\"Degrees of \\nFreedom\")"
   ]
  },
  {
   "cell_type": "markdown",
   "metadata": {},
   "source": [
    "- 기저 스플라인(Basis Spline) : 원래의 예측 변수의 변형값에 기초해 새로운 예측 변수를 만든다.\n",
    "- 가장 많이 사용되는 기저 스플라인 방법은 자연 3차 스플라인"
   ]
  },
  {
   "cell_type": "code",
   "execution_count": 19,
   "metadata": {},
   "outputs": [
    {
     "data": {
      "text/html": [
       "<table>\n",
       "<thead><tr><th scope=col>1</th></tr></thead>\n",
       "<tbody>\n",
       "\t<tr><td>0.00500073</td></tr>\n",
       "\t<tr><td>0.00166691</td></tr>\n",
       "\t<tr><td>0.00500073</td></tr>\n",
       "\t<tr><td>0.01500219</td></tr>\n",
       "\t<tr><td>0.01833601</td></tr>\n",
       "\t<tr><td>0.00666764</td></tr>\n",
       "</tbody>\n",
       "</table>\n"
      ],
      "text/latex": [
       "\\begin{tabular}{l}\n",
       " 1\\\\\n",
       "\\hline\n",
       "\t 0.00500073\\\\\n",
       "\t 0.00166691\\\\\n",
       "\t 0.00500073\\\\\n",
       "\t 0.01500219\\\\\n",
       "\t 0.01833601\\\\\n",
       "\t 0.00666764\\\\\n",
       "\\end{tabular}\n"
      ],
      "text/markdown": [
       "\n",
       "1 | \n",
       "|---|---|---|---|---|---|\n",
       "| 0.00500073 | \n",
       "| 0.00166691 | \n",
       "| 0.00500073 | \n",
       "| 0.01500219 | \n",
       "| 0.01833601 | \n",
       "| 0.00666764 | \n",
       "\n",
       "\n"
      ],
      "text/plain": [
       "     1         \n",
       "[1,] 0.00500073\n",
       "[2,] 0.00166691\n",
       "[3,] 0.00500073\n",
       "[4,] 0.01500219\n",
       "[5,] 0.01833601\n",
       "[6,] 0.00666764"
      ]
     },
     "metadata": {},
     "output_type": "display_data"
    }
   ],
   "source": [
    "library(splines)\n",
    "head(ns(diamonds$carat, df=1))"
   ]
  },
  {
   "cell_type": "code",
   "execution_count": 20,
   "metadata": {},
   "outputs": [
    {
     "data": {
      "text/html": [
       "<table>\n",
       "<thead><tr><th scope=col>1</th><th scope=col>2</th></tr></thead>\n",
       "<tbody>\n",
       "\t<tr><td>0.013777685 </td><td>-0.007265289</td></tr>\n",
       "\t<tr><td>0.004593275 </td><td>-0.002422504</td></tr>\n",
       "\t<tr><td>0.013777685 </td><td>-0.007265289</td></tr>\n",
       "\t<tr><td>0.041275287 </td><td>-0.021735857</td></tr>\n",
       "\t<tr><td>0.050408348 </td><td>-0.026525299</td></tr>\n",
       "\t<tr><td>0.018367750 </td><td>-0.009684459</td></tr>\n",
       "</tbody>\n",
       "</table>\n"
      ],
      "text/latex": [
       "\\begin{tabular}{ll}\n",
       " 1 & 2\\\\\n",
       "\\hline\n",
       "\t 0.013777685  & -0.007265289\\\\\n",
       "\t 0.004593275  & -0.002422504\\\\\n",
       "\t 0.013777685  & -0.007265289\\\\\n",
       "\t 0.041275287  & -0.021735857\\\\\n",
       "\t 0.050408348  & -0.026525299\\\\\n",
       "\t 0.018367750  & -0.009684459\\\\\n",
       "\\end{tabular}\n"
      ],
      "text/markdown": [
       "\n",
       "1 | 2 | \n",
       "|---|---|---|---|---|---|\n",
       "| 0.013777685  | -0.007265289 | \n",
       "| 0.004593275  | -0.002422504 | \n",
       "| 0.013777685  | -0.007265289 | \n",
       "| 0.041275287  | -0.021735857 | \n",
       "| 0.050408348  | -0.026525299 | \n",
       "| 0.018367750  | -0.009684459 | \n",
       "\n",
       "\n"
      ],
      "text/plain": [
       "     1           2           \n",
       "[1,] 0.013777685 -0.007265289\n",
       "[2,] 0.004593275 -0.002422504\n",
       "[3,] 0.013777685 -0.007265289\n",
       "[4,] 0.041275287 -0.021735857\n",
       "[5,] 0.050408348 -0.026525299\n",
       "[6,] 0.018367750 -0.009684459"
      ]
     },
     "metadata": {},
     "output_type": "display_data"
    }
   ],
   "source": [
    "head(ns(diamonds$carat, df=2))"
   ]
  },
  {
   "cell_type": "code",
   "execution_count": 21,
   "metadata": {},
   "outputs": [
    {
     "data": {
      "text/html": [
       "<table>\n",
       "<thead><tr><th scope=col>1</th><th scope=col>2</th><th scope=col>3</th></tr></thead>\n",
       "<tbody>\n",
       "\t<tr><td>-0.03025012</td><td>0.06432178 </td><td>-0.03404826</td></tr>\n",
       "\t<tr><td>-0.01010308</td><td>0.02146773 </td><td>-0.01136379</td></tr>\n",
       "\t<tr><td>-0.03025012</td><td>0.06432178 </td><td>-0.03404826</td></tr>\n",
       "\t<tr><td>-0.08915435</td><td>0.19076693 </td><td>-0.10098109</td></tr>\n",
       "\t<tr><td>-0.10788271</td><td>0.23166685 </td><td>-0.12263116</td></tr>\n",
       "\t<tr><td>-0.04026453</td><td>0.08566738 </td><td>-0.04534740</td></tr>\n",
       "</tbody>\n",
       "</table>\n"
      ],
      "text/latex": [
       "\\begin{tabular}{lll}\n",
       " 1 & 2 & 3\\\\\n",
       "\\hline\n",
       "\t -0.03025012 & 0.06432178  & -0.03404826\\\\\n",
       "\t -0.01010308 & 0.02146773  & -0.01136379\\\\\n",
       "\t -0.03025012 & 0.06432178  & -0.03404826\\\\\n",
       "\t -0.08915435 & 0.19076693  & -0.10098109\\\\\n",
       "\t -0.10788271 & 0.23166685  & -0.12263116\\\\\n",
       "\t -0.04026453 & 0.08566738  & -0.04534740\\\\\n",
       "\\end{tabular}\n"
      ],
      "text/markdown": [
       "\n",
       "1 | 2 | 3 | \n",
       "|---|---|---|---|---|---|\n",
       "| -0.03025012 | 0.06432178  | -0.03404826 | \n",
       "| -0.01010308 | 0.02146773  | -0.01136379 | \n",
       "| -0.03025012 | 0.06432178  | -0.03404826 | \n",
       "| -0.08915435 | 0.19076693  | -0.10098109 | \n",
       "| -0.10788271 | 0.23166685  | -0.12263116 | \n",
       "| -0.04026453 | 0.08566738  | -0.04534740 | \n",
       "\n",
       "\n"
      ],
      "text/plain": [
       "     1           2          3          \n",
       "[1,] -0.03025012 0.06432178 -0.03404826\n",
       "[2,] -0.01010308 0.02146773 -0.01136379\n",
       "[3,] -0.03025012 0.06432178 -0.03404826\n",
       "[4,] -0.08915435 0.19076693 -0.10098109\n",
       "[5,] -0.10788271 0.23166685 -0.12263116\n",
       "[6,] -0.04026453 0.08566738 -0.04534740"
      ]
     },
     "metadata": {},
     "output_type": "display_data"
    }
   ],
   "source": [
    "head(ns(diamonds$carat, df=3))"
   ]
  },
  {
   "cell_type": "code",
   "execution_count": 22,
   "metadata": {},
   "outputs": [
    {
     "data": {
      "text/html": [
       "<table>\n",
       "<thead><tr><th scope=col>1</th><th scope=col>2</th><th scope=col>3</th><th scope=col>4</th></tr></thead>\n",
       "<tbody>\n",
       "\t<tr><td>3.214286e-04</td><td>-0.04811737 </td><td>0.10035562  </td><td>-0.05223825 </td></tr>\n",
       "\t<tr><td>1.190476e-05</td><td>-0.01611797 </td><td>0.03361632  </td><td>-0.01749835 </td></tr>\n",
       "\t<tr><td>3.214286e-04</td><td>-0.04811737 </td><td>0.10035562  </td><td>-0.05223825 </td></tr>\n",
       "\t<tr><td>8.678571e-03</td><td>-0.13796549 </td><td>0.28774667  </td><td>-0.14978118 </td></tr>\n",
       "\t<tr><td>1.584524e-02</td><td>-0.16428790 </td><td>0.34264579  </td><td>-0.17835789 </td></tr>\n",
       "\t<tr><td>7.619048e-04</td><td>-0.06388053 </td><td>0.13323194  </td><td>-0.06935141 </td></tr>\n",
       "</tbody>\n",
       "</table>\n"
      ],
      "text/latex": [
       "\\begin{tabular}{llll}\n",
       " 1 & 2 & 3 & 4\\\\\n",
       "\\hline\n",
       "\t 3.214286e-04 & -0.04811737  & 0.10035562   & -0.05223825 \\\\\n",
       "\t 1.190476e-05 & -0.01611797  & 0.03361632   & -0.01749835 \\\\\n",
       "\t 3.214286e-04 & -0.04811737  & 0.10035562   & -0.05223825 \\\\\n",
       "\t 8.678571e-03 & -0.13796549  & 0.28774667   & -0.14978118 \\\\\n",
       "\t 1.584524e-02 & -0.16428790  & 0.34264579   & -0.17835789 \\\\\n",
       "\t 7.619048e-04 & -0.06388053  & 0.13323194   & -0.06935141 \\\\\n",
       "\\end{tabular}\n"
      ],
      "text/markdown": [
       "\n",
       "1 | 2 | 3 | 4 | \n",
       "|---|---|---|---|---|---|\n",
       "| 3.214286e-04 | -0.04811737  | 0.10035562   | -0.05223825  | \n",
       "| 1.190476e-05 | -0.01611797  | 0.03361632   | -0.01749835  | \n",
       "| 3.214286e-04 | -0.04811737  | 0.10035562   | -0.05223825  | \n",
       "| 8.678571e-03 | -0.13796549  | 0.28774667   | -0.14978118  | \n",
       "| 1.584524e-02 | -0.16428790  | 0.34264579   | -0.17835789  | \n",
       "| 7.619048e-04 | -0.06388053  | 0.13323194   | -0.06935141  | \n",
       "\n",
       "\n"
      ],
      "text/plain": [
       "     1            2           3          4          \n",
       "[1,] 3.214286e-04 -0.04811737 0.10035562 -0.05223825\n",
       "[2,] 1.190476e-05 -0.01611797 0.03361632 -0.01749835\n",
       "[3,] 3.214286e-04 -0.04811737 0.10035562 -0.05223825\n",
       "[4,] 8.678571e-03 -0.13796549 0.28774667 -0.14978118\n",
       "[5,] 1.584524e-02 -0.16428790 0.34264579 -0.17835789\n",
       "[6,] 7.619048e-04 -0.06388053 0.13323194 -0.06935141"
      ]
     },
     "metadata": {},
     "output_type": "display_data"
    }
   ],
   "source": [
    "head(ns(diamonds$carat, df=4))"
   ]
  },
  {
   "cell_type": "code",
   "execution_count": 23,
   "metadata": {},
   "outputs": [
    {
     "data": {},
     "metadata": {},
     "output_type": "display_data"
    },
    {
     "data": {
      "image/png": "[encoded data removed]",
      "text/plain": [
       "plot without title"
      ]
     },
     "metadata": {},
     "output_type": "display_data"
    }
   ],
   "source": [
    "g + stat_smooth(method=\"lm\", formula = y~ ns(x, 6), color = \"blue\") # 6개의 노트를 가진 스플라인"
   ]
  },
  {
   "cell_type": "code",
   "execution_count": 24,
   "metadata": {},
   "outputs": [
    {
     "data": {},
     "metadata": {},
     "output_type": "display_data"
    },
    {
     "data": {
      "image/png": "[encoded data removed]",
      "text/plain": [
       "plot without title"
      ]
     },
     "metadata": {},
     "output_type": "display_data"
    }
   ],
   "source": [
    "g + stat_smooth(method=\"lm\", formula = y~ ns(x, 3), color = \"red\") # 3개의 노트를 가진 스플라인"
   ]
  },
  {
   "cell_type": "markdown",
   "metadata": {},
   "source": [
    "## 3. 일반화 가법 모형(Generalized Additive Models, GAM)"
   ]
  },
  {
   "cell_type": "code",
   "execution_count": 26,
   "metadata": {},
   "outputs": [],
   "source": [
    "creditNames <- c(\"Checking\", \"Duration\", \"CreditHistory\", \"Purpose\",\n",
    "                \"CreditAmount\", \"Savings\" ,\"Employment\",\n",
    "                \"InstallmentRate\", \"GenderMarital\", \"OtherDebtors\",\n",
    "                \"YearsAtResidence\", \"RealEstate\" ,\"Age\",\n",
    "                \"OtherInstallment\", \"Housing\", \"ExistingCredits\",\n",
    "                \"Job\", \"NumLiable\", \"Phone\", \"Foreign\", \"Credit\")"
   ]
  },
  {
   "cell_type": "code",
   "execution_count": 32,
   "metadata": {},
   "outputs": [],
   "source": [
    "credit <- read.csv(\"C:/Users/student/Downloads/GermanData.csv\", sep= \",\", header = FALSE,\n",
    "                    col.names = creditNames, stringsAsFactors = FALSE)"
   ]
  },
  {
   "cell_type": "code",
   "execution_count": 33,
   "metadata": {
    "scrolled": true
   },
   "outputs": [
    {
     "data": {
      "text/html": [
       "<table>\n",
       "<thead><tr><th scope=col>Checking</th><th scope=col>Duration</th><th scope=col>CreditHistory</th><th scope=col>Purpose</th><th scope=col>CreditAmount</th><th scope=col>Savings</th><th scope=col>Employment</th><th scope=col>InstallmentRate</th><th scope=col>GenderMarital</th><th scope=col>OtherDebtors</th><th scope=col>...</th><th scope=col>RealEstate</th><th scope=col>Age</th><th scope=col>OtherInstallment</th><th scope=col>Housing</th><th scope=col>ExistingCredits</th><th scope=col>Job</th><th scope=col>NumLiable</th><th scope=col>Phone</th><th scope=col>Foreign</th><th scope=col>Credit</th></tr></thead>\n",
       "<tbody>\n",
       "\t<tr><td>A11 </td><td> 6  </td><td>A34 </td><td>A43 </td><td>1169</td><td>A65 </td><td>A75 </td><td>4   </td><td>A93 </td><td>A101</td><td>... </td><td>A121</td><td>67  </td><td>A143</td><td>A152</td><td>2   </td><td>A173</td><td>1   </td><td>A192</td><td>A201</td><td>1   </td></tr>\n",
       "\t<tr><td>A12 </td><td>48  </td><td>A32 </td><td>A43 </td><td>5951</td><td>A61 </td><td>A73 </td><td>2   </td><td>A92 </td><td>A101</td><td>... </td><td>A121</td><td>22  </td><td>A143</td><td>A152</td><td>1   </td><td>A173</td><td>1   </td><td>A191</td><td>A201</td><td>2   </td></tr>\n",
       "\t<tr><td>A14 </td><td>12  </td><td>A34 </td><td>A46 </td><td>2096</td><td>A61 </td><td>A74 </td><td>2   </td><td>A93 </td><td>A101</td><td>... </td><td>A121</td><td>49  </td><td>A143</td><td>A152</td><td>1   </td><td>A172</td><td>2   </td><td>A191</td><td>A201</td><td>1   </td></tr>\n",
       "\t<tr><td>A11 </td><td>42  </td><td>A32 </td><td>A42 </td><td>7882</td><td>A61 </td><td>A74 </td><td>2   </td><td>A93 </td><td>A103</td><td>... </td><td>A122</td><td>45  </td><td>A143</td><td>A153</td><td>1   </td><td>A173</td><td>2   </td><td>A191</td><td>A201</td><td>1   </td></tr>\n",
       "\t<tr><td>A11 </td><td>24  </td><td>A33 </td><td>A40 </td><td>4870</td><td>A61 </td><td>A73 </td><td>3   </td><td>A93 </td><td>A101</td><td>... </td><td>A124</td><td>53  </td><td>A143</td><td>A153</td><td>2   </td><td>A173</td><td>2   </td><td>A191</td><td>A201</td><td>2   </td></tr>\n",
       "\t<tr><td>A14 </td><td>36  </td><td>A32 </td><td>A46 </td><td>9055</td><td>A65 </td><td>A73 </td><td>2   </td><td>A93 </td><td>A101</td><td>... </td><td>A124</td><td>35  </td><td>A143</td><td>A153</td><td>1   </td><td>A172</td><td>2   </td><td>A192</td><td>A201</td><td>1   </td></tr>\n",
       "</tbody>\n",
       "</table>\n"
      ],
      "text/latex": [
       "\\begin{tabular}{r|lllllllllllllllllllll}\n",
       " Checking & Duration & CreditHistory & Purpose & CreditAmount & Savings & Employment & InstallmentRate & GenderMarital & OtherDebtors & ... & RealEstate & Age & OtherInstallment & Housing & ExistingCredits & Job & NumLiable & Phone & Foreign & Credit\\\\\n",
       "\\hline\n",
       "\t A11  &  6   & A34  & A43  & 1169 & A65  & A75  & 4    & A93  & A101 & ...  & A121 & 67   & A143 & A152 & 2    & A173 & 1    & A192 & A201 & 1   \\\\\n",
       "\t A12  & 48   & A32  & A43  & 5951 & A61  & A73  & 2    & A92  & A101 & ...  & A121 & 22   & A143 & A152 & 1    & A173 & 1    & A191 & A201 & 2   \\\\\n",
       "\t A14  & 12   & A34  & A46  & 2096 & A61  & A74  & 2    & A93  & A101 & ...  & A121 & 49   & A143 & A152 & 1    & A172 & 2    & A191 & A201 & 1   \\\\\n",
       "\t A11  & 42   & A32  & A42  & 7882 & A61  & A74  & 2    & A93  & A103 & ...  & A122 & 45   & A143 & A153 & 1    & A173 & 2    & A191 & A201 & 1   \\\\\n",
       "\t A11  & 24   & A33  & A40  & 4870 & A61  & A73  & 3    & A93  & A101 & ...  & A124 & 53   & A143 & A153 & 2    & A173 & 2    & A191 & A201 & 2   \\\\\n",
       "\t A14  & 36   & A32  & A46  & 9055 & A65  & A73  & 2    & A93  & A101 & ...  & A124 & 35   & A143 & A153 & 1    & A172 & 2    & A192 & A201 & 1   \\\\\n",
       "\\end{tabular}\n"
      ],
      "text/markdown": [
       "\n",
       "Checking | Duration | CreditHistory | Purpose | CreditAmount | Savings | Employment | InstallmentRate | GenderMarital | OtherDebtors | ... | RealEstate | Age | OtherInstallment | Housing | ExistingCredits | Job | NumLiable | Phone | Foreign | Credit | \n",
       "|---|---|---|---|---|---|\n",
       "| A11  |  6   | A34  | A43  | 1169 | A65  | A75  | 4    | A93  | A101 | ...  | A121 | 67   | A143 | A152 | 2    | A173 | 1    | A192 | A201 | 1    | \n",
       "| A12  | 48   | A32  | A43  | 5951 | A61  | A73  | 2    | A92  | A101 | ...  | A121 | 22   | A143 | A152 | 1    | A173 | 1    | A191 | A201 | 2    | \n",
       "| A14  | 12   | A34  | A46  | 2096 | A61  | A74  | 2    | A93  | A101 | ...  | A121 | 49   | A143 | A152 | 1    | A172 | 2    | A191 | A201 | 1    | \n",
       "| A11  | 42   | A32  | A42  | 7882 | A61  | A74  | 2    | A93  | A103 | ...  | A122 | 45   | A143 | A153 | 1    | A173 | 2    | A191 | A201 | 1    | \n",
       "| A11  | 24   | A33  | A40  | 4870 | A61  | A73  | 3    | A93  | A101 | ...  | A124 | 53   | A143 | A153 | 2    | A173 | 2    | A191 | A201 | 2    | \n",
       "| A14  | 36   | A32  | A46  | 9055 | A65  | A73  | 2    | A93  | A101 | ...  | A124 | 35   | A143 | A153 | 1    | A172 | 2    | A192 | A201 | 1    | \n",
       "\n",
       "\n"
      ],
      "text/plain": [
       "  Checking Duration CreditHistory Purpose CreditAmount Savings Employment\n",
       "1 A11       6       A34           A43     1169         A65     A75       \n",
       "2 A12      48       A32           A43     5951         A61     A73       \n",
       "3 A14      12       A34           A46     2096         A61     A74       \n",
       "4 A11      42       A32           A42     7882         A61     A74       \n",
       "5 A11      24       A33           A40     4870         A61     A73       \n",
       "6 A14      36       A32           A46     9055         A65     A73       \n",
       "  InstallmentRate GenderMarital OtherDebtors ... RealEstate Age\n",
       "1 4               A93           A101         ... A121       67 \n",
       "2 2               A92           A101         ... A121       22 \n",
       "3 2               A93           A101         ... A121       49 \n",
       "4 2               A93           A103         ... A122       45 \n",
       "5 3               A93           A101         ... A124       53 \n",
       "6 2               A93           A101         ... A124       35 \n",
       "  OtherInstallment Housing ExistingCredits Job  NumLiable Phone Foreign Credit\n",
       "1 A143             A152    2               A173 1         A192  A201    1     \n",
       "2 A143             A152    1               A173 1         A191  A201    2     \n",
       "3 A143             A152    1               A172 2         A191  A201    1     \n",
       "4 A143             A153    1               A173 2         A191  A201    1     \n",
       "5 A143             A153    2               A173 2         A191  A201    2     \n",
       "6 A143             A153    1               A172 2         A192  A201    1     "
      ]
     },
     "metadata": {},
     "output_type": "display_data"
    }
   ],
   "source": [
    "head(credit)"
   ]
  },
  {
   "cell_type": "code",
   "execution_count": 34,
   "metadata": {},
   "outputs": [
    {
     "data": {
      "text/html": [
       "<table>\n",
       "<thead><tr><th scope=col>CreditHistory</th><th scope=col>Purpose</th><th scope=col>Employment</th><th scope=col>Credit</th></tr></thead>\n",
       "<tbody>\n",
       "\t<tr><td>A34</td><td>A43</td><td>A75</td><td>1  </td></tr>\n",
       "\t<tr><td>A32</td><td>A43</td><td>A73</td><td>2  </td></tr>\n",
       "\t<tr><td>A34</td><td>A46</td><td>A74</td><td>1  </td></tr>\n",
       "\t<tr><td>A32</td><td>A42</td><td>A74</td><td>1  </td></tr>\n",
       "\t<tr><td>A33</td><td>A40</td><td>A73</td><td>2  </td></tr>\n",
       "\t<tr><td>A32</td><td>A46</td><td>A73</td><td>1  </td></tr>\n",
       "</tbody>\n",
       "</table>\n"
      ],
      "text/latex": [
       "\\begin{tabular}{r|llll}\n",
       " CreditHistory & Purpose & Employment & Credit\\\\\n",
       "\\hline\n",
       "\t A34 & A43 & A75 & 1  \\\\\n",
       "\t A32 & A43 & A73 & 2  \\\\\n",
       "\t A34 & A46 & A74 & 1  \\\\\n",
       "\t A32 & A42 & A74 & 1  \\\\\n",
       "\t A33 & A40 & A73 & 2  \\\\\n",
       "\t A32 & A46 & A73 & 1  \\\\\n",
       "\\end{tabular}\n"
      ],
      "text/markdown": [
       "\n",
       "CreditHistory | Purpose | Employment | Credit | \n",
       "|---|---|---|---|---|---|\n",
       "| A34 | A43 | A75 | 1   | \n",
       "| A32 | A43 | A73 | 2   | \n",
       "| A34 | A46 | A74 | 1   | \n",
       "| A32 | A42 | A74 | 1   | \n",
       "| A33 | A40 | A73 | 2   | \n",
       "| A32 | A46 | A73 | 1   | \n",
       "\n",
       "\n"
      ],
      "text/plain": [
       "  CreditHistory Purpose Employment Credit\n",
       "1 A34           A43     A75        1     \n",
       "2 A32           A43     A73        2     \n",
       "3 A34           A46     A74        1     \n",
       "4 A32           A42     A74        1     \n",
       "5 A33           A40     A73        2     \n",
       "6 A32           A46     A73        1     "
      ]
     },
     "metadata": {},
     "output_type": "display_data"
    }
   ],
   "source": [
    "# 변환하기 전\n",
    "\n",
    "head(credit[, c(\"CreditHistory\", \"Purpose\", \"Employment\", \"Credit\")])"
   ]
  },
  {
   "cell_type": "code",
   "execution_count": 35,
   "metadata": {},
   "outputs": [],
   "source": [
    "creditHistory <- c(A30=\"All Paid\", A31=\"All Paid This Bank\",\n",
    "                  A32=\"Up To Date\", A33=\"Late Payment\",\n",
    "                  A34=\"Critical Account\")"
   ]
  },
  {
   "cell_type": "code",
   "execution_count": 36,
   "metadata": {},
   "outputs": [],
   "source": [
    "purpose <- c(A40=\"car(new)\", A41 =\"car(used)\",\n",
    "            A42=\"furniture/equipment\", A43=\"radio/television\",\n",
    "            A44=\"domestic appliances\", A45=\"repairs\",\n",
    "            A46=\"education\",\n",
    "            A47=\"(vacation - does not exist?)\", A48=\"retraining\",\n",
    "            A49=\"business\", A410=\"others\")"
   ]
  },
  {
   "cell_type": "code",
   "execution_count": 37,
   "metadata": {},
   "outputs": [],
   "source": [
    "employment <- c(A71 = \"unemployed\", A72=\"<1 year\", A73=\"1-4 years\",\n",
    "               A74=\"4-7 years\", A75=\">=7 years\")"
   ]
  },
  {
   "cell_type": "code",
   "execution_count": 38,
   "metadata": {},
   "outputs": [],
   "source": [
    "credit$CreditHistory <- creditHistory[credit$CreditHistory]"
   ]
  },
  {
   "cell_type": "code",
   "execution_count": 39,
   "metadata": {},
   "outputs": [],
   "source": [
    "credit$Purpose <- purpose[credit$Purpose]"
   ]
  },
  {
   "cell_type": "code",
   "execution_count": 40,
   "metadata": {},
   "outputs": [],
   "source": [
    "credit$Employment <- employment[credit$Employment]"
   ]
  },
  {
   "cell_type": "code",
   "execution_count": 41,
   "metadata": {},
   "outputs": [],
   "source": [
    "# 신용을 좋음/나쁨으로 표시\n",
    "\n",
    "credit$Credit <- ifelse(credit$Credit == 1, \"Good\" , \"Bad\")"
   ]
  },
  {
   "cell_type": "code",
   "execution_count": 42,
   "metadata": {},
   "outputs": [],
   "source": [
    "# 신용도 좋음을 베이스 레벨로 설정\n",
    "\n",
    "credit$Credit <- factor(credit$Credit, levels=c(\"Good\", \"Bad\"))"
   ]
  },
  {
   "cell_type": "code",
   "execution_count": 43,
   "metadata": {},
   "outputs": [
    {
     "data": {
      "text/html": [
       "<table>\n",
       "<thead><tr><th scope=col>CreditHistory</th><th scope=col>Purpose</th><th scope=col>Employment</th><th scope=col>Credit</th></tr></thead>\n",
       "<tbody>\n",
       "\t<tr><td>Critical Account                                           </td><td><span style=white-space:pre-wrap>radio/television   </span></td><td>&gt;=7 years                                               </td><td>Good                                                       </td></tr>\n",
       "\t<tr><td>Up To Date         </td><td>radio/television   </td><td>1-4 years          </td><td>Bad                </td></tr>\n",
       "\t<tr><td>Critical Account   </td><td>education          </td><td>4-7 years          </td><td>Good               </td></tr>\n",
       "\t<tr><td>Up To Date         </td><td>furniture/equipment</td><td>4-7 years          </td><td>Good               </td></tr>\n",
       "\t<tr><td>Late Payment       </td><td>car(new)           </td><td>1-4 years          </td><td>Bad                </td></tr>\n",
       "\t<tr><td>Up To Date         </td><td>education          </td><td>1-4 years          </td><td>Good               </td></tr>\n",
       "</tbody>\n",
       "</table>\n"
      ],
      "text/latex": [
       "\\begin{tabular}{r|llll}\n",
       " CreditHistory & Purpose & Employment & Credit\\\\\n",
       "\\hline\n",
       "\t Critical Account    & radio/television    & >=7 years           & Good               \\\\\n",
       "\t Up To Date          & radio/television    & 1-4 years           & Bad                \\\\\n",
       "\t Critical Account    & education           & 4-7 years           & Good               \\\\\n",
       "\t Up To Date          & furniture/equipment & 4-7 years           & Good               \\\\\n",
       "\t Late Payment        & car(new)            & 1-4 years           & Bad                \\\\\n",
       "\t Up To Date          & education           & 1-4 years           & Good               \\\\\n",
       "\\end{tabular}\n"
      ],
      "text/markdown": [
       "\n",
       "CreditHistory | Purpose | Employment | Credit | \n",
       "|---|---|---|---|---|---|\n",
       "| Critical Account    | radio/television    | >=7 years           | Good                | \n",
       "| Up To Date          | radio/television    | 1-4 years           | Bad                 | \n",
       "| Critical Account    | education           | 4-7 years           | Good                | \n",
       "| Up To Date          | furniture/equipment | 4-7 years           | Good                | \n",
       "| Late Payment        | car(new)            | 1-4 years           | Bad                 | \n",
       "| Up To Date          | education           | 1-4 years           | Good                | \n",
       "\n",
       "\n"
      ],
      "text/plain": [
       "  CreditHistory    Purpose             Employment Credit\n",
       "1 Critical Account radio/television    >=7 years  Good  \n",
       "2 Up To Date       radio/television    1-4 years  Bad   \n",
       "3 Critical Account education           4-7 years  Good  \n",
       "4 Up To Date       furniture/equipment 4-7 years  Good  \n",
       "5 Late Payment     car(new)            1-4 years  Bad   \n",
       "6 Up To Date       education           1-4 years  Good  "
      ]
     },
     "metadata": {},
     "output_type": "display_data"
    }
   ],
   "source": [
    "# 변환한 이후\n",
    "\n",
    "head(credit[,c(\"CreditHistory\", \"Purpose\", \"Employment\", \"Credit\")])"
   ]
  },
  {
   "cell_type": "code",
   "execution_count": 44,
   "metadata": {},
   "outputs": [],
   "source": [
    "library(useful)"
   ]
  },
  {
   "cell_type": "markdown",
   "metadata": {},
   "source": [
    "- 변수들 간에 뚜렷한 선형 관계가 없기 때문에 GAM 방법이 적당할 수 있다."
   ]
  },
  {
   "cell_type": "code",
   "execution_count": 46,
   "metadata": {},
   "outputs": [
    {
     "data": {},
     "metadata": {},
     "output_type": "display_data"
    },
    {
     "data": {
      "image/png": "[encoded data removed]",
      "text/plain": [
       "plot without title"
      ]
     },
     "metadata": {},
     "output_type": "display_data"
    }
   ],
   "source": [
    "ggplot(credit, aes(x=CreditAmount, y=Credit))+\n",
    "geom_jitter(position = position_jitter(height = .2))+\n",
    "facet_grid(CreditHistory ~ Employment)+\n",
    "xlab(\"Credit Amount\")+\n",
    "theme(axis.text.x=element_text(angle=90, hjust=1, vjust=.5))+\n",
    "scale_x_continuous(labels=multiple)"
   ]
  },
  {
   "cell_type": "code",
   "execution_count": 47,
   "metadata": {},
   "outputs": [
    {
     "data": {},
     "metadata": {},
     "output_type": "display_data"
    },
    {
     "data": {
      "image/png": "[encoded data removed]",
      "text/plain": [
       "plot without title"
      ]
     },
     "metadata": {},
     "output_type": "display_data"
    }
   ],
   "source": [
    "ggplot(credit, aes(x=CreditAmount, y=Age))+\n",
    "geom_point(aes(color=Credit))+\n",
    "facet_grid(CreditHistory ~ Employment) +\n",
    "xlab(\"Credit Amount\")+\n",
    "theme(axis.text.x=element_text(angle=90, hjust=1, vjust=.5))+\n",
    "scale_x_continuous(labels=multiple)"
   ]
  },
  {
   "cell_type": "code",
   "execution_count": 48,
   "metadata": {},
   "outputs": [
    {
     "name": "stderr",
     "output_type": "stream",
     "text": [
      "Loading required package: nlme\n",
      "This is mgcv 1.8-22. For overview type 'help(\"mgcv-package\")'.\n"
     ]
    }
   ],
   "source": [
    "library(mgcv)"
   ]
  },
  {
   "cell_type": "code",
   "execution_count": 49,
   "metadata": {},
   "outputs": [],
   "source": [
    "creditGam <- gam(Credit ~ te(CreditAmount) + s(Age) + CreditHistory + Employment,\n",
    "                data=credit, family = binomial(link=\"logit\"))"
   ]
  },
  {
   "cell_type": "code",
   "execution_count": 50,
   "metadata": {},
   "outputs": [
    {
     "data": {
      "text/plain": [
       "\n",
       "Family: binomial \n",
       "Link function: logit \n",
       "\n",
       "Formula:\n",
       "Credit ~ te(CreditAmount) + s(Age) + CreditHistory + Employment\n",
       "\n",
       "Parametric coefficients:\n",
       "                                 Estimate Std. Error z value Pr(>|z|)    \n",
       "(Intercept)                      0.662840   0.372377   1.780  0.07507 .  \n",
       "CreditHistoryAll Paid This Bank  0.008412   0.453267   0.019  0.98519    \n",
       "CreditHistoryCritical Account   -1.809046   0.376326  -4.807 1.53e-06 ***\n",
       "CreditHistoryLate Payment       -1.136008   0.412776  -2.752  0.00592 ** \n",
       "CreditHistoryUp To Date         -1.104274   0.355208  -3.109  0.00188 ** \n",
       "Employment>=7 years             -0.388518   0.240343  -1.617  0.10598    \n",
       "Employment1-4 years             -0.380981   0.204292  -1.865  0.06220 .  \n",
       "Employment4-7 years             -0.820943   0.252069  -3.257  0.00113 ** \n",
       "Employmentunemployed            -0.092727   0.334975  -0.277  0.78192    \n",
       "---\n",
       "Signif. codes:  0 '***' 0.001 '**' 0.01 '*' 0.05 '.' 0.1 ' ' 1\n",
       "\n",
       "Approximate significance of smooth terms:\n",
       "                   edf Ref.df Chi.sq  p-value    \n",
       "te(CreditAmount) 2.415  2.783 20.896 7.26e-05 ***\n",
       "s(Age)           1.932  2.435  7.383   0.0495 *  \n",
       "---\n",
       "Signif. codes:  0 '***' 0.001 '**' 0.01 '*' 0.05 '.' 0.1 ' ' 1\n",
       "\n",
       "R-sq.(adj) =  0.0922   Deviance explained = 8.57%\n",
       "UBRE = 0.1437  Scale est. = 1         n = 1000"
      ]
     },
     "metadata": {},
     "output_type": "display_data"
    }
   ],
   "source": [
    "summary(creditGam)"
   ]
  },
  {
   "cell_type": "code",
   "execution_count": 51,
   "metadata": {},
   "outputs": [
    {
     "data": {
      "image/png": "[encoded data removed]",
      "text/plain": [
       "plot without title"
      ]
     },
     "metadata": {},
     "output_type": "display_data"
    }
   ],
   "source": [
    "plot(creditGam, select=1, se=TRUE, shade=TRUE)"
   ]
  },
  {
   "cell_type": "code",
   "execution_count": 52,
   "metadata": {},
   "outputs": [
    {
     "data": {
      "image/png": "[encoded data removed]",
      "text/plain": [
       "plot without title"
      ]
     },
     "metadata": {},
     "output_type": "display_data"
    }
   ],
   "source": [
    "plot(creditGam, select=2 , se = TRUE, shade=TRUE)"
   ]
  },
  {
   "cell_type": "markdown",
   "metadata": {},
   "source": [
    "## 4. 의사결정나무\n",
    "\n",
    "- 예측 변수를 재귀적인 방법으로 이분 하는 방식\n",
    "- 회귀와 분류에 모두 사용 가능하다\n",
    "- 해석하기 편리하고 데이터가 잘 적합된다\n",
    "- 분산이 큰 경우 과대 적합 때문에 불안정해지는 경향이 있다."
   ]
  },
  {
   "cell_type": "code",
   "execution_count": 53,
   "metadata": {},
   "outputs": [],
   "source": [
    "library(rpart)"
   ]
  },
  {
   "cell_type": "code",
   "execution_count": 54,
   "metadata": {},
   "outputs": [],
   "source": [
    "creditTree <- rpart(Credit ~ CreditAmount + Age + CreditHistory + Employment, data=credit)"
   ]
  },
  {
   "cell_type": "code",
   "execution_count": 55,
   "metadata": {},
   "outputs": [
    {
     "data": {
      "text/plain": [
       "n= 1000 \n",
       "\n",
       "node), split, n, loss, yval, (yprob)\n",
       "      * denotes terminal node\n",
       "\n",
       " 1) root 1000 300 Good (0.7000000 0.3000000)  \n",
       "   2) CreditHistory=Critical Account,Late Payment,Up To Date 911 247 Good (0.7288694 0.2711306)  \n",
       "     4) CreditAmount< 7760.5 846 211 Good (0.7505910 0.2494090) *\n",
       "     5) CreditAmount>=7760.5 65  29 Bad (0.4461538 0.5538462)  \n",
       "      10) Age>=29.5 40  17 Good (0.5750000 0.4250000)  \n",
       "        20) Age< 38.5 19   4 Good (0.7894737 0.2105263) *\n",
       "        21) Age>=38.5 21   8 Bad (0.3809524 0.6190476) *\n",
       "      11) Age< 29.5 25   6 Bad (0.2400000 0.7600000) *\n",
       "   3) CreditHistory=All Paid,All Paid This Bank 89  36 Bad (0.4044944 0.5955056) *"
      ]
     },
     "metadata": {},
     "output_type": "display_data"
    }
   ],
   "source": [
    "creditTree"
   ]
  },
  {
   "cell_type": "code",
   "execution_count": 57,
   "metadata": {},
   "outputs": [
    {
     "name": "stdout",
     "output_type": "stream",
     "text": [
      "package 'rpart.plot' successfully unpacked and MD5 sums checked\n",
      "\n",
      "The downloaded binary packages are in\n",
      "\tC:\\Users\\student\\AppData\\Local\\Temp\\RtmpiuElyv\\downloaded_packages\n"
     ]
    }
   ],
   "source": [
    "install.packages(\"rpart.plot\")\n",
    "library(rpart.plot)"
   ]
  },
  {
   "cell_type": "code",
   "execution_count": 58,
   "metadata": {},
   "outputs": [
    {
     "data": {
      "image/png": "[encoded data removed]",
      "text/plain": [
       "plot without title"
      ]
     },
     "metadata": {},
     "output_type": "display_data"
    }
   ],
   "source": [
    "rpart.plot(creditTree, extra=4)"
   ]
  },
  {
   "cell_type": "markdown",
   "metadata": {},
   "source": [
    "## 5. 부스팅 의사결정 나무\n",
    "\n",
    "- 하나의 모형을 연속적인 적합 과정을 거치면서 천천히 학습 시키는 것\n",
    "- 모형의 성능을 높이는 관찰값들의 가중 값은 낮추고, 성능을 높이지 못하는 관찰값들의 가중 값은 높이며 새로운 모형을 적합\n",
    "- 이러한 작은 모형들이 눚거돼 최종 모형이 완성된다.\n",
    "- gbm, xgboost가 최근 인기가 높다"
   ]
  },
  {
   "cell_type": "code",
   "execution_count": 59,
   "metadata": {},
   "outputs": [],
   "source": [
    "library(useful)"
   ]
  },
  {
   "cell_type": "code",
   "execution_count": 60,
   "metadata": {},
   "outputs": [],
   "source": [
    "creditFormula <- Credit ~ CreditHistory + Purpose + Employment + Duration + Age + CreditAmount - 1"
   ]
  },
  {
   "cell_type": "code",
   "execution_count": 61,
   "metadata": {},
   "outputs": [],
   "source": [
    "creditX <- build.x(creditFormula, data=credit, contrasts=FALSE)\n",
    "creditY <- build.y(creditFormula, data=credit)"
   ]
  },
  {
   "cell_type": "code",
   "execution_count": 62,
   "metadata": {},
   "outputs": [],
   "source": [
    "# 논리형 벡터를 [0, 1]로 변환한다.\n",
    "creditY <- as.integer(relevel(creditY, ref=\"Bad\")) -1"
   ]
  },
  {
   "cell_type": "code",
   "execution_count": 64,
   "metadata": {},
   "outputs": [
    {
     "name": "stdout",
     "output_type": "stream",
     "text": [
      "package 'xgboost' successfully unpacked and MD5 sums checked\n",
      "\n",
      "The downloaded binary packages are in\n",
      "\tC:\\Users\\student\\AppData\\Local\\Temp\\RtmpiuElyv\\downloaded_packages\n"
     ]
    }
   ],
   "source": [
    "install.packages(\"xgboost\")\n",
    "library(xgboost)"
   ]
  },
  {
   "cell_type": "code",
   "execution_count": 65,
   "metadata": {},
   "outputs": [
    {
     "name": "stdout",
     "output_type": "stream",
     "text": [
      "[1]\ttrain-error:0.261000 \n",
      "[2]\ttrain-error:0.262000 \n",
      "[3]\ttrain-error:0.255000 \n"
     ]
    }
   ],
   "source": [
    "creditBoost <- xgboost(data=creditX, label=creditY, max.depth = 3,\n",
    "                      eta=0.3 ,nthread = 4, nrounds = 3,\n",
    "                      objective = \"binary:logistic\")"
   ]
  },
  {
   "cell_type": "code",
   "execution_count": 66,
   "metadata": {},
   "outputs": [
    {
     "name": "stdout",
     "output_type": "stream",
     "text": [
      "[1]\ttrain-rmse:0.467158 \n",
      "[2]\ttrain-rmse:0.446695 \n",
      "[3]\ttrain-rmse:0.434690 \n",
      "[4]\ttrain-rmse:0.424613 \n",
      "[5]\ttrain-rmse:0.417114 \n",
      "[6]\ttrain-rmse:0.410563 \n",
      "[7]\ttrain-rmse:0.406409 \n",
      "[8]\ttrain-rmse:0.401726 \n",
      "[9]\ttrain-rmse:0.398777 \n",
      "[10]\ttrain-rmse:0.396587 \n",
      "[11]\ttrain-rmse:0.392195 \n",
      "[12]\ttrain-rmse:0.389924 \n",
      "[13]\ttrain-rmse:0.387823 \n",
      "[14]\ttrain-rmse:0.385771 \n",
      "[15]\ttrain-rmse:0.383437 \n",
      "[16]\ttrain-rmse:0.380933 \n",
      "[17]\ttrain-rmse:0.378997 \n",
      "[18]\ttrain-rmse:0.375154 \n",
      "[19]\ttrain-rmse:0.373332 \n",
      "[20]\ttrain-rmse:0.372074 \n"
     ]
    }
   ],
   "source": [
    "creditBoost20 <- xgboost(data=creditX, label=creditY, max.depth=3,\n",
    "                        eta=.3, nthread=4, nrounds =20,\n",
    "                        objectvie = \"binary:logistic\")"
   ]
  },
  {
   "cell_type": "markdown",
   "metadata": {},
   "source": [
    "- 변수 중요도 그림 생성"
   ]
  },
  {
   "cell_type": "code",
   "execution_count": 67,
   "metadata": {},
   "outputs": [
    {
     "data": {
      "image/png": "[encoded data removed]",
      "text/plain": [
       "plot without title"
      ]
     },
     "metadata": {},
     "output_type": "display_data"
    }
   ],
   "source": [
    "xgb.plot.importance(xgb.importance(creditBoost,\n",
    "                                  feature_names = colnames(creditX)))"
   ]
  },
  {
   "cell_type": "markdown",
   "metadata": {},
   "source": [
    "## 6. 랜덤 포레스트(Random Forest)\n",
    "\n",
    "- 여러 가지 모형들을 갖고 적합을 실행하고 더 강력한 예측을 하는 것\n",
    "- 예측 능력이 좋지만 추론이나 설명도는 종종 제한이 있다."
   ]
  },
  {
   "cell_type": "code",
   "execution_count": 68,
   "metadata": {},
   "outputs": [
    {
     "name": "stdout",
     "output_type": "stream",
     "text": [
      "package 'randomForest' successfully unpacked and MD5 sums checked\n",
      "\n",
      "The downloaded binary packages are in\n",
      "\tC:\\Users\\student\\AppData\\Local\\Temp\\RtmpiuElyv\\downloaded_packages\n"
     ]
    },
    {
     "name": "stderr",
     "output_type": "stream",
     "text": [
      "randomForest 4.6-12\n",
      "Type rfNews() to see new features/changes/bug fixes.\n",
      "\n",
      "Attaching package: 'randomForest'\n",
      "\n",
      "The following object is masked from 'package:ggplot2':\n",
      "\n",
      "    margin\n",
      "\n"
     ]
    }
   ],
   "source": [
    "install.packages(\"randomForest\")\n",
    "library(randomForest)"
   ]
  },
  {
   "cell_type": "code",
   "execution_count": 69,
   "metadata": {},
   "outputs": [],
   "source": [
    "creditFormula <- Credit ~ CreditHistory + Purpose + Employment + Duration + Age + CreditAmount - 1"
   ]
  },
  {
   "cell_type": "code",
   "execution_count": 70,
   "metadata": {},
   "outputs": [],
   "source": [
    "creditX <- build.x(creditFormula, data=credit, contrasts = F)\n",
    "creditY <- build.y(creditFormula, data=credit)"
   ]
  },
  {
   "cell_type": "code",
   "execution_count": 71,
   "metadata": {},
   "outputs": [
    {
     "data": {
      "text/plain": [
       "\n",
       "Call:\n",
       " randomForest(x = creditX, y = creditY) \n",
       "               Type of random forest: classification\n",
       "                     Number of trees: 500\n",
       "No. of variables tried at each split: 4\n",
       "\n",
       "        OOB estimate of  error rate: 27.5%\n",
       "Confusion matrix:\n",
       "     Good Bad class.error\n",
       "Good  646  54  0.07714286\n",
       "Bad   221  79  0.73666667"
      ]
     },
     "metadata": {},
     "output_type": "display_data"
    }
   ],
   "source": [
    "# 랜덤 포레스트 적합\n",
    "creditForest <- randomForest(x=creditX, y=creditY)\n",
    "creditForest"
   ]
  },
  {
   "cell_type": "code",
   "execution_count": 72,
   "metadata": {},
   "outputs": [],
   "source": [
    "# 응답 행렬\n",
    "\n",
    "creditY2 <- as.integer(relevel(creditY, ref=\"Bad\")) -1"
   ]
  },
  {
   "cell_type": "code",
   "execution_count": 73,
   "metadata": {},
   "outputs": [
    {
     "name": "stdout",
     "output_type": "stream",
     "text": [
      "[1]\ttrain-error:0.283000 \n",
      "[2]\ttrain-error:0.280000 \n",
      "[3]\ttrain-error:0.278000 \n"
     ]
    }
   ],
   "source": [
    "# 랜덤 포레스트 적합\n",
    "\n",
    "boostedForest <- xgboost(data=creditX, label=creditY2, max_depth=4,\n",
    "                        num_parallel_tree = 1000,\n",
    "                        subsample = 0.5 , colsample_bytree = 0.5,\n",
    "                        nrounds = 3, objective=\"binary:logistic\")"
   ]
  }
 ],
 "metadata": {
  "kernelspec": {
   "display_name": "R",
   "language": "R",
   "name": "ir"
  },
  "language_info": {
   "codemirror_mode": "r",
   "file_extension": ".r",
   "mimetype": "text/x-r-source",
   "name": "R",
   "pygments_lexer": "r",
   "version": "3.4.3"
  }
 },
 "nbformat": 4,
 "nbformat_minor": 2
}
