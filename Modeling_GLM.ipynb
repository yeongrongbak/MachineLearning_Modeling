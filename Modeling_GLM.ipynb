{
 "cells": [
  {
   "cell_type": "markdown",
   "metadata": {},
   "source": [
    "# 일반화 선형 모형"
   ]
  },
  {
   "cell_type": "markdown",
   "metadata": {},
   "source": [
    "## 1. 로지스틱 회귀"
   ]
  },
  {
   "cell_type": "code",
   "execution_count": 1,
   "metadata": {},
   "outputs": [],
   "source": [
    "acs <- read.table(\"http://jaredlander.com/data/acs_ny.csv\",\n",
    "                 sep=\",\", header=TRUE, stringsAsFactors=FALSE)"
   ]
  },
  {
   "cell_type": "markdown",
   "metadata": {},
   "source": [
    "- $150,000 보다 크면 TRUE, 작으면 FALSE"
   ]
  },
  {
   "cell_type": "code",
   "execution_count": 2,
   "metadata": {},
   "outputs": [],
   "source": [
    "acs$Income <- with(acs, FamilyIncome >= 150000)"
   ]
  },
  {
   "cell_type": "code",
   "execution_count": 4,
   "metadata": {},
   "outputs": [
    {
     "name": "stdout",
     "output_type": "stream",
     "text": [
      "package 'ggplot2' successfully unpacked and MD5 sums checked\n",
      "\n",
      "The downloaded binary packages are in\n",
      "\tC:\\Users\\student\\AppData\\Local\\Temp\\RtmpeKM52N\\downloaded_packages\n",
      "package 'useful' successfully unpacked and MD5 sums checked\n",
      "\n",
      "The downloaded binary packages are in\n",
      "\tC:\\Users\\student\\AppData\\Local\\Temp\\RtmpeKM52N\\downloaded_packages\n"
     ]
    }
   ],
   "source": [
    "install.packages(\"ggplot2\")\n",
    "install.packages(\"useful\")"
   ]
  },
  {
   "cell_type": "code",
   "execution_count": 5,
   "metadata": {},
   "outputs": [],
   "source": [
    "library(ggplot2)\n",
    "library(useful)"
   ]
  },
  {
   "cell_type": "markdown",
   "metadata": {},
   "source": [
    "- 가계 수입에 대한 밀도 곡선 (수직선은 $150,000 지점을 가리킨다)"
   ]
  },
  {
   "cell_type": "code",
   "execution_count": 7,
   "metadata": {},
   "outputs": [
    {
     "name": "stderr",
     "output_type": "stream",
     "text": [
      "Warning message:\n",
      "\"Removed 13 rows containing non-finite values (stat_density).\""
     ]
    },
    {
     "data": {},
     "metadata": {},
     "output_type": "display_data"
    },
    {
     "data": {
      "image/png": "[encoded data removed]",
      "text/plain": [
       "plot without title"
      ]
     },
     "metadata": {},
     "output_type": "display_data"
    }
   ],
   "source": [
    "ggplot(acs, aes(x=FamilyIncome))+\n",
    "geom_density(fill=\"grey\", color=\"grey\")+\n",
    "geom_vline(xintercept = 150000)+\n",
    "scale_x_continuous(labels = multiple.dollar, limits=c(0,1000000))"
   ]
  },
  {
   "cell_type": "code",
   "execution_count": 8,
   "metadata": {},
   "outputs": [
    {
     "data": {
      "text/html": [
       "<table>\n",
       "<thead><tr><th scope=col>Acres</th><th scope=col>FamilyIncome</th><th scope=col>FamilyType</th><th scope=col>NumBedrooms</th><th scope=col>NumChildren</th><th scope=col>NumPeople</th><th scope=col>NumRooms</th><th scope=col>NumUnits</th><th scope=col>NumVehicles</th><th scope=col>NumWorkers</th><th scope=col>OwnRent</th><th scope=col>YearBuilt</th><th scope=col>HouseCosts</th><th scope=col>ElectricBill</th><th scope=col>FoodStamp</th><th scope=col>HeatingFuel</th><th scope=col>Insurance</th><th scope=col>Language</th><th scope=col>Income</th></tr></thead>\n",
       "<tbody>\n",
       "\t<tr><td>1-10           </td><td>150            </td><td>Married        </td><td>4              </td><td>1              </td><td>3              </td><td>9              </td><td>Single detached</td><td>1              </td><td>0              </td><td>Mortgage       </td><td>1950-1959      </td><td>1800           </td><td> 90            </td><td>No             </td><td>Gas            </td><td>2500           </td><td>English        </td><td>FALSE          </td></tr>\n",
       "\t<tr><td>1-10           </td><td>180            </td><td>Female Head    </td><td>3              </td><td>2              </td><td>4              </td><td>6              </td><td>Single detached</td><td>2              </td><td>0              </td><td>Rented         </td><td>Before 1939    </td><td> 850           </td><td> 90            </td><td>No             </td><td>Oil            </td><td>   0           </td><td>English        </td><td>FALSE          </td></tr>\n",
       "\t<tr><td>1-10           </td><td>280            </td><td>Female Head    </td><td>4              </td><td>0              </td><td>2              </td><td>8              </td><td>Single detached</td><td>3              </td><td>1              </td><td>Mortgage       </td><td>2000-2004      </td><td>2600           </td><td>260            </td><td>No             </td><td>Oil            </td><td>6600           </td><td>Other European </td><td>FALSE          </td></tr>\n",
       "\t<tr><td>1-10           </td><td>330            </td><td>Female Head    </td><td>2              </td><td>1              </td><td>2              </td><td>4              </td><td>Single detached</td><td>1              </td><td>0              </td><td>Rented         </td><td>1950-1959      </td><td>1800           </td><td>140            </td><td>No             </td><td>Oil            </td><td>   0           </td><td>English        </td><td>FALSE          </td></tr>\n",
       "\t<tr><td>1-10           </td><td>330            </td><td>Male Head      </td><td>3              </td><td>1              </td><td>2              </td><td>5              </td><td>Single attached</td><td>1              </td><td>0              </td><td>Mortgage       </td><td>Before 1939    </td><td> 860           </td><td>150            </td><td>No             </td><td>Gas            </td><td> 660           </td><td>Spanish        </td><td>FALSE          </td></tr>\n",
       "\t<tr><td>1-10           </td><td>480            </td><td>Male Head      </td><td>0              </td><td>3              </td><td>4              </td><td>1              </td><td>Single detached</td><td>0              </td><td>0              </td><td>Rented         </td><td>Before 1939    </td><td> 700           </td><td>140            </td><td>No             </td><td>Gas            </td><td>   0           </td><td>English        </td><td>FALSE          </td></tr>\n",
       "</tbody>\n",
       "</table>\n"
      ],
      "text/latex": [
       "\\begin{tabular}{r|lllllllllllllllllll}\n",
       " Acres & FamilyIncome & FamilyType & NumBedrooms & NumChildren & NumPeople & NumRooms & NumUnits & NumVehicles & NumWorkers & OwnRent & YearBuilt & HouseCosts & ElectricBill & FoodStamp & HeatingFuel & Insurance & Language & Income\\\\\n",
       "\\hline\n",
       "\t 1-10            & 150             & Married         & 4               & 1               & 3               & 9               & Single detached & 1               & 0               & Mortgage        & 1950-1959       & 1800            &  90             & No              & Gas             & 2500            & English         & FALSE          \\\\\n",
       "\t 1-10            & 180             & Female Head     & 3               & 2               & 4               & 6               & Single detached & 2               & 0               & Rented          & Before 1939     &  850            &  90             & No              & Oil             &    0            & English         & FALSE          \\\\\n",
       "\t 1-10            & 280             & Female Head     & 4               & 0               & 2               & 8               & Single detached & 3               & 1               & Mortgage        & 2000-2004       & 2600            & 260             & No              & Oil             & 6600            & Other European  & FALSE          \\\\\n",
       "\t 1-10            & 330             & Female Head     & 2               & 1               & 2               & 4               & Single detached & 1               & 0               & Rented          & 1950-1959       & 1800            & 140             & No              & Oil             &    0            & English         & FALSE          \\\\\n",
       "\t 1-10            & 330             & Male Head       & 3               & 1               & 2               & 5               & Single attached & 1               & 0               & Mortgage        & Before 1939     &  860            & 150             & No              & Gas             &  660            & Spanish         & FALSE          \\\\\n",
       "\t 1-10            & 480             & Male Head       & 0               & 3               & 4               & 1               & Single detached & 0               & 0               & Rented          & Before 1939     &  700            & 140             & No              & Gas             &    0            & English         & FALSE          \\\\\n",
       "\\end{tabular}\n"
      ],
      "text/markdown": [
       "\n",
       "Acres | FamilyIncome | FamilyType | NumBedrooms | NumChildren | NumPeople | NumRooms | NumUnits | NumVehicles | NumWorkers | OwnRent | YearBuilt | HouseCosts | ElectricBill | FoodStamp | HeatingFuel | Insurance | Language | Income | \n",
       "|---|---|---|---|---|---|\n",
       "| 1-10            | 150             | Married         | 4               | 1               | 3               | 9               | Single detached | 1               | 0               | Mortgage        | 1950-1959       | 1800            |  90             | No              | Gas             | 2500            | English         | FALSE           | \n",
       "| 1-10            | 180             | Female Head     | 3               | 2               | 4               | 6               | Single detached | 2               | 0               | Rented          | Before 1939     |  850            |  90             | No              | Oil             |    0            | English         | FALSE           | \n",
       "| 1-10            | 280             | Female Head     | 4               | 0               | 2               | 8               | Single detached | 3               | 1               | Mortgage        | 2000-2004       | 2600            | 260             | No              | Oil             | 6600            | Other European  | FALSE           | \n",
       "| 1-10            | 330             | Female Head     | 2               | 1               | 2               | 4               | Single detached | 1               | 0               | Rented          | 1950-1959       | 1800            | 140             | No              | Oil             |    0            | English         | FALSE           | \n",
       "| 1-10            | 330             | Male Head       | 3               | 1               | 2               | 5               | Single attached | 1               | 0               | Mortgage        | Before 1939     |  860            | 150             | No              | Gas             |  660            | Spanish         | FALSE           | \n",
       "| 1-10            | 480             | Male Head       | 0               | 3               | 4               | 1               | Single detached | 0               | 0               | Rented          | Before 1939     |  700            | 140             | No              | Gas             |    0            | English         | FALSE           | \n",
       "\n",
       "\n"
      ],
      "text/plain": [
       "  Acres FamilyIncome FamilyType  NumBedrooms NumChildren NumPeople NumRooms\n",
       "1 1-10  150          Married     4           1           3         9       \n",
       "2 1-10  180          Female Head 3           2           4         6       \n",
       "3 1-10  280          Female Head 4           0           2         8       \n",
       "4 1-10  330          Female Head 2           1           2         4       \n",
       "5 1-10  330          Male Head   3           1           2         5       \n",
       "6 1-10  480          Male Head   0           3           4         1       \n",
       "  NumUnits        NumVehicles NumWorkers OwnRent  YearBuilt   HouseCosts\n",
       "1 Single detached 1           0          Mortgage 1950-1959   1800      \n",
       "2 Single detached 2           0          Rented   Before 1939  850      \n",
       "3 Single detached 3           1          Mortgage 2000-2004   2600      \n",
       "4 Single detached 1           0          Rented   1950-1959   1800      \n",
       "5 Single attached 1           0          Mortgage Before 1939  860      \n",
       "6 Single detached 0           0          Rented   Before 1939  700      \n",
       "  ElectricBill FoodStamp HeatingFuel Insurance Language       Income\n",
       "1  90          No        Gas         2500      English        FALSE \n",
       "2  90          No        Oil            0      English        FALSE \n",
       "3 260          No        Oil         6600      Other European FALSE \n",
       "4 140          No        Oil            0      English        FALSE \n",
       "5 150          No        Gas          660      Spanish        FALSE \n",
       "6 140          No        Gas            0      English        FALSE "
      ]
     },
     "metadata": {},
     "output_type": "display_data"
    }
   ],
   "source": [
    "head(acs)"
   ]
  },
  {
   "cell_type": "code",
   "execution_count": 9,
   "metadata": {},
   "outputs": [],
   "source": [
    "income1 <- glm(Income ~ HouseCosts + NumWorkers + OwnRent +\n",
    "              NumBedrooms + FamilyType,\n",
    "              data = acs, family = binomial(link=\"logit\"))"
   ]
  },
  {
   "cell_type": "code",
   "execution_count": 10,
   "metadata": {},
   "outputs": [
    {
     "data": {
      "text/plain": [
       "\n",
       "Call:\n",
       "glm(formula = Income ~ HouseCosts + NumWorkers + OwnRent + NumBedrooms + \n",
       "    FamilyType, family = binomial(link = \"logit\"), data = acs)\n",
       "\n",
       "Deviance Residuals: \n",
       "    Min       1Q   Median       3Q      Max  \n",
       "-2.8452  -0.6246  -0.4231  -0.1743   2.9503  \n",
       "\n",
       "Coefficients:\n",
       "                      Estimate Std. Error z value Pr(>|z|)    \n",
       "(Intercept)         -5.738e+00  1.185e-01 -48.421   <2e-16 ***\n",
       "HouseCosts           7.398e-04  1.724e-05  42.908   <2e-16 ***\n",
       "NumWorkers           5.611e-01  2.588e-02  21.684   <2e-16 ***\n",
       "OwnRentOutright      1.772e+00  2.075e-01   8.541   <2e-16 ***\n",
       "OwnRentRented       -8.886e-01  1.002e-01  -8.872   <2e-16 ***\n",
       "NumBedrooms          2.339e-01  1.683e-02  13.895   <2e-16 ***\n",
       "FamilyTypeMale Head  3.336e-01  1.472e-01   2.266   0.0235 *  \n",
       "FamilyTypeMarried    1.405e+00  8.704e-02  16.143   <2e-16 ***\n",
       "---\n",
       "Signif. codes:  0 '***' 0.001 '**' 0.01 '*' 0.05 '.' 0.1 ' ' 1\n",
       "\n",
       "(Dispersion parameter for binomial family taken to be 1)\n",
       "\n",
       "    Null deviance: 22808  on 22744  degrees of freedom\n",
       "Residual deviance: 18073  on 22737  degrees of freedom\n",
       "AIC: 18089\n",
       "\n",
       "Number of Fisher Scoring iterations: 6\n"
      ]
     },
     "metadata": {},
     "output_type": "display_data"
    }
   ],
   "source": [
    "summary(income1)"
   ]
  },
  {
   "cell_type": "code",
   "execution_count": 11,
   "metadata": {},
   "outputs": [],
   "source": [
    "library(coefplot)"
   ]
  },
  {
   "cell_type": "code",
   "execution_count": 12,
   "metadata": {},
   "outputs": [
    {
     "name": "stderr",
     "output_type": "stream",
     "text": [
      "Warning message:\n",
      "\"Ignoring unknown aesthetics: xmin, xmax\""
     ]
    },
    {
     "data": {},
     "metadata": {},
     "output_type": "display_data"
    },
    {
     "data": {
      "image/png": "[encoded data removed]",
      "text/plain": [
       "plot without title"
      ]
     },
     "metadata": {},
     "output_type": "display_data"
    }
   ],
   "source": [
    "coefplot(income1)"
   ]
  },
  {
   "cell_type": "markdown",
   "metadata": {},
   "source": [
    "## 2. 포아송 회귀\n",
    "\n",
    "- count data에 사용 된다\n",
    "- 다른 일반화 선형 모형과 같이 glm 함수를 호출해 실행"
   ]
  },
  {
   "cell_type": "markdown",
   "metadata": {},
   "source": [
    "- ACS 데이터의 자녀 수 (NumChildren)를 반응 변수로 사용"
   ]
  },
  {
   "cell_type": "code",
   "execution_count": 13,
   "metadata": {},
   "outputs": [
    {
     "data": {},
     "metadata": {},
     "output_type": "display_data"
    },
    {
     "data": {
      "image/png": "[encoded data removed]",
      "text/plain": [
       "plot without title"
      ]
     },
     "metadata": {},
     "output_type": "display_data"
    }
   ],
   "source": [
    "ggplot(acs, aes(x=NumChildren)) + geom_histogram(binwidth=1)"
   ]
  },
  {
   "cell_type": "code",
   "execution_count": 16,
   "metadata": {},
   "outputs": [],
   "source": [
    "children1 <- glm(NumChildren ~ FamilyIncome + FamilyType + OwnRent,\n",
    "               data = acs, family = poisson(link=\"log\"))"
   ]
  },
  {
   "cell_type": "code",
   "execution_count": 17,
   "metadata": {},
   "outputs": [
    {
     "data": {
      "text/plain": [
       "\n",
       "Call:\n",
       "glm(formula = NumChildren ~ FamilyIncome + FamilyType + OwnRent, \n",
       "    family = poisson(link = \"log\"), data = acs)\n",
       "\n",
       "Deviance Residuals: \n",
       "    Min       1Q   Median       3Q      Max  \n",
       "-1.9950  -1.3235  -1.2045   0.9464   6.3781  \n",
       "\n",
       "Coefficients:\n",
       "                      Estimate Std. Error z value Pr(>|z|)    \n",
       "(Intercept)         -3.257e-01  2.103e-02 -15.491  < 2e-16 ***\n",
       "FamilyIncome         5.420e-07  6.572e-08   8.247  < 2e-16 ***\n",
       "FamilyTypeMale Head -6.298e-02  3.847e-02  -1.637    0.102    \n",
       "FamilyTypeMarried    1.440e-01  2.147e-02   6.707 1.98e-11 ***\n",
       "OwnRentOutright     -1.974e+00  2.292e-01  -8.611  < 2e-16 ***\n",
       "OwnRentRented        4.086e-01  2.067e-02  19.773  < 2e-16 ***\n",
       "---\n",
       "Signif. codes:  0 '***' 0.001 '**' 0.01 '*' 0.05 '.' 0.1 ' ' 1\n",
       "\n",
       "(Dispersion parameter for poisson family taken to be 1)\n",
       "\n",
       "    Null deviance: 35240  on 22744  degrees of freedom\n",
       "Residual deviance: 34643  on 22739  degrees of freedom\n",
       "AIC: 61370\n",
       "\n",
       "Number of Fisher Scoring iterations: 5\n"
      ]
     },
     "metadata": {},
     "output_type": "display_data"
    }
   ],
   "source": [
    "summary(children1)"
   ]
  },
  {
   "cell_type": "code",
   "execution_count": 18,
   "metadata": {},
   "outputs": [
    {
     "name": "stderr",
     "output_type": "stream",
     "text": [
      "Warning message:\n",
      "\"Ignoring unknown aesthetics: xmin, xmax\""
     ]
    },
    {
     "data": {},
     "metadata": {},
     "output_type": "display_data"
    },
    {
     "data": {
      "image/png": "[encoded data removed]",
      "text/plain": [
       "plot without title"
      ]
     },
     "metadata": {},
     "output_type": "display_data"
    }
   ],
   "source": [
    "coefplot(children1)"
   ]
  },
  {
   "cell_type": "code",
   "execution_count": 19,
   "metadata": {},
   "outputs": [],
   "source": [
    "z <- (acs$NumChildren - children$fitted.values) / sqrt(children$fitted.values)"
   ]
  },
  {
   "cell_type": "code",
   "execution_count": 20,
   "metadata": {},
   "outputs": [
    {
     "data": {
      "text/html": [
       "1.46974703798721"
      ],
      "text/latex": [
       "1.46974703798721"
      ],
      "text/markdown": [
       "1.46974703798721"
      ],
      "text/plain": [
       "[1] 1.469747"
      ]
     },
     "metadata": {},
     "output_type": "display_data"
    }
   ],
   "source": [
    "sum(z^2) / children$df.residual"
   ]
  },
  {
   "cell_type": "code",
   "execution_count": 21,
   "metadata": {},
   "outputs": [
    {
     "data": {
      "text/html": [
       "1"
      ],
      "text/latex": [
       "1"
      ],
      "text/markdown": [
       "1"
      ],
      "text/plain": [
       "[1] 1"
      ]
     },
     "metadata": {},
     "output_type": "display_data"
    }
   ],
   "source": [
    "pchisq(sum(z^2), children1$df.residual)"
   ]
  },
  {
   "cell_type": "code",
   "execution_count": 22,
   "metadata": {},
   "outputs": [],
   "source": [
    "children2 <- glm(NumChildren ~ FamilyIncome + FamilyType + OwnRent,\n",
    "                data = acs, family = quasipoisson(link=\"log\"))"
   ]
  },
  {
   "cell_type": "code",
   "execution_count": 23,
   "metadata": {},
   "outputs": [
    {
     "name": "stderr",
     "output_type": "stream",
     "text": [
      "Warning message:\n",
      "\"Ignoring unknown aesthetics: xmin, xmax\""
     ]
    },
    {
     "data": {},
     "metadata": {},
     "output_type": "display_data"
    },
    {
     "data": {
      "image/png": "[encoded data removed]",
      "text/plain": [
       "plot without title"
      ]
     },
     "metadata": {},
     "output_type": "display_data"
    }
   ],
   "source": [
    "multiplot(children1, children2)"
   ]
  }
 ],
 "metadata": {
  "kernelspec": {
   "display_name": "R",
   "language": "R",
   "name": "ir"
  },
  "language_info": {
   "codemirror_mode": "r",
   "file_extension": ".r",
   "mimetype": "text/x-r-source",
   "name": "R",
   "pygments_lexer": "r",
   "version": "3.4.3"
  }
 },
 "nbformat": 4,
 "nbformat_minor": 2
}
