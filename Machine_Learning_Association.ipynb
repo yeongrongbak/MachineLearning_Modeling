{
 "cells": [
  {
   "cell_type": "markdown",
   "metadata": {},
   "source": [
    "# Association Rule"
   ]
  },
  {
   "cell_type": "markdown",
   "metadata": {},
   "source": [
    "## 연관성 규칙에서 사용되는 측도 정의\n",
    "\n",
    "- 지지도(Support) : 전체 거래 건수 중 항목 X, Y가 동시에 포함된 거래의 건수\n",
    "- 신뢰도(Confidence) : 항목 X를 포함하는 거래 중 항목 Y가 동시에 포함된 거래의 건수\n",
    "- 향상도(Lift) : 항목 X가 주어지지 않았을 때 Y의 확률 대비 항목 X가 주어졌을 때 Y의 확률 증가 비율"
   ]
  },
  {
   "cell_type": "code",
   "execution_count": 1,
   "metadata": {
    "scrolled": true
   },
   "outputs": [
    {
     "name": "stdout",
     "output_type": "stream",
     "text": [
      "package 'arules' successfully unpacked and MD5 sums checked\n",
      "\n",
      "The downloaded binary packages are in\n",
      "\tC:\\Users\\student\\AppData\\Local\\Temp\\RtmpK0Kgbr\\downloaded_packages\n"
     ]
    },
    {
     "name": "stderr",
     "output_type": "stream",
     "text": [
      "Loading required package: Matrix\n",
      "\n",
      "Attaching package: 'arules'\n",
      "\n",
      "The following objects are masked from 'package:base':\n",
      "\n",
      "    abbreviate, write\n",
      "\n"
     ]
    }
   ],
   "source": [
    "install.packages(\"arules\")\n",
    "library(arules)"
   ]
  },
  {
   "cell_type": "code",
   "execution_count": 2,
   "metadata": {},
   "outputs": [],
   "source": [
    "data(Groceries)"
   ]
  },
  {
   "cell_type": "markdown",
   "metadata": {},
   "source": [
    "### Data structure 파악\n",
    "\n",
    "    - i : 개별 아이템의 index number\n",
    "    - p : 아이템 그룹에서 첫 번째 아이템의 순서 number\n",
    "    - Dim : 전체 차원\n",
    "    - labels : item name\n",
    "    - level2 : 상품 소분류\n",
    "    - level1 : 상품 대분류"
   ]
  },
  {
   "cell_type": "code",
   "execution_count": 3,
   "metadata": {},
   "outputs": [
    {
     "name": "stdout",
     "output_type": "stream",
     "text": [
      "Formal class 'transactions' [package \"arules\"] with 3 slots\n",
      "  ..@ data       :Formal class 'ngCMatrix' [package \"Matrix\"] with 5 slots\n",
      "  .. .. ..@ i       : int [1:43367] 13 60 69 78 14 29 98 24 15 29 ...\n",
      "  .. .. ..@ p       : int [1:9836] 0 4 7 8 12 16 21 22 27 28 ...\n",
      "  .. .. ..@ Dim     : int [1:2] 169 9835\n",
      "  .. .. ..@ Dimnames:List of 2\n",
      "  .. .. .. ..$ : NULL\n",
      "  .. .. .. ..$ : NULL\n",
      "  .. .. ..@ factors : list()\n",
      "  ..@ itemInfo   :'data.frame':\t169 obs. of  3 variables:\n",
      "  .. ..$ labels: chr [1:169] \"frankfurter\" \"sausage\" \"liver loaf\" \"ham\" ...\n",
      "  .. ..$ level2: Factor w/ 55 levels \"baby food\",\"bags\",..: 44 44 44 44 44 44 44 42 42 41 ...\n",
      "  .. ..$ level1: Factor w/ 10 levels \"canned food\",..: 6 6 6 6 6 6 6 6 6 6 ...\n",
      "  ..@ itemsetInfo:'data.frame':\t0 obs. of  0 variables\n"
     ]
    }
   ],
   "source": [
    "str(Groceries)"
   ]
  },
  {
   "cell_type": "code",
   "execution_count": 5,
   "metadata": {},
   "outputs": [
    {
     "data": {
      "text/plain": [
       "\n",
       "   0    1    2    3    4    5    6    7    8    9   10   11   12   13   14   15 \n",
       " 580  924   50  256  254   64   22  422   80  567  516  327   29  814 1032  744 \n",
       "  16   17   18   19   20   21   22   23   24   25   26   27   28   29   30   31 \n",
       " 220  327   33 1072  305  160 1903  128 2513  545  524  365  275 1372  705  256 \n",
       "  32   33   34   35   36   37   38   39   40   41   42   43   44   45   46   47 \n",
       " 329  101   13  168  241  241  390  163  110   50   84   90    8   23  473   12 \n",
       "  48   49   50   51   52   53   54   55   56   57   58   59   60   61   62   63 \n",
       " 279  115    6  246  106   83  624 1809  414  638  875  101  174   68   28  171 \n",
       "  64   65   66   67   68   69   70   71   72   73   74   75   76   77   78   79 \n",
       " 106   75  148   64  276  576   36  333   32   15  118   42   51   67   18   79 \n",
       "  80   81   82   83   84   85   86   87   88   89   90   91   92   93   94   95 \n",
       "  54   56   16  174    2   23  106   32  176   17   53   89   42  148   84  229 \n",
       "  96   97   98   99  100  101  102  103  104  105  106  107  108  109  110  111 \n",
       "  93    1  571   73   38   22 1087 1715  279  711   32  792  764   41    8  109 \n",
       " 112  113  114  115  116  117  118  119  120  121  122  123  124  125  126  127 \n",
       "  44    9   78  187  189   20   55  372   71   31   30  368  378  130  207  488 \n",
       " 128  129  130  131  132  133  134  135  136  137  138  139  140  141  142  143 \n",
       "  25  299  269   89  294  140  189   54   15  103   35   50    7   27   11   57 \n",
       " 144  145  146  147  148  149  150  151  152  153  154  155  156  157  158  159 \n",
       "  45    8   35   60    6   26   10  324  515  173   27    4  112   59   82   88 \n",
       " 160  161  162  163  164  165  166  167  168 \n",
       "  41    1  785   91  170   19  102  969    4 "
      ]
     },
     "metadata": {},
     "output_type": "display_data"
    }
   ],
   "source": [
    "table(Groceries@data@i)"
   ]
  },
  {
   "cell_type": "code",
   "execution_count": 7,
   "metadata": {},
   "outputs": [
    {
     "data": {
      "text/plain": [
       "\n",
       " 169 9835 \n",
       "   1    1 "
      ]
     },
     "metadata": {},
     "output_type": "display_data"
    }
   ],
   "source": [
    "table(Groceries@data@Dim)"
   ]
  },
  {
   "cell_type": "code",
   "execution_count": 8,
   "metadata": {},
   "outputs": [
    {
     "data": {
      "text/html": [
       "<table>\n",
       "<thead><tr><th scope=col>labels</th><th scope=col>level2</th><th scope=col>level1</th></tr></thead>\n",
       "<tbody>\n",
       "\t<tr><td>frankfurter      </td><td>sausage          </td><td>meat and sausage </td></tr>\n",
       "\t<tr><td>sausage          </td><td>sausage          </td><td>meat and sausage </td></tr>\n",
       "\t<tr><td>liver loaf       </td><td>sausage          </td><td>meat and sausage </td></tr>\n",
       "\t<tr><td>ham              </td><td>sausage          </td><td>meat and sausage </td></tr>\n",
       "\t<tr><td>meat             </td><td>sausage          </td><td>meat and sausage </td></tr>\n",
       "\t<tr><td>finished products</td><td>sausage          </td><td>meat and sausage </td></tr>\n",
       "</tbody>\n",
       "</table>\n"
      ],
      "text/latex": [
       "\\begin{tabular}{r|lll}\n",
       " labels & level2 & level1\\\\\n",
       "\\hline\n",
       "\t frankfurter       & sausage           & meat and sausage \\\\\n",
       "\t sausage           & sausage           & meat and sausage \\\\\n",
       "\t liver loaf        & sausage           & meat and sausage \\\\\n",
       "\t ham               & sausage           & meat and sausage \\\\\n",
       "\t meat              & sausage           & meat and sausage \\\\\n",
       "\t finished products & sausage           & meat and sausage \\\\\n",
       "\\end{tabular}\n"
      ],
      "text/markdown": [
       "\n",
       "labels | level2 | level1 | \n",
       "|---|---|---|---|---|---|\n",
       "| frankfurter       | sausage           | meat and sausage  | \n",
       "| sausage           | sausage           | meat and sausage  | \n",
       "| liver loaf        | sausage           | meat and sausage  | \n",
       "| ham               | sausage           | meat and sausage  | \n",
       "| meat              | sausage           | meat and sausage  | \n",
       "| finished products | sausage           | meat and sausage  | \n",
       "\n",
       "\n"
      ],
      "text/plain": [
       "  labels            level2  level1          \n",
       "1 frankfurter       sausage meat and sausage\n",
       "2 sausage           sausage meat and sausage\n",
       "3 liver loaf        sausage meat and sausage\n",
       "4 ham               sausage meat and sausage\n",
       "5 meat              sausage meat and sausage\n",
       "6 finished products sausage meat and sausage"
      ]
     },
     "metadata": {},
     "output_type": "display_data"
    }
   ],
   "source": [
    "head(Groceries@itemInfo)"
   ]
  },
  {
   "cell_type": "code",
   "execution_count": 9,
   "metadata": {},
   "outputs": [
    {
     "data": {
      "text/plain": [
       "transactions as itemMatrix in sparse format with\n",
       " 9835 rows (elements/itemsets/transactions) and\n",
       " 169 columns (items) and a density of 0.02609146 \n",
       "\n",
       "most frequent items:\n",
       "      whole milk other vegetables       rolls/buns             soda \n",
       "            2513             1903             1809             1715 \n",
       "          yogurt          (Other) \n",
       "            1372            34055 \n",
       "\n",
       "element (itemset/transaction) length distribution:\n",
       "sizes\n",
       "   1    2    3    4    5    6    7    8    9   10   11   12   13   14   15   16 \n",
       "2159 1643 1299 1005  855  645  545  438  350  246  182  117   78   77   55   46 \n",
       "  17   18   19   20   21   22   23   24   26   27   28   29   32 \n",
       "  29   14   14    9   11    4    6    1    1    1    1    3    1 \n",
       "\n",
       "   Min. 1st Qu.  Median    Mean 3rd Qu.    Max. \n",
       "  1.000   2.000   3.000   4.409   6.000  32.000 \n",
       "\n",
       "includes extended item information - examples:\n",
       "       labels  level2           level1\n",
       "1 frankfurter sausage meat and sausage\n",
       "2     sausage sausage meat and sausage\n",
       "3  liver loaf sausage meat and sausage"
      ]
     },
     "metadata": {},
     "output_type": "display_data"
    }
   ],
   "source": [
    "summary(Groceries)"
   ]
  },
  {
   "cell_type": "markdown",
   "metadata": {},
   "source": [
    "### inspect로 세부 항목 에 대한 정보 추출"
   ]
  },
  {
   "cell_type": "code",
   "execution_count": 10,
   "metadata": {},
   "outputs": [
    {
     "name": "stdout",
     "output_type": "stream",
     "text": [
      "    items                     \n",
      "[1] {citrus fruit,            \n",
      "     semi-finished bread,     \n",
      "     margarine,               \n",
      "     ready soups}             \n",
      "[2] {tropical fruit,          \n",
      "     yogurt,                  \n",
      "     coffee}                  \n",
      "[3] {whole milk}              \n",
      "[4] {pip fruit,               \n",
      "     yogurt,                  \n",
      "     cream cheese ,           \n",
      "     meat spreads}            \n",
      "[5] {other vegetables,        \n",
      "     whole milk,              \n",
      "     condensed milk,          \n",
      "     long life bakery product}\n",
      "[6] {whole milk,              \n",
      "     butter,                  \n",
      "     yogurt,                  \n",
      "     rice,                    \n",
      "     abrasive cleaner}        \n"
     ]
    }
   ],
   "source": [
    "inspect(head(Groceries))"
   ]
  },
  {
   "cell_type": "markdown",
   "metadata": {},
   "source": [
    "### apriori function 적용"
   ]
  },
  {
   "cell_type": "code",
   "execution_count": 14,
   "metadata": {
    "scrolled": false
   },
   "outputs": [
    {
     "name": "stdout",
     "output_type": "stream",
     "text": [
      "Apriori\n",
      "\n",
      "Parameter specification:\n",
      " confidence minval smax arem  aval originalSupport maxtime support minlen\n",
      "        0.3    0.1    1 none FALSE            TRUE       5    0.01      1\n",
      " maxlen target   ext\n",
      "     10  rules FALSE\n",
      "\n",
      "Algorithmic control:\n",
      " filter tree heap memopt load sort verbose\n",
      "    0.1 TRUE TRUE  FALSE TRUE    2    TRUE\n",
      "\n",
      "Absolute minimum support count: 98 \n",
      "\n",
      "set item appearances ...[0 item(s)] done [0.00s].\n",
      "set transactions ...[169 item(s), 9835 transaction(s)] done [0.00s].\n",
      "sorting and recoding items ... [88 item(s)] done [0.00s].\n",
      "creating transaction tree ... done [0.00s].\n",
      "checking subsets of size 1 2 3 4 done [0.00s].\n",
      "writing ... [125 rule(s)] done [0.00s].\n",
      "creating S4 object  ... done [0.00s].\n"
     ]
    }
   ],
   "source": [
    "G_arules <- apriori(Groceries, parameter=list(support=0.01, confidence=0.3))"
   ]
  },
  {
   "cell_type": "markdown",
   "metadata": {},
   "source": [
    "-> 125개의 rule이 나왔음을 알 수 있음"
   ]
  },
  {
   "cell_type": "code",
   "execution_count": 15,
   "metadata": {},
   "outputs": [
    {
     "data": {
      "text/plain": [
       "set of 125 rules\n",
       "\n",
       "rule length distribution (lhs + rhs):sizes\n",
       " 2  3 \n",
       "69 56 \n",
       "\n",
       "   Min. 1st Qu.  Median    Mean 3rd Qu.    Max. \n",
       "  2.000   2.000   2.000   2.448   3.000   3.000 \n",
       "\n",
       "summary of quality measures:\n",
       "    support          confidence          lift      \n",
       " Min.   :0.01007   Min.   :0.3079   Min.   :1.205  \n",
       " 1st Qu.:0.01149   1st Qu.:0.3454   1st Qu.:1.608  \n",
       " Median :0.01454   Median :0.3978   Median :1.789  \n",
       " Mean   :0.01859   Mean   :0.4058   Mean   :1.906  \n",
       " 3rd Qu.:0.02217   3rd Qu.:0.4496   3rd Qu.:2.155  \n",
       " Max.   :0.07483   Max.   :0.5862   Max.   :3.295  \n",
       "\n",
       "mining info:\n",
       "      data ntransactions support confidence\n",
       " Groceries          9835    0.01        0.3"
      ]
     },
     "metadata": {},
     "output_type": "display_data"
    }
   ],
   "source": [
    "summary(G_arules)"
   ]
  },
  {
   "cell_type": "code",
   "execution_count": 16,
   "metadata": {},
   "outputs": [
    {
     "name": "stdout",
     "output_type": "stream",
     "text": [
      "Formal class 'rules' [package \"arules\"] with 4 slots\n",
      "  ..@ lhs    :Formal class 'itemMatrix' [package \"arules\"] with 3 slots\n",
      "  .. .. ..@ data       :Formal class 'ngCMatrix' [package \"Matrix\"] with 5 slots\n",
      "  .. .. .. .. ..@ i       : int [1:181] 37 28 28 3 36 68 20 20 17 17 ...\n",
      "  .. .. .. .. ..@ p       : int [1:126] 0 1 2 3 4 5 6 7 8 9 ...\n",
      "  .. .. .. .. ..@ Dim     : int [1:2] 169 125\n",
      "  .. .. .. .. ..@ Dimnames:List of 2\n",
      "  .. .. .. .. .. ..$ : NULL\n",
      "  .. .. .. .. .. ..$ : NULL\n",
      "  .. .. .. .. ..@ factors : list()\n",
      "  .. .. ..@ itemInfo   :'data.frame':\t169 obs. of  3 variables:\n",
      "  .. .. .. ..$ labels: chr [1:169] \"frankfurter\" \"sausage\" \"liver loaf\" \"ham\" ...\n",
      "  .. .. .. ..$ level2: Factor w/ 55 levels \"baby food\",\"bags\",..: 44 44 44 44 44 44 44 42 42 41 ...\n",
      "  .. .. .. ..$ level1: Factor w/ 10 levels \"canned food\",..: 6 6 6 6 6 6 6 6 6 6 ...\n",
      "  .. .. ..@ itemsetInfo:'data.frame':\t0 obs. of  0 variables\n",
      "  ..@ rhs    :Formal class 'itemMatrix' [package \"arules\"] with 3 slots\n",
      "  .. .. ..@ data       :Formal class 'ngCMatrix' [package \"Matrix\"] with 5 slots\n",
      "  .. .. .. .. ..@ i       : int [1:125] 24 22 24 24 24 24 22 24 29 22 ...\n",
      "  .. .. .. .. ..@ p       : int [1:126] 0 1 2 3 4 5 6 7 8 9 ...\n",
      "  .. .. .. .. ..@ Dim     : int [1:2] 169 125\n",
      "  .. .. .. .. ..@ Dimnames:List of 2\n",
      "  .. .. .. .. .. ..$ : NULL\n",
      "  .. .. .. .. .. ..$ : NULL\n",
      "  .. .. .. .. ..@ factors : list()\n",
      "  .. .. ..@ itemInfo   :'data.frame':\t169 obs. of  3 variables:\n",
      "  .. .. .. ..$ labels: chr [1:169] \"frankfurter\" \"sausage\" \"liver loaf\" \"ham\" ...\n",
      "  .. .. .. ..$ level2: Factor w/ 55 levels \"baby food\",\"bags\",..: 44 44 44 44 44 44 44 42 42 41 ...\n",
      "  .. .. .. ..$ level1: Factor w/ 10 levels \"canned food\",..: 6 6 6 6 6 6 6 6 6 6 ...\n",
      "  .. .. ..@ itemsetInfo:'data.frame':\t0 obs. of  0 variables\n",
      "  ..@ quality:'data.frame':\t125 obs. of  3 variables:\n",
      "  .. ..$ support   : num [1:125] 0.0101 0.0104 0.0116 0.0115 0.0108 ...\n",
      "  .. ..$ confidence: num [1:125] 0.411 0.371 0.415 0.441 0.44 ...\n",
      "  .. ..$ lift      : num [1:125] 1.61 1.92 1.62 1.73 1.72 ...\n",
      "  ..@ info   :List of 4\n",
      "  .. ..$ data         : symbol Groceries\n",
      "  .. ..$ ntransactions: int 9835\n",
      "  .. ..$ support      : num 0.01\n",
      "  .. ..$ confidence   : num 0.3\n"
     ]
    }
   ],
   "source": [
    "str(G_arules)"
   ]
  },
  {
   "cell_type": "code",
   "execution_count": 17,
   "metadata": {},
   "outputs": [
    {
     "name": "stdout",
     "output_type": "stream",
     "text": [
      "    lhs                rhs                support    confidence lift    \n",
      "[1] {hard cheese}   => {whole milk}       0.01006609 0.4107884  1.607682\n",
      "[2] {butter milk}   => {other vegetables} 0.01037112 0.3709091  1.916916\n",
      "[3] {butter milk}   => {whole milk}       0.01159126 0.4145455  1.622385\n",
      "[4] {ham}           => {whole milk}       0.01148958 0.4414062  1.727509\n",
      "[5] {sliced cheese} => {whole milk}       0.01077783 0.4398340  1.721356\n",
      "[6] {oil}           => {whole milk}       0.01128622 0.4021739  1.573968\n"
     ]
    }
   ],
   "source": [
    "inspect(head(G_arules))"
   ]
  },
  {
   "cell_type": "code",
   "execution_count": 18,
   "metadata": {
    "scrolled": true
   },
   "outputs": [
    {
     "data": {
      "text/plain": [
       "   Min. 1st Qu.  Median    Mean 3rd Qu.    Max. \n",
       "  1.205   1.608   1.789   1.906   2.155   3.295 "
      ]
     },
     "metadata": {},
     "output_type": "display_data"
    }
   ],
   "source": [
    "summary(G_arules@quality$lift)"
   ]
  },
  {
   "cell_type": "markdown",
   "metadata": {},
   "source": [
    "- ##  Filtering the rules"
   ]
  },
  {
   "cell_type": "markdown",
   "metadata": {},
   "source": [
    "#### right hand side 가 \"yogurt\"이고 lift가 2 이상인 subset을 추출 : 9 rules"
   ]
  },
  {
   "cell_type": "code",
   "execution_count": 19,
   "metadata": {},
   "outputs": [
    {
     "data": {
      "text/plain": [
       "set of 9 rules "
      ]
     },
     "metadata": {},
     "output_type": "display_data"
    }
   ],
   "source": [
    "(G_arules_yogurt <- subset(G_arules, subset = rhs %in% \"yogurt\" & lift > 2))"
   ]
  },
  {
   "cell_type": "code",
   "execution_count": 20,
   "metadata": {},
   "outputs": [
    {
     "name": "stdout",
     "output_type": "stream",
     "text": [
      "    lhs                                      rhs      support    confidence\n",
      "[1] {berries}                             => {yogurt} 0.01057448 0.3180428 \n",
      "[2] {cream cheese }                       => {yogurt} 0.01240468 0.3128205 \n",
      "[3] {curd}                                => {yogurt} 0.01728521 0.3244275 \n",
      "[4] {whole milk,curd}                     => {yogurt} 0.01006609 0.3852140 \n",
      "[5] {other vegetables,whipped/sour cream} => {yogurt} 0.01016777 0.3521127 \n",
      "[6] {whole milk,whipped/sour cream}       => {yogurt} 0.01087951 0.3375394 \n",
      "[7] {citrus fruit,whole milk}             => {yogurt} 0.01026945 0.3366667 \n",
      "[8] {tropical fruit,other vegetables}     => {yogurt} 0.01230300 0.3427762 \n",
      "[9] {tropical fruit,whole milk}           => {yogurt} 0.01514997 0.3581731 \n",
      "    lift    \n",
      "[1] 2.279848\n",
      "[2] 2.242412\n",
      "[3] 2.325615\n",
      "[4] 2.761356\n",
      "[5] 2.524073\n",
      "[6] 2.419607\n",
      "[7] 2.413350\n",
      "[8] 2.457146\n",
      "[9] 2.567516\n"
     ]
    }
   ],
   "source": [
    "inspect(G_arules_yogurt)"
   ]
  },
  {
   "cell_type": "code",
   "execution_count": 21,
   "metadata": {},
   "outputs": [
    {
     "name": "stdout",
     "output_type": "stream",
     "text": [
      "    items                                \n",
      "[1] {berries}                            \n",
      "[2] {cream cheese }                      \n",
      "[3] {curd}                               \n",
      "[4] {whole milk,curd}                    \n",
      "[5] {other vegetables,whipped/sour cream}\n",
      "[6] {whole milk,whipped/sour cream}      \n",
      "[7] {citrus fruit,whole milk}            \n",
      "[8] {tropical fruit,other vegetables}    \n",
      "[9] {tropical fruit,whole milk}          \n"
     ]
    }
   ],
   "source": [
    "inspect(G_arules_yogurt@lhs)"
   ]
  },
  {
   "cell_type": "markdown",
   "metadata": {},
   "source": [
    "* ## ArulesViz"
   ]
  },
  {
   "cell_type": "markdown",
   "metadata": {},
   "source": [
    "    - 125개의 모든 rule에 대해서 일일히 파악하기 어려움\n",
    "    - ArulesViz를 활용해 시각화"
   ]
  },
  {
   "cell_type": "code",
   "execution_count": 22,
   "metadata": {},
   "outputs": [
    {
     "name": "stderr",
     "output_type": "stream",
     "text": [
      "also installing the dependencies 'modeltools', 'mclust', 'flexmix', 'prabclus', 'diptest', 'mvtnorm', 'trimcluster', 'gridExtra', 'bitops', 'fpc', 'viridis', 'gtools', 'gdata', 'caTools', 'lmtest', 'TSP', 'qap', 'gclus', 'dendextend', 'gplots', 'registry', 'irlba', 'crosstalk', 'scatterplot3d', 'vcd', 'seriation', 'igraph', 'DT', 'plotly'\n",
      "\n"
     ]
    },
    {
     "name": "stdout",
     "output_type": "stream",
     "text": [
      "package 'modeltools' successfully unpacked and MD5 sums checked\n",
      "package 'mclust' successfully unpacked and MD5 sums checked\n"
     ]
    },
    {
     "name": "stderr",
     "output_type": "stream",
     "text": [
      "Warning message:\n",
      "\"unable to move temporary installation 'C:\\Users\\student\\Anaconda3\\Lib\\R\\library\\file58c693c2938\\mclust' to 'C:\\Users\\student\\Anaconda3\\Lib\\R\\library\\mclust'\""
     ]
    },
    {
     "name": "stdout",
     "output_type": "stream",
     "text": [
      "package 'flexmix' successfully unpacked and MD5 sums checked\n",
      "package 'prabclus' successfully unpacked and MD5 sums checked\n",
      "package 'diptest' successfully unpacked and MD5 sums checked\n",
      "package 'mvtnorm' successfully unpacked and MD5 sums checked\n",
      "package 'trimcluster' successfully unpacked and MD5 sums checked\n",
      "package 'gridExtra' successfully unpacked and MD5 sums checked\n",
      "package 'bitops' successfully unpacked and MD5 sums checked\n",
      "package 'fpc' successfully unpacked and MD5 sums checked\n",
      "package 'viridis' successfully unpacked and MD5 sums checked\n",
      "package 'gtools' successfully unpacked and MD5 sums checked\n",
      "package 'gdata' successfully unpacked and MD5 sums checked\n",
      "package 'caTools' successfully unpacked and MD5 sums checked\n",
      "package 'lmtest' successfully unpacked and MD5 sums checked\n",
      "package 'TSP' successfully unpacked and MD5 sums checked\n",
      "package 'qap' successfully unpacked and MD5 sums checked\n",
      "package 'gclus' successfully unpacked and MD5 sums checked\n",
      "package 'dendextend' successfully unpacked and MD5 sums checked\n",
      "package 'gplots' successfully unpacked and MD5 sums checked\n",
      "package 'registry' successfully unpacked and MD5 sums checked\n",
      "package 'irlba' successfully unpacked and MD5 sums checked\n",
      "package 'crosstalk' successfully unpacked and MD5 sums checked\n",
      "package 'scatterplot3d' successfully unpacked and MD5 sums checked\n",
      "package 'vcd' successfully unpacked and MD5 sums checked\n",
      "package 'seriation' successfully unpacked and MD5 sums checked\n",
      "package 'igraph' successfully unpacked and MD5 sums checked\n",
      "package 'DT' successfully unpacked and MD5 sums checked\n",
      "package 'plotly' successfully unpacked and MD5 sums checked\n",
      "package 'arulesViz' successfully unpacked and MD5 sums checked\n",
      "\n",
      "The downloaded binary packages are in\n",
      "\tC:\\Users\\student\\AppData\\Local\\Temp\\RtmpK0Kgbr\\downloaded_packages\n"
     ]
    },
    {
     "name": "stderr",
     "output_type": "stream",
     "text": [
      "Loading required package: grid\n"
     ]
    },
    {
     "ename": "ERROR",
     "evalue": "Error: package or namespace load failed for 'arulesViz' in loadNamespace(i, c(lib.loc, .libPaths()), versionCheck = vI[[i]]):\n there is no package called 'mclust'\n",
     "output_type": "error",
     "traceback": [
      "Error: package or namespace load failed for 'arulesViz' in loadNamespace(i, c(lib.loc, .libPaths()), versionCheck = vI[[i]]):\n there is no package called 'mclust'\nTraceback:\n",
      "1. library(arulesViz)",
      "2. tryCatch({\n .     attr(package, \"LibPath\") <- which.lib.loc\n .     ns <- loadNamespace(package, lib.loc)\n .     env <- attachNamespace(ns, pos = pos, deps)\n . }, error = function(e) {\n .     P <- if (!is.null(cc <- conditionCall(e))) \n .         paste(\" in\", deparse(cc)[1L])\n .     else \"\"\n .     msg <- gettextf(\"package or namespace load failed for %s%s:\\n %s\", \n .         sQuote(package), P, conditionMessage(e))\n .     if (logical.return) \n .         message(paste(\"Error:\", msg), domain = NA)\n .     else stop(msg, call. = FALSE, domain = NA)\n . })",
      "3. tryCatchList(expr, classes, parentenv, handlers)",
      "4. tryCatchOne(expr, names, parentenv, handlers[[1L]])",
      "5. value[[3L]](cond)",
      "6. stop(msg, call. = FALSE, domain = NA)"
     ]
    }
   ],
   "source": [
    "install.packages(\"arulesViz\")\n"
   ]
  },
  {
   "cell_type": "code",
   "execution_count": 26,
   "metadata": {},
   "outputs": [
    {
     "name": "stderr",
     "output_type": "stream",
     "text": [
      "Package 'mclust' version 5.3\n",
      "Type 'citation(\"mclust\")' for citing this R package in publications.\n"
     ]
    }
   ],
   "source": [
    "library(mclust)"
   ]
  },
  {
   "cell_type": "code",
   "execution_count": 27,
   "metadata": {},
   "outputs": [],
   "source": [
    "library(arulesViz)"
   ]
  },
  {
   "cell_type": "code",
   "execution_count": 28,
   "metadata": {
    "scrolled": true
   },
   "outputs": [
    {
     "name": "stdout",
     "output_type": "stream",
     "text": [
      "Apriori\n",
      "\n",
      "Parameter specification:\n",
      " confidence minval smax arem  aval originalSupport maxtime support minlen\n",
      "        0.3    0.1    1 none FALSE            TRUE       5   0.005      1\n",
      " maxlen target   ext\n",
      "     10  rules FALSE\n",
      "\n",
      "Algorithmic control:\n",
      " filter tree heap memopt load sort verbose\n",
      "    0.1 TRUE TRUE  FALSE TRUE    2    TRUE\n",
      "\n",
      "Absolute minimum support count: 49 \n",
      "\n",
      "set item appearances ...[0 item(s)] done [0.00s].\n",
      "set transactions ...[169 item(s), 9835 transaction(s)] done [0.00s].\n",
      "sorting and recoding items ... [120 item(s)] done [0.00s].\n",
      "creating transaction tree ... done [0.02s].\n",
      "checking subsets of size 1 2 3 4 done [0.00s].\n",
      "writing ... [482 rule(s)] done [0.00s].\n",
      "creating S4 object  ... done [0.00s].\n"
     ]
    }
   ],
   "source": [
    "G_arulesViz<-apriori(Groceries, parameter=list(support=0.005, confidence=0.3))"
   ]
  },
  {
   "cell_type": "code",
   "execution_count": 29,
   "metadata": {
    "scrolled": true
   },
   "outputs": [
    {
     "data": {
      "text/plain": [
       "set of 482 rules "
      ]
     },
     "metadata": {},
     "output_type": "display_data"
    },
    {
     "name": "stdout",
     "output_type": "stream",
     "text": [
      "    lhs                     rhs              support confidence     lift\n",
      "[1] {tropical fruit,                                                    \n",
      "     root vegetables,                                                   \n",
      "     yogurt}             => {whole milk} 0.005693950  0.7000000 2.739554\n",
      "[2] {pip fruit,                                                         \n",
      "     root vegetables,                                                   \n",
      "     other vegetables}   => {whole milk} 0.005490595  0.6750000 2.641713\n",
      "[3] {butter,                                                            \n",
      "     whipped/sour cream} => {whole milk} 0.006710727  0.6600000 2.583008\n",
      "[4] {pip fruit,                                                         \n",
      "     whipped/sour cream} => {whole milk} 0.005998983  0.6483516 2.537421\n",
      "[5] {butter,                                                            \n",
      "     yogurt}             => {whole milk} 0.009354347  0.6388889 2.500387\n",
      "[6] {root vegetables,                                                   \n",
      "     butter}             => {whole milk} 0.008235892  0.6377953 2.496107\n"
     ]
    }
   ],
   "source": [
    "G_arulesViz\n",
    "inspect(head(G_arulesViz,by=\"confidence\"))"
   ]
  },
  {
   "cell_type": "markdown",
   "metadata": {},
   "source": [
    "* support 와 confidence 를 기준으로 plotting"
   ]
  },
  {
   "cell_type": "code",
   "execution_count": 30,
   "metadata": {
    "scrolled": false
   },
   "outputs": [
    {
     "data": {
      "image/png": "[encoded data removed]",
      "text/plain": [
       "plot without title"
      ]
     },
     "metadata": {},
     "output_type": "display_data"
    }
   ],
   "source": [
    "plot(G_arulesViz)"
   ]
  },
  {
   "cell_type": "markdown",
   "metadata": {},
   "source": [
    "* #### interactive = TRUE 를 이용하면 inspect, filter, zoom in/out 으로 쉽게 특정 조건에 해당하는 데이터를 파악할 수 있다."
   ]
  },
  {
   "cell_type": "code",
   "execution_count": 31,
   "metadata": {},
   "outputs": [
    {
     "name": "stdout",
     "output_type": "stream",
     "text": [
      "Interactive mode.\n",
      "Select a region with two clicks!\n"
     ]
    },
    {
     "ename": "ERROR",
     "evalue": "Error in convertUnit(x, unitTo, \"x\", \"location\", \"x\", \"location\", valueOnly = valueOnly): 'x' argument must be a unit object\n",
     "output_type": "error",
     "traceback": [
      "Error in convertUnit(x, unitTo, \"x\", \"location\", \"x\", \"location\", valueOnly = valueOnly): 'x' argument must be a unit object\nTraceback:\n",
      "1. plot(G_arulesViz, interactive = TRUE)",
      "2. plot.rules(G_arulesViz, interactive = TRUE)",
      "3. scatterplot_arules(x, measure = measure, shading = shading, control, \n .     ...)",
      "4. gGetEvent(gI)",
      "5. whichButton(gI, location)",
      "6. convertX(location$x, \"npc\", valueOnly = TRUE)",
      "7. convertUnit(x, unitTo, \"x\", \"location\", \"x\", \"location\", valueOnly = valueOnly)",
      "8. stop(\"'x' argument must be a unit object\")"
     ]
    },
    {
     "data": {
      "image/png": "[encoded data removed]",
      "text/plain": [
       "plot without title"
      ]
     },
     "metadata": {},
     "output_type": "display_data"
    }
   ],
   "source": [
    "plot(G_arulesViz,interactive=TRUE)"
   ]
  },
  {
   "cell_type": "code",
   "execution_count": 32,
   "metadata": {},
   "outputs": [
    {
     "name": "stdout",
     "output_type": "stream",
     "text": [
      "Interactive mode.\n",
      "Select a region with two clicks!\n"
     ]
    },
    {
     "ename": "ERROR",
     "evalue": "Error in convertUnit(x, unitTo, \"x\", \"location\", \"x\", \"location\", valueOnly = valueOnly): 'x' argument must be a unit object\n",
     "output_type": "error",
     "traceback": [
      "Error in convertUnit(x, unitTo, \"x\", \"location\", \"x\", \"location\", valueOnly = valueOnly): 'x' argument must be a unit object\nTraceback:\n",
      "1. plot(G_arulesViz, measure = c(\"support\", \"lift\"), shading = \"confidence\", \n .     interactive = TRUE)",
      "2. plot.rules(G_arulesViz, measure = c(\"support\", \"lift\"), shading = \"confidence\", \n .     interactive = TRUE)",
      "3. scatterplot_arules(x, measure = measure, shading = shading, control, \n .     ...)",
      "4. gGetEvent(gI)",
      "5. whichButton(gI, location)",
      "6. convertX(location$x, \"npc\", valueOnly = TRUE)",
      "7. convertUnit(x, unitTo, \"x\", \"location\", \"x\", \"location\", valueOnly = valueOnly)",
      "8. stop(\"'x' argument must be a unit object\")"
     ]
    },
    {
     "data": {
      "image/png": "[encoded data removed]",
      "text/plain": [
       "plot without title"
      ]
     },
     "metadata": {},
     "output_type": "display_data"
    }
   ],
   "source": [
    "plot(G_arulesViz, measure=c(\"support\", \"lift\"), shading=\"confidence\", interactive=TRUE)"
   ]
  },
  {
   "cell_type": "code",
   "execution_count": 33,
   "metadata": {},
   "outputs": [
    {
     "data": {
      "text/plain": [
       "set of 113 rules "
      ]
     },
     "metadata": {},
     "output_type": "display_data"
    }
   ],
   "source": [
    "G_arulesViz_sub1 <- G_arulesViz[quality(G_arulesViz)$confidence > 0.5]\n",
    "G_arulesViz_sub1"
   ]
  }
 ],
 "metadata": {
  "kernelspec": {
   "display_name": "R",
   "language": "R",
   "name": "ir"
  },
  "language_info": {
   "codemirror_mode": "r",
   "file_extension": ".r",
   "mimetype": "text/x-r-source",
   "name": "R",
   "pygments_lexer": "r",
   "version": "3.4.3"
  }
 },
 "nbformat": 4,
 "nbformat_minor": 2
}
